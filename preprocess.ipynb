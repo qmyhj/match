{
 "cells": [
  {
   "cell_type": "code",
   "execution_count": 2,
   "metadata": {},
   "outputs": [],
   "source": [
    "import numpy as np\n",
    "import pandas as pd\n",
    "import matplotlib.pyplot as plt\n",
    "import seaborn as sns\n",
    "%matplotlib inline\n",
    "import warnings\n",
    "warnings.filterwarnings(\"ignore\")"
   ]
  },
  {
   "cell_type": "code",
   "execution_count": 2,
   "metadata": {},
   "outputs": [
    {
     "data": {
      "text/html": [
       "<div>\n",
       "<style scoped>\n",
       "    .dataframe tbody tr th:only-of-type {\n",
       "        vertical-align: middle;\n",
       "    }\n",
       "\n",
       "    .dataframe tbody tr th {\n",
       "        vertical-align: top;\n",
       "    }\n",
       "\n",
       "    .dataframe thead th {\n",
       "        text-align: right;\n",
       "    }\n",
       "</style>\n",
       "<table border=\"1\" class=\"dataframe\">\n",
       "  <thead>\n",
       "    <tr style=\"text-align: right;\">\n",
       "      <th></th>\n",
       "      <th>time</th>\n",
       "      <th>user_id</th>\n",
       "      <th>creative_id</th>\n",
       "      <th>click_times</th>\n",
       "    </tr>\n",
       "  </thead>\n",
       "  <tbody>\n",
       "    <tr>\n",
       "      <th>0</th>\n",
       "      <td>9</td>\n",
       "      <td>30920</td>\n",
       "      <td>567330</td>\n",
       "      <td>1</td>\n",
       "    </tr>\n",
       "    <tr>\n",
       "      <th>1</th>\n",
       "      <td>65</td>\n",
       "      <td>30920</td>\n",
       "      <td>3072255</td>\n",
       "      <td>1</td>\n",
       "    </tr>\n",
       "    <tr>\n",
       "      <th>2</th>\n",
       "      <td>56</td>\n",
       "      <td>30920</td>\n",
       "      <td>2361327</td>\n",
       "      <td>1</td>\n",
       "    </tr>\n",
       "    <tr>\n",
       "      <th>3</th>\n",
       "      <td>6</td>\n",
       "      <td>309204</td>\n",
       "      <td>325532</td>\n",
       "      <td>1</td>\n",
       "    </tr>\n",
       "    <tr>\n",
       "      <th>4</th>\n",
       "      <td>59</td>\n",
       "      <td>309204</td>\n",
       "      <td>2746730</td>\n",
       "      <td>1</td>\n",
       "    </tr>\n",
       "  </tbody>\n",
       "</table>\n",
       "</div>"
      ],
      "text/plain": [
       "   time  user_id  creative_id  click_times\n",
       "0     9    30920       567330            1\n",
       "1    65    30920      3072255            1\n",
       "2    56    30920      2361327            1\n",
       "3     6   309204       325532            1\n",
       "4    59   309204      2746730            1"
      ]
     },
     "execution_count": 2,
     "metadata": {},
     "output_type": "execute_result"
    }
   ],
   "source": [
    "df_log = pd.read_csv('train_preliminary/click_log.csv')\n",
    "df_log.head()"
   ]
  },
  {
   "cell_type": "code",
   "execution_count": 3,
   "metadata": {},
   "outputs": [
    {
     "data": {
      "text/plain": [
       "(30082771, 4)"
      ]
     },
     "execution_count": 3,
     "metadata": {},
     "output_type": "execute_result"
    }
   ],
   "source": [
    "df_log.shape"
   ]
  },
  {
   "cell_type": "code",
   "execution_count": 6,
   "metadata": {},
   "outputs": [
    {
     "data": {
      "text/plain": [
       "time           0\n",
       "user_id        0\n",
       "creative_id    0\n",
       "click_times    0\n",
       "dtype: int64"
      ]
     },
     "execution_count": 6,
     "metadata": {},
     "output_type": "execute_result"
    }
   ],
   "source": [
    "df_log.isnull().sum()"
   ]
  },
  {
   "cell_type": "code",
   "execution_count": 7,
   "metadata": {},
   "outputs": [
    {
     "data": {
      "text/plain": [
       "time                91\n",
       "user_id         900000\n",
       "creative_id    4445718\n",
       "click_times        152\n",
       "dtype: int64"
      ]
     },
     "execution_count": 7,
     "metadata": {},
     "output_type": "execute_result"
    }
   ],
   "source": [
    "df_log.max()"
   ]
  },
  {
   "cell_type": "code",
   "execution_count": 8,
   "metadata": {
    "scrolled": true
   },
   "outputs": [
    {
     "data": {
      "text/plain": [
       "1      28426543\n",
       "2       1507449\n",
       "3         90356\n",
       "4         43047\n",
       "5          7507\n",
       "6          3512\n",
       "7          1529\n",
       "8          1486\n",
       "9           452\n",
       "10          270\n",
       "11          172\n",
       "12          116\n",
       "13           76\n",
       "14           62\n",
       "15           36\n",
       "16           34\n",
       "17           22\n",
       "18           21\n",
       "21           17\n",
       "20           13\n",
       "19           10\n",
       "22            5\n",
       "23            4\n",
       "26            3\n",
       "32            3\n",
       "27            3\n",
       "30            3\n",
       "24            3\n",
       "25            2\n",
       "29            2\n",
       "33            2\n",
       "37            2\n",
       "28            1\n",
       "67            1\n",
       "34            1\n",
       "35            1\n",
       "36            1\n",
       "43            1\n",
       "44            1\n",
       "50            1\n",
       "152           1\n",
       "Name: click_times, dtype: int64"
      ]
     },
     "execution_count": 8,
     "metadata": {},
     "output_type": "execute_result"
    }
   ],
   "source": [
    "df_log.click_times.value_counts()"
   ]
  },
  {
   "cell_type": "code",
   "execution_count": 9,
   "metadata": {},
   "outputs": [
    {
     "data": {
      "text/html": [
       "<div>\n",
       "<style scoped>\n",
       "    .dataframe tbody tr th:only-of-type {\n",
       "        vertical-align: middle;\n",
       "    }\n",
       "\n",
       "    .dataframe tbody tr th {\n",
       "        vertical-align: top;\n",
       "    }\n",
       "\n",
       "    .dataframe thead th {\n",
       "        text-align: right;\n",
       "    }\n",
       "</style>\n",
       "<table border=\"1\" class=\"dataframe\">\n",
       "  <thead>\n",
       "    <tr style=\"text-align: right;\">\n",
       "      <th></th>\n",
       "      <th>user_id</th>\n",
       "      <th>age</th>\n",
       "      <th>gender</th>\n",
       "    </tr>\n",
       "  </thead>\n",
       "  <tbody>\n",
       "    <tr>\n",
       "      <th>0</th>\n",
       "      <td>1</td>\n",
       "      <td>4</td>\n",
       "      <td>1</td>\n",
       "    </tr>\n",
       "    <tr>\n",
       "      <th>1</th>\n",
       "      <td>2</td>\n",
       "      <td>10</td>\n",
       "      <td>1</td>\n",
       "    </tr>\n",
       "    <tr>\n",
       "      <th>2</th>\n",
       "      <td>3</td>\n",
       "      <td>7</td>\n",
       "      <td>2</td>\n",
       "    </tr>\n",
       "    <tr>\n",
       "      <th>3</th>\n",
       "      <td>4</td>\n",
       "      <td>5</td>\n",
       "      <td>1</td>\n",
       "    </tr>\n",
       "    <tr>\n",
       "      <th>4</th>\n",
       "      <td>5</td>\n",
       "      <td>4</td>\n",
       "      <td>1</td>\n",
       "    </tr>\n",
       "  </tbody>\n",
       "</table>\n",
       "</div>"
      ],
      "text/plain": [
       "   user_id  age  gender\n",
       "0        1    4       1\n",
       "1        2   10       1\n",
       "2        3    7       2\n",
       "3        4    5       1\n",
       "4        5    4       1"
      ]
     },
     "execution_count": 9,
     "metadata": {},
     "output_type": "execute_result"
    }
   ],
   "source": [
    "df_user = pd.read_csv('train_preliminary/user.csv')\n",
    "df_user.head()"
   ]
  },
  {
   "cell_type": "code",
   "execution_count": 10,
   "metadata": {},
   "outputs": [
    {
     "name": "stdout",
     "output_type": "stream",
     "text": [
      "(900000, 3)\n"
     ]
    },
    {
     "data": {
      "text/plain": [
       "user_id    0\n",
       "age        0\n",
       "gender     0\n",
       "dtype: int64"
      ]
     },
     "execution_count": 10,
     "metadata": {},
     "output_type": "execute_result"
    }
   ],
   "source": [
    "print(df_user.shape)\n",
    "df_user.isnull().sum()"
   ]
  },
  {
   "cell_type": "code",
   "execution_count": 11,
   "metadata": {},
   "outputs": [
    {
     "data": {
      "text/plain": [
       "(3     202909\n",
       " 4     150578\n",
       " 2     149271\n",
       " 5     130667\n",
       " 6     101720\n",
       " 7      66711\n",
       " 1      35195\n",
       " 8      31967\n",
       " 9      19474\n",
       " 10     11508\n",
       " Name: age, dtype: int64, 1    602610\n",
       " 2    297390\n",
       " Name: gender, dtype: int64)"
      ]
     },
     "execution_count": 11,
     "metadata": {},
     "output_type": "execute_result"
    }
   ],
   "source": [
    "df_user.age.value_counts(), df_user.gender.value_counts()"
   ]
  },
  {
   "cell_type": "code",
   "execution_count": 12,
   "metadata": {},
   "outputs": [
    {
     "data": {
      "text/html": [
       "<div>\n",
       "<style scoped>\n",
       "    .dataframe tbody tr th:only-of-type {\n",
       "        vertical-align: middle;\n",
       "    }\n",
       "\n",
       "    .dataframe tbody tr th {\n",
       "        vertical-align: top;\n",
       "    }\n",
       "\n",
       "    .dataframe thead th {\n",
       "        text-align: right;\n",
       "    }\n",
       "</style>\n",
       "<table border=\"1\" class=\"dataframe\">\n",
       "  <thead>\n",
       "    <tr style=\"text-align: right;\">\n",
       "      <th></th>\n",
       "      <th>creative_id</th>\n",
       "      <th>ad_id</th>\n",
       "      <th>product_id</th>\n",
       "      <th>product_category</th>\n",
       "      <th>advertiser_id</th>\n",
       "      <th>industry</th>\n",
       "    </tr>\n",
       "  </thead>\n",
       "  <tbody>\n",
       "    <tr>\n",
       "      <th>0</th>\n",
       "      <td>1</td>\n",
       "      <td>1</td>\n",
       "      <td>\\N</td>\n",
       "      <td>5</td>\n",
       "      <td>381</td>\n",
       "      <td>78</td>\n",
       "    </tr>\n",
       "    <tr>\n",
       "      <th>1</th>\n",
       "      <td>4</td>\n",
       "      <td>4</td>\n",
       "      <td>\\N</td>\n",
       "      <td>5</td>\n",
       "      <td>108</td>\n",
       "      <td>202</td>\n",
       "    </tr>\n",
       "    <tr>\n",
       "      <th>2</th>\n",
       "      <td>7</td>\n",
       "      <td>7</td>\n",
       "      <td>\\N</td>\n",
       "      <td>5</td>\n",
       "      <td>148</td>\n",
       "      <td>297</td>\n",
       "    </tr>\n",
       "    <tr>\n",
       "      <th>3</th>\n",
       "      <td>8</td>\n",
       "      <td>8</td>\n",
       "      <td>\\N</td>\n",
       "      <td>5</td>\n",
       "      <td>713</td>\n",
       "      <td>213</td>\n",
       "    </tr>\n",
       "    <tr>\n",
       "      <th>4</th>\n",
       "      <td>9</td>\n",
       "      <td>9</td>\n",
       "      <td>\\N</td>\n",
       "      <td>5</td>\n",
       "      <td>695</td>\n",
       "      <td>213</td>\n",
       "    </tr>\n",
       "  </tbody>\n",
       "</table>\n",
       "</div>"
      ],
      "text/plain": [
       "   creative_id  ad_id product_id  product_category  advertiser_id industry\n",
       "0            1      1         \\N                 5            381       78\n",
       "1            4      4         \\N                 5            108      202\n",
       "2            7      7         \\N                 5            148      297\n",
       "3            8      8         \\N                 5            713      213\n",
       "4            9      9         \\N                 5            695      213"
      ]
     },
     "execution_count": 12,
     "metadata": {},
     "output_type": "execute_result"
    }
   ],
   "source": [
    "df_ad = pd.read_csv('train_preliminary/ad.csv')\n",
    "df_ad.head()"
   ]
  },
  {
   "cell_type": "code",
   "execution_count": 14,
   "metadata": {},
   "outputs": [
    {
     "data": {
      "text/plain": [
       "creative_id         0\n",
       "ad_id               0\n",
       "product_id          0\n",
       "product_category    0\n",
       "advertiser_id       0\n",
       "industry            0\n",
       "dtype: int64"
      ]
     },
     "execution_count": 14,
     "metadata": {},
     "output_type": "execute_result"
    }
   ],
   "source": [
    "df_ad.isnull().sum()"
   ]
  },
  {
   "cell_type": "code",
   "execution_count": 17,
   "metadata": {},
   "outputs": [
    {
     "data": {
      "text/plain": [
       "36"
      ]
     },
     "execution_count": 17,
     "metadata": {},
     "output_type": "execute_result"
    }
   ],
   "source": [
    "(df_ad.creative_id == df_ad.ad_id).sum()"
   ]
  },
  {
   "cell_type": "code",
   "execution_count": 16,
   "metadata": {},
   "outputs": [
    {
     "data": {
      "text/plain": [
       "(2481135, 6)"
      ]
     },
     "execution_count": 16,
     "metadata": {},
     "output_type": "execute_result"
    }
   ],
   "source": [
    "df_ad.shape"
   ]
  },
  {
   "cell_type": "code",
   "execution_count": 18,
   "metadata": {},
   "outputs": [
    {
     "data": {
      "text/html": [
       "<div>\n",
       "<style scoped>\n",
       "    .dataframe tbody tr th:only-of-type {\n",
       "        vertical-align: middle;\n",
       "    }\n",
       "\n",
       "    .dataframe tbody tr th {\n",
       "        vertical-align: top;\n",
       "    }\n",
       "\n",
       "    .dataframe thead th {\n",
       "        text-align: right;\n",
       "    }\n",
       "</style>\n",
       "<table border=\"1\" class=\"dataframe\">\n",
       "  <thead>\n",
       "    <tr style=\"text-align: right;\">\n",
       "      <th></th>\n",
       "      <th>creative_id</th>\n",
       "      <th>ad_id</th>\n",
       "      <th>product_id</th>\n",
       "      <th>product_category</th>\n",
       "      <th>advertiser_id</th>\n",
       "      <th>industry</th>\n",
       "    </tr>\n",
       "  </thead>\n",
       "  <tbody>\n",
       "    <tr>\n",
       "      <th>34</th>\n",
       "      <td>65</td>\n",
       "      <td>64</td>\n",
       "      <td>4573</td>\n",
       "      <td>3</td>\n",
       "      <td>22</td>\n",
       "      <td>141</td>\n",
       "    </tr>\n",
       "    <tr>\n",
       "      <th>35</th>\n",
       "      <td>67</td>\n",
       "      <td>66</td>\n",
       "      <td>\\N</td>\n",
       "      <td>5</td>\n",
       "      <td>266</td>\n",
       "      <td>6</td>\n",
       "    </tr>\n",
       "    <tr>\n",
       "      <th>36</th>\n",
       "      <td>68</td>\n",
       "      <td>67</td>\n",
       "      <td>\\N</td>\n",
       "      <td>18</td>\n",
       "      <td>1064</td>\n",
       "      <td>25</td>\n",
       "    </tr>\n",
       "    <tr>\n",
       "      <th>37</th>\n",
       "      <td>69</td>\n",
       "      <td>68</td>\n",
       "      <td>\\N</td>\n",
       "      <td>18</td>\n",
       "      <td>1064</td>\n",
       "      <td>32</td>\n",
       "    </tr>\n",
       "    <tr>\n",
       "      <th>38</th>\n",
       "      <td>70</td>\n",
       "      <td>69</td>\n",
       "      <td>\\N</td>\n",
       "      <td>18</td>\n",
       "      <td>1064</td>\n",
       "      <td>32</td>\n",
       "    </tr>\n",
       "  </tbody>\n",
       "</table>\n",
       "</div>"
      ],
      "text/plain": [
       "    creative_id  ad_id product_id  product_category  advertiser_id industry\n",
       "34           65     64       4573                 3             22      141\n",
       "35           67     66         \\N                 5            266        6\n",
       "36           68     67         \\N                18           1064       25\n",
       "37           69     68         \\N                18           1064       32\n",
       "38           70     69         \\N                18           1064       32"
      ]
     },
     "execution_count": 18,
     "metadata": {},
     "output_type": "execute_result"
    }
   ],
   "source": [
    "df_ad[(df_ad.creative_id != df_ad.ad_id)].head()"
   ]
  },
  {
   "cell_type": "code",
   "execution_count": 20,
   "metadata": {},
   "outputs": [
    {
     "data": {
      "text/plain": [
       "(2481135, 2264190)"
      ]
     },
     "execution_count": 20,
     "metadata": {},
     "output_type": "execute_result"
    }
   ],
   "source": [
    "df_ad.creative_id.nunique(), df_ad.ad_id.nunique()"
   ]
  },
  {
   "cell_type": "code",
   "execution_count": 21,
   "metadata": {},
   "outputs": [
    {
     "data": {
      "text/plain": [
       "\\N       929524\n",
       "23        37705\n",
       "1766      33103\n",
       "1674      32395\n",
       "1064      30665\n",
       "136       29479\n",
       "1810      25195\n",
       "111       23236\n",
       "1261      21242\n",
       "1334      21185\n",
       "26858     19443\n",
       "1370      17642\n",
       "2258      15773\n",
       "2400      14720\n",
       "1469      14625\n",
       "1873      14079\n",
       "1567      11694\n",
       "643       11299\n",
       "2171      10657\n",
       "29664     10376\n",
       "1786      10243\n",
       "154       10182\n",
       "129        9359\n",
       "2031       8863\n",
       "1862       8077\n",
       "2103       6991\n",
       "2396       6545\n",
       "1036       6365\n",
       "27813      6122\n",
       "1849       6114\n",
       "          ...  \n",
       "26371         1\n",
       "7151          1\n",
       "12475         1\n",
       "38112         1\n",
       "29921         1\n",
       "41726         1\n",
       "35437         1\n",
       "30785         1\n",
       "43875         1\n",
       "29014         1\n",
       "39291         1\n",
       "42982         1\n",
       "24955         1\n",
       "24937         1\n",
       "38241         1\n",
       "9906          1\n",
       "27313         1\n",
       "39478         1\n",
       "30332         1\n",
       "28160         1\n",
       "44265         1\n",
       "40678         1\n",
       "15660         1\n",
       "40577         1\n",
       "11808         1\n",
       "43896         1\n",
       "42648         1\n",
       "22901         1\n",
       "41920         1\n",
       "13826         1\n",
       "Name: product_id, Length: 33273, dtype: int64"
      ]
     },
     "execution_count": 21,
     "metadata": {},
     "output_type": "execute_result"
    }
   ],
   "source": [
    "df_ad.product_id.value_counts()"
   ]
  },
  {
   "cell_type": "code",
   "execution_count": 27,
   "metadata": {},
   "outputs": [
    {
     "data": {
      "text/html": [
       "<div>\n",
       "<style scoped>\n",
       "    .dataframe tbody tr th:only-of-type {\n",
       "        vertical-align: middle;\n",
       "    }\n",
       "\n",
       "    .dataframe tbody tr th {\n",
       "        vertical-align: top;\n",
       "    }\n",
       "\n",
       "    .dataframe thead th {\n",
       "        text-align: right;\n",
       "    }\n",
       "</style>\n",
       "<table border=\"1\" class=\"dataframe\">\n",
       "  <thead>\n",
       "    <tr style=\"text-align: right;\">\n",
       "      <th></th>\n",
       "      <th>user_id</th>\n",
       "      <th>age</th>\n",
       "      <th>gender</th>\n",
       "      <th>time</th>\n",
       "      <th>creative_id</th>\n",
       "      <th>click_times</th>\n",
       "      <th>ad_id</th>\n",
       "      <th>product_id</th>\n",
       "      <th>product_category</th>\n",
       "      <th>advertiser_id</th>\n",
       "      <th>industry</th>\n",
       "    </tr>\n",
       "  </thead>\n",
       "  <tbody>\n",
       "    <tr>\n",
       "      <th>0</th>\n",
       "      <td>1</td>\n",
       "      <td>4</td>\n",
       "      <td>1</td>\n",
       "      <td>43</td>\n",
       "      <td>71691</td>\n",
       "      <td>1</td>\n",
       "      <td>66210</td>\n",
       "      <td>\\N</td>\n",
       "      <td>18</td>\n",
       "      <td>14681</td>\n",
       "      <td>326</td>\n",
       "    </tr>\n",
       "    <tr>\n",
       "      <th>1</th>\n",
       "      <td>1</td>\n",
       "      <td>4</td>\n",
       "      <td>1</td>\n",
       "      <td>20</td>\n",
       "      <td>821396</td>\n",
       "      <td>1</td>\n",
       "      <td>724607</td>\n",
       "      <td>\\N</td>\n",
       "      <td>5</td>\n",
       "      <td>7293</td>\n",
       "      <td>326</td>\n",
       "    </tr>\n",
       "    <tr>\n",
       "      <th>2</th>\n",
       "      <td>1</td>\n",
       "      <td>4</td>\n",
       "      <td>1</td>\n",
       "      <td>20</td>\n",
       "      <td>209778</td>\n",
       "      <td>1</td>\n",
       "      <td>188507</td>\n",
       "      <td>136</td>\n",
       "      <td>2</td>\n",
       "      <td>9702</td>\n",
       "      <td>6</td>\n",
       "    </tr>\n",
       "    <tr>\n",
       "      <th>3</th>\n",
       "      <td>1</td>\n",
       "      <td>4</td>\n",
       "      <td>1</td>\n",
       "      <td>20</td>\n",
       "      <td>877468</td>\n",
       "      <td>1</td>\n",
       "      <td>773445</td>\n",
       "      <td>\\N</td>\n",
       "      <td>5</td>\n",
       "      <td>29455</td>\n",
       "      <td>106</td>\n",
       "    </tr>\n",
       "    <tr>\n",
       "      <th>4</th>\n",
       "      <td>1</td>\n",
       "      <td>4</td>\n",
       "      <td>1</td>\n",
       "      <td>64</td>\n",
       "      <td>3068256</td>\n",
       "      <td>1</td>\n",
       "      <td>2638858</td>\n",
       "      <td>1454</td>\n",
       "      <td>2</td>\n",
       "      <td>23575</td>\n",
       "      <td>238</td>\n",
       "    </tr>\n",
       "  </tbody>\n",
       "</table>\n",
       "</div>"
      ],
      "text/plain": [
       "   user_id  age  gender  time  creative_id  click_times    ad_id product_id  \\\n",
       "0        1    4       1    43        71691            1    66210         \\N   \n",
       "1        1    4       1    20       821396            1   724607         \\N   \n",
       "2        1    4       1    20       209778            1   188507        136   \n",
       "3        1    4       1    20       877468            1   773445         \\N   \n",
       "4        1    4       1    64      3068256            1  2638858       1454   \n",
       "\n",
       "   product_category  advertiser_id industry  \n",
       "0                18          14681      326  \n",
       "1                 5           7293      326  \n",
       "2                 2           9702        6  \n",
       "3                 5          29455      106  \n",
       "4                 2          23575      238  "
      ]
     },
     "execution_count": 27,
     "metadata": {},
     "output_type": "execute_result"
    }
   ],
   "source": [
    "df = pd.merge(df_user, df_log, on='user_id')\n",
    "df = pd.merge(df, df_ad, how='left', on='creative_id')\n",
    "df.head()"
   ]
  },
  {
   "cell_type": "code",
   "execution_count": 31,
   "metadata": {},
   "outputs": [
    {
     "data": {
      "text/plain": [
       "(30082771, 11)"
      ]
     },
     "execution_count": 31,
     "metadata": {},
     "output_type": "execute_result"
    }
   ],
   "source": [
    "df.shape"
   ]
  },
  {
   "cell_type": "code",
   "execution_count": 33,
   "metadata": {},
   "outputs": [
    {
     "data": {
      "text/plain": [
       "(1    20547573\n",
       " 2     9535198\n",
       " Name: gender, dtype: int64, 3     6586194\n",
       " 2     5142384\n",
       " 4     4907754\n",
       " 5     4295201\n",
       " 6     3340626\n",
       " 7     2204348\n",
       " 1     1392097\n",
       " 8     1065498\n",
       " 9      685085\n",
       " 10     463584\n",
       " Name: age, dtype: int64)"
      ]
     },
     "execution_count": 33,
     "metadata": {},
     "output_type": "execute_result"
    }
   ],
   "source": [
    "df.gender.value_counts(), df.age.value_counts()"
   ]
  },
  {
   "cell_type": "markdown",
   "metadata": {},
   "source": [
    "### 缺失列同一标记 product_id, industry"
   ]
  },
  {
   "cell_type": "code",
   "execution_count": 5,
   "metadata": {},
   "outputs": [],
   "source": [
    "def process_nan(x):\n",
    "    try:\n",
    "        x = int(x)\n",
    "    except:\n",
    "        x = 0\n",
    "    return x\n",
    "# df['product_id'] = df['product_id'].apply(process_nan)\n",
    "# df['industry'] = df['industry'].apply(process_nan)"
   ]
  },
  {
   "cell_type": "code",
   "execution_count": 57,
   "metadata": {},
   "outputs": [
    {
     "data": {
      "text/html": [
       "<div>\n",
       "<style scoped>\n",
       "    .dataframe tbody tr th:only-of-type {\n",
       "        vertical-align: middle;\n",
       "    }\n",
       "\n",
       "    .dataframe tbody tr th {\n",
       "        vertical-align: top;\n",
       "    }\n",
       "\n",
       "    .dataframe thead th {\n",
       "        text-align: right;\n",
       "    }\n",
       "</style>\n",
       "<table border=\"1\" class=\"dataframe\">\n",
       "  <thead>\n",
       "    <tr style=\"text-align: right;\">\n",
       "      <th></th>\n",
       "      <th>user_id</th>\n",
       "      <th>age</th>\n",
       "      <th>gender</th>\n",
       "      <th>time</th>\n",
       "      <th>creative_id</th>\n",
       "      <th>click_times</th>\n",
       "      <th>ad_id</th>\n",
       "      <th>product_id</th>\n",
       "      <th>product_category</th>\n",
       "      <th>advertiser_id</th>\n",
       "      <th>industry</th>\n",
       "    </tr>\n",
       "  </thead>\n",
       "  <tbody>\n",
       "    <tr>\n",
       "      <th>0</th>\n",
       "      <td>1</td>\n",
       "      <td>4</td>\n",
       "      <td>1</td>\n",
       "      <td>43</td>\n",
       "      <td>71691</td>\n",
       "      <td>1</td>\n",
       "      <td>66210</td>\n",
       "      <td>0</td>\n",
       "      <td>18</td>\n",
       "      <td>14681</td>\n",
       "      <td>326</td>\n",
       "    </tr>\n",
       "    <tr>\n",
       "      <th>1</th>\n",
       "      <td>1</td>\n",
       "      <td>4</td>\n",
       "      <td>1</td>\n",
       "      <td>20</td>\n",
       "      <td>821396</td>\n",
       "      <td>1</td>\n",
       "      <td>724607</td>\n",
       "      <td>0</td>\n",
       "      <td>5</td>\n",
       "      <td>7293</td>\n",
       "      <td>326</td>\n",
       "    </tr>\n",
       "    <tr>\n",
       "      <th>2</th>\n",
       "      <td>1</td>\n",
       "      <td>4</td>\n",
       "      <td>1</td>\n",
       "      <td>20</td>\n",
       "      <td>209778</td>\n",
       "      <td>1</td>\n",
       "      <td>188507</td>\n",
       "      <td>136</td>\n",
       "      <td>2</td>\n",
       "      <td>9702</td>\n",
       "      <td>6</td>\n",
       "    </tr>\n",
       "    <tr>\n",
       "      <th>3</th>\n",
       "      <td>1</td>\n",
       "      <td>4</td>\n",
       "      <td>1</td>\n",
       "      <td>20</td>\n",
       "      <td>877468</td>\n",
       "      <td>1</td>\n",
       "      <td>773445</td>\n",
       "      <td>0</td>\n",
       "      <td>5</td>\n",
       "      <td>29455</td>\n",
       "      <td>106</td>\n",
       "    </tr>\n",
       "    <tr>\n",
       "      <th>4</th>\n",
       "      <td>1</td>\n",
       "      <td>4</td>\n",
       "      <td>1</td>\n",
       "      <td>64</td>\n",
       "      <td>3068256</td>\n",
       "      <td>1</td>\n",
       "      <td>2638858</td>\n",
       "      <td>1454</td>\n",
       "      <td>2</td>\n",
       "      <td>23575</td>\n",
       "      <td>238</td>\n",
       "    </tr>\n",
       "  </tbody>\n",
       "</table>\n",
       "</div>"
      ],
      "text/plain": [
       "   user_id  age  gender  time  creative_id  click_times    ad_id  product_id  \\\n",
       "0        1    4       1    43        71691            1    66210           0   \n",
       "1        1    4       1    20       821396            1   724607           0   \n",
       "2        1    4       1    20       209778            1   188507         136   \n",
       "3        1    4       1    20       877468            1   773445           0   \n",
       "4        1    4       1    64      3068256            1  2638858        1454   \n",
       "\n",
       "   product_category  advertiser_id  industry  \n",
       "0                18          14681       326  \n",
       "1                 5           7293       326  \n",
       "2                 2           9702         6  \n",
       "3                 5          29455       106  \n",
       "4                 2          23575       238  "
      ]
     },
     "execution_count": 57,
     "metadata": {},
     "output_type": "execute_result"
    }
   ],
   "source": [
    "df.head()"
   ]
  },
  {
   "cell_type": "code",
   "execution_count": 58,
   "metadata": {},
   "outputs": [
    {
     "data": {
      "text/plain": [
       "user_id              900000\n",
       "age                      10\n",
       "gender                    2\n",
       "time                     91\n",
       "creative_id         4445718\n",
       "click_times             152\n",
       "ad_id               3812200\n",
       "product_id            44313\n",
       "product_category         18\n",
       "advertiser_id         62965\n",
       "industry                335\n",
       "dtype: int64"
      ]
     },
     "execution_count": 58,
     "metadata": {},
     "output_type": "execute_result"
    }
   ],
   "source": [
    "df.max()"
   ]
  },
  {
   "cell_type": "code",
   "execution_count": 64,
   "metadata": {},
   "outputs": [
    {
     "data": {
      "text/plain": [
       "1"
      ]
     },
     "execution_count": 64,
     "metadata": {},
     "output_type": "execute_result"
    }
   ],
   "source": [
    "df.product_category.min()"
   ]
  },
  {
   "cell_type": "code",
   "execution_count": 212,
   "metadata": {},
   "outputs": [
    {
     "data": {
      "text/plain": [
       "1355969"
      ]
     },
     "execution_count": 212,
     "metadata": {},
     "output_type": "execute_result"
    }
   ],
   "source": [
    "x = df.creative_id.value_counts()\n",
    "x[x > 1].count()"
   ]
  },
  {
   "cell_type": "code",
   "execution_count": 218,
   "metadata": {},
   "outputs": [
    {
     "data": {
      "text/plain": [
       "597662"
      ]
     },
     "execution_count": 218,
     "metadata": {},
     "output_type": "execute_result"
    }
   ],
   "source": [
    "x[x > 4].count()"
   ]
  },
  {
   "cell_type": "markdown",
   "metadata": {},
   "source": [
    "### 处理click_times列异常值"
   ]
  },
  {
   "cell_type": "code",
   "execution_count": 49,
   "metadata": {},
   "outputs": [
    {
     "data": {
      "text/plain": [
       "0.9000    1.0\n",
       "0.9500    2.0\n",
       "0.9800    2.0\n",
       "0.9900    2.0\n",
       "0.9999    7.0\n",
       "Name: click_times, dtype: float64"
      ]
     },
     "execution_count": 49,
     "metadata": {},
     "output_type": "execute_result"
    }
   ],
   "source": [
    "df.click_times.quantile([0.9, 0.95, 0.98, 0.99, 0.9999])"
   ]
  },
  {
   "cell_type": "code",
   "execution_count": 59,
   "metadata": {},
   "outputs": [],
   "source": [
    "df['click_times'] = df.click_times.apply(lambda x: 10 if x > 10 else x)"
   ]
  },
  {
   "cell_type": "markdown",
   "metadata": {},
   "source": [
    "### creative_id, ad_id 特征hash "
   ]
  },
  {
   "cell_type": "code",
   "execution_count": 63,
   "metadata": {},
   "outputs": [
    {
     "data": {
      "text/plain": [
       "0.10     1.0\n",
       "0.30     1.0\n",
       "0.50     2.0\n",
       "0.70     3.0\n",
       "0.90    13.0\n",
       "0.95    27.0\n",
       "Name: creative_id, dtype: float64"
      ]
     },
     "execution_count": 63,
     "metadata": {},
     "output_type": "execute_result"
    }
   ],
   "source": [
    "df.creative_id.value_counts().quantile([0.1, 0.3, 0.5, 0.7, 0.9, 0.95])"
   ]
  },
  {
   "cell_type": "markdown",
   "metadata": {},
   "source": [
    "### age， gender, product_category, advertiser_id 序列index从0开始"
   ]
  },
  {
   "cell_type": "code",
   "execution_count": 65,
   "metadata": {},
   "outputs": [
    {
     "data": {
      "text/html": [
       "<div>\n",
       "<style scoped>\n",
       "    .dataframe tbody tr th:only-of-type {\n",
       "        vertical-align: middle;\n",
       "    }\n",
       "\n",
       "    .dataframe tbody tr th {\n",
       "        vertical-align: top;\n",
       "    }\n",
       "\n",
       "    .dataframe thead th {\n",
       "        text-align: right;\n",
       "    }\n",
       "</style>\n",
       "<table border=\"1\" class=\"dataframe\">\n",
       "  <thead>\n",
       "    <tr style=\"text-align: right;\">\n",
       "      <th></th>\n",
       "      <th>user_id</th>\n",
       "      <th>age</th>\n",
       "      <th>gender</th>\n",
       "      <th>time</th>\n",
       "      <th>creative_id</th>\n",
       "      <th>click_times</th>\n",
       "      <th>ad_id</th>\n",
       "      <th>product_id</th>\n",
       "      <th>product_category</th>\n",
       "      <th>advertiser_id</th>\n",
       "      <th>industry</th>\n",
       "    </tr>\n",
       "  </thead>\n",
       "  <tbody>\n",
       "    <tr>\n",
       "      <th>0</th>\n",
       "      <td>1</td>\n",
       "      <td>3</td>\n",
       "      <td>0</td>\n",
       "      <td>43</td>\n",
       "      <td>71691</td>\n",
       "      <td>1</td>\n",
       "      <td>66210</td>\n",
       "      <td>0</td>\n",
       "      <td>17</td>\n",
       "      <td>14680</td>\n",
       "      <td>326</td>\n",
       "    </tr>\n",
       "    <tr>\n",
       "      <th>1</th>\n",
       "      <td>1</td>\n",
       "      <td>3</td>\n",
       "      <td>0</td>\n",
       "      <td>20</td>\n",
       "      <td>821396</td>\n",
       "      <td>1</td>\n",
       "      <td>724607</td>\n",
       "      <td>0</td>\n",
       "      <td>4</td>\n",
       "      <td>7292</td>\n",
       "      <td>326</td>\n",
       "    </tr>\n",
       "    <tr>\n",
       "      <th>2</th>\n",
       "      <td>1</td>\n",
       "      <td>3</td>\n",
       "      <td>0</td>\n",
       "      <td>20</td>\n",
       "      <td>209778</td>\n",
       "      <td>1</td>\n",
       "      <td>188507</td>\n",
       "      <td>136</td>\n",
       "      <td>1</td>\n",
       "      <td>9701</td>\n",
       "      <td>6</td>\n",
       "    </tr>\n",
       "    <tr>\n",
       "      <th>3</th>\n",
       "      <td>1</td>\n",
       "      <td>3</td>\n",
       "      <td>0</td>\n",
       "      <td>20</td>\n",
       "      <td>877468</td>\n",
       "      <td>1</td>\n",
       "      <td>773445</td>\n",
       "      <td>0</td>\n",
       "      <td>4</td>\n",
       "      <td>29454</td>\n",
       "      <td>106</td>\n",
       "    </tr>\n",
       "    <tr>\n",
       "      <th>4</th>\n",
       "      <td>1</td>\n",
       "      <td>3</td>\n",
       "      <td>0</td>\n",
       "      <td>64</td>\n",
       "      <td>3068256</td>\n",
       "      <td>1</td>\n",
       "      <td>2638858</td>\n",
       "      <td>1454</td>\n",
       "      <td>1</td>\n",
       "      <td>23574</td>\n",
       "      <td>238</td>\n",
       "    </tr>\n",
       "  </tbody>\n",
       "</table>\n",
       "</div>"
      ],
      "text/plain": [
       "   user_id  age  gender  time  creative_id  click_times    ad_id  product_id  \\\n",
       "0        1    3       0    43        71691            1    66210           0   \n",
       "1        1    3       0    20       821396            1   724607           0   \n",
       "2        1    3       0    20       209778            1   188507         136   \n",
       "3        1    3       0    20       877468            1   773445           0   \n",
       "4        1    3       0    64      3068256            1  2638858        1454   \n",
       "\n",
       "   product_category  advertiser_id  industry  \n",
       "0                17          14680       326  \n",
       "1                 4           7292       326  \n",
       "2                 1           9701         6  \n",
       "3                 4          29454       106  \n",
       "4                 1          23574       238  "
      ]
     },
     "execution_count": 65,
     "metadata": {},
     "output_type": "execute_result"
    }
   ],
   "source": [
    "columns = ['age', 'gender', 'product_category', 'advertiser_id']\n",
    "for col in columns:\n",
    "    df[col] = df[col].apply(lambda x: x-1)\n",
    "df.head()"
   ]
  },
  {
   "cell_type": "code",
   "execution_count": 36,
   "metadata": {},
   "outputs": [
    {
     "data": {
      "text/plain": [
       "1    8443976\n",
       "2    4149136\n",
       "Name: gender, dtype: int64"
      ]
     },
     "execution_count": 36,
     "metadata": {},
     "output_type": "execute_result"
    }
   ],
   "source": [
    "df[df.product_id == r'\\N']['gender'].value_counts()"
   ]
  },
  {
   "cell_type": "markdown",
   "metadata": {},
   "source": [
    "### 划分训练集、测试集、验证集"
   ]
  },
  {
   "cell_type": "code",
   "execution_count": 70,
   "metadata": {},
   "outputs": [
    {
     "ename": "TypeError",
     "evalue": "'tuple' object is not callable",
     "output_type": "error",
     "traceback": [
      "\u001b[0;31m---------------------------------------------------------------------------\u001b[0m",
      "\u001b[0;31mTypeError\u001b[0m                                 Traceback (most recent call last)",
      "\u001b[0;32m<ipython-input-70-bd0b867ad3cd>\u001b[0m in \u001b[0;36m<module>\u001b[0;34m()\u001b[0m\n\u001b[1;32m     11\u001b[0m \u001b[0mdf_val\u001b[0m \u001b[0;34m=\u001b[0m \u001b[0mdf\u001b[0m\u001b[0;34m[\u001b[0m\u001b[0mdf\u001b[0m\u001b[0;34m.\u001b[0m\u001b[0muser_id\u001b[0m\u001b[0;34m.\u001b[0m\u001b[0misin\u001b[0m\u001b[0;34m(\u001b[0m\u001b[0mmask_val\u001b[0m\u001b[0;34m)\u001b[0m\u001b[0;34m]\u001b[0m\u001b[0;34m\u001b[0m\u001b[0m\n\u001b[1;32m     12\u001b[0m \u001b[0mdf_test\u001b[0m \u001b[0;34m=\u001b[0m \u001b[0mdf\u001b[0m\u001b[0;34m[\u001b[0m\u001b[0mdf\u001b[0m\u001b[0;34m.\u001b[0m\u001b[0muser_id\u001b[0m\u001b[0;34m.\u001b[0m\u001b[0misin\u001b[0m\u001b[0;34m(\u001b[0m\u001b[0mmask_test\u001b[0m\u001b[0;34m)\u001b[0m\u001b[0;34m]\u001b[0m\u001b[0;34m\u001b[0m\u001b[0m\n\u001b[0;32m---> 13\u001b[0;31m \u001b[0mdf_train\u001b[0m\u001b[0;34m.\u001b[0m\u001b[0mshape\u001b[0m\u001b[0;34m(\u001b[0m\u001b[0;34m)\u001b[0m\u001b[0;34m,\u001b[0m \u001b[0mdf_val\u001b[0m\u001b[0;34m.\u001b[0m\u001b[0mshape\u001b[0m\u001b[0;34m,\u001b[0m \u001b[0mdf_test\u001b[0m\u001b[0;34m.\u001b[0m\u001b[0mshape\u001b[0m\u001b[0;34m\u001b[0m\u001b[0m\n\u001b[0m",
      "\u001b[0;31mTypeError\u001b[0m: 'tuple' object is not callable"
     ]
    }
   ],
   "source": [
    "import random\n",
    "random.seed(2020)\n",
    "mask = np.arange(df.user_id.nunique())\n",
    "random.shuffle(mask)\n",
    "train_size = int(df.user_id.nunique() * 0.7)\n",
    "val_size = int(df.user_id.nunique() * 0.85)\n",
    "mask_train = set(mask[:train_size])\n",
    "mask_val = set(mask[train_size: val_size])\n",
    "mask_test = set(mask[val_size:])\n",
    "df_train = df[df.user_id.isin(mask_train)]\n",
    "df_val = df[df.user_id.isin(mask_val)]\n",
    "df_test = df[df.user_id.isin(mask_test)]"
   ]
  },
  {
   "cell_type": "code",
   "execution_count": 71,
   "metadata": {},
   "outputs": [
    {
     "data": {
      "text/plain": [
       "((21060930, 11), (4529108, 11), (4492721, 11))"
      ]
     },
     "execution_count": 71,
     "metadata": {},
     "output_type": "execute_result"
    }
   ],
   "source": [
    "df_train.shape, df_val.shape, df_test.shape"
   ]
  },
  {
   "cell_type": "code",
   "execution_count": 99,
   "metadata": {},
   "outputs": [],
   "source": [
    "# df_train.sort_values(by=['user_id', 'time'], inplace=True)\n",
    "df_train.to_csv('train.csv', index=False)"
   ]
  },
  {
   "cell_type": "code",
   "execution_count": 74,
   "metadata": {},
   "outputs": [
    {
     "data": {
      "text/html": [
       "<div>\n",
       "<style scoped>\n",
       "    .dataframe tbody tr th:only-of-type {\n",
       "        vertical-align: middle;\n",
       "    }\n",
       "\n",
       "    .dataframe tbody tr th {\n",
       "        vertical-align: top;\n",
       "    }\n",
       "\n",
       "    .dataframe thead th {\n",
       "        text-align: right;\n",
       "    }\n",
       "</style>\n",
       "<table border=\"1\" class=\"dataframe\">\n",
       "  <thead>\n",
       "    <tr style=\"text-align: right;\">\n",
       "      <th></th>\n",
       "      <th>user_id</th>\n",
       "      <th>age</th>\n",
       "      <th>gender</th>\n",
       "      <th>time</th>\n",
       "      <th>creative_id</th>\n",
       "      <th>click_times</th>\n",
       "      <th>ad_id</th>\n",
       "      <th>product_id</th>\n",
       "      <th>product_category</th>\n",
       "      <th>advertiser_id</th>\n",
       "      <th>industry</th>\n",
       "    </tr>\n",
       "  </thead>\n",
       "  <tbody>\n",
       "    <tr>\n",
       "      <th>17</th>\n",
       "      <td>2</td>\n",
       "      <td>9</td>\n",
       "      <td>0</td>\n",
       "      <td>10</td>\n",
       "      <td>63441</td>\n",
       "      <td>1</td>\n",
       "      <td>58788</td>\n",
       "      <td>87</td>\n",
       "      <td>1</td>\n",
       "      <td>22884</td>\n",
       "      <td>318</td>\n",
       "    </tr>\n",
       "    <tr>\n",
       "      <th>16</th>\n",
       "      <td>2</td>\n",
       "      <td>9</td>\n",
       "      <td>0</td>\n",
       "      <td>11</td>\n",
       "      <td>155822</td>\n",
       "      <td>1</td>\n",
       "      <td>139702</td>\n",
       "      <td>80</td>\n",
       "      <td>1</td>\n",
       "      <td>10685</td>\n",
       "      <td>238</td>\n",
       "    </tr>\n",
       "    <tr>\n",
       "      <th>28</th>\n",
       "      <td>2</td>\n",
       "      <td>9</td>\n",
       "      <td>0</td>\n",
       "      <td>14</td>\n",
       "      <td>39714</td>\n",
       "      <td>1</td>\n",
       "      <td>38066</td>\n",
       "      <td>129</td>\n",
       "      <td>1</td>\n",
       "      <td>18561</td>\n",
       "      <td>6</td>\n",
       "    </tr>\n",
       "    <tr>\n",
       "      <th>40</th>\n",
       "      <td>2</td>\n",
       "      <td>9</td>\n",
       "      <td>0</td>\n",
       "      <td>17</td>\n",
       "      <td>609050</td>\n",
       "      <td>1</td>\n",
       "      <td>541125</td>\n",
       "      <td>129</td>\n",
       "      <td>1</td>\n",
       "      <td>25931</td>\n",
       "      <td>6</td>\n",
       "    </tr>\n",
       "    <tr>\n",
       "      <th>26</th>\n",
       "      <td>2</td>\n",
       "      <td>9</td>\n",
       "      <td>0</td>\n",
       "      <td>28</td>\n",
       "      <td>13069</td>\n",
       "      <td>1</td>\n",
       "      <td>14495</td>\n",
       "      <td>1400</td>\n",
       "      <td>1</td>\n",
       "      <td>767</td>\n",
       "      <td>317</td>\n",
       "    </tr>\n",
       "  </tbody>\n",
       "</table>\n",
       "</div>"
      ],
      "text/plain": [
       "    user_id  age  gender  time  creative_id  click_times   ad_id  product_id  \\\n",
       "17        2    9       0    10        63441            1   58788          87   \n",
       "16        2    9       0    11       155822            1  139702          80   \n",
       "28        2    9       0    14        39714            1   38066         129   \n",
       "40        2    9       0    17       609050            1  541125         129   \n",
       "26        2    9       0    28        13069            1   14495        1400   \n",
       "\n",
       "    product_category  advertiser_id  industry  \n",
       "17                 1          22884       318  \n",
       "16                 1          10685       238  \n",
       "28                 1          18561         6  \n",
       "40                 1          25931         6  \n",
       "26                 1            767       317  "
      ]
     },
     "execution_count": 74,
     "metadata": {},
     "output_type": "execute_result"
    }
   ],
   "source": [
    "df_train.head()"
   ]
  },
  {
   "cell_type": "code",
   "execution_count": 106,
   "metadata": {},
   "outputs": [
    {
     "data": {
      "text/plain": [
       "(335, 0)"
      ]
     },
     "execution_count": 106,
     "metadata": {},
     "output_type": "execute_result"
    }
   ],
   "source": [
    "df_train.industry.max(), df_train.industry.min()"
   ]
  },
  {
   "cell_type": "code",
   "execution_count": 107,
   "metadata": {},
   "outputs": [
    {
     "data": {
      "text/plain": [
       "17"
      ]
     },
     "execution_count": 107,
     "metadata": {},
     "output_type": "execute_result"
    }
   ],
   "source": [
    "df_train.product_category.max()"
   ]
  },
  {
   "cell_type": "code",
   "execution_count": 100,
   "metadata": {},
   "outputs": [],
   "source": [
    "# df_val.sort_values(by=['user_id', 'time'], inplace=True)\n",
    "df_val.to_csv('val.csv', index=False)\n",
    "# df_test.sort_values(by=['user_id', 'time'], inplace=True)\n",
    "df_test.to_csv('test.csv', index=False)"
   ]
  },
  {
   "cell_type": "code",
   "execution_count": 76,
   "metadata": {},
   "outputs": [
    {
     "data": {
      "text/html": [
       "<div>\n",
       "<style scoped>\n",
       "    .dataframe tbody tr th:only-of-type {\n",
       "        vertical-align: middle;\n",
       "    }\n",
       "\n",
       "    .dataframe tbody tr th {\n",
       "        vertical-align: top;\n",
       "    }\n",
       "\n",
       "    .dataframe thead th {\n",
       "        text-align: right;\n",
       "    }\n",
       "</style>\n",
       "<table border=\"1\" class=\"dataframe\">\n",
       "  <thead>\n",
       "    <tr style=\"text-align: right;\">\n",
       "      <th></th>\n",
       "      <th>user_id</th>\n",
       "      <th>age</th>\n",
       "      <th>gender</th>\n",
       "      <th>time</th>\n",
       "      <th>creative_id</th>\n",
       "      <th>click_times</th>\n",
       "      <th>ad_id</th>\n",
       "      <th>product_id</th>\n",
       "      <th>product_category</th>\n",
       "      <th>advertiser_id</th>\n",
       "      <th>industry</th>\n",
       "    </tr>\n",
       "  </thead>\n",
       "  <tbody>\n",
       "    <tr>\n",
       "      <th>1</th>\n",
       "      <td>1</td>\n",
       "      <td>3</td>\n",
       "      <td>0</td>\n",
       "      <td>20</td>\n",
       "      <td>821396</td>\n",
       "      <td>1</td>\n",
       "      <td>724607</td>\n",
       "      <td>0</td>\n",
       "      <td>4</td>\n",
       "      <td>7292</td>\n",
       "      <td>326</td>\n",
       "    </tr>\n",
       "    <tr>\n",
       "      <th>2</th>\n",
       "      <td>1</td>\n",
       "      <td>3</td>\n",
       "      <td>0</td>\n",
       "      <td>20</td>\n",
       "      <td>209778</td>\n",
       "      <td>1</td>\n",
       "      <td>188507</td>\n",
       "      <td>136</td>\n",
       "      <td>1</td>\n",
       "      <td>9701</td>\n",
       "      <td>6</td>\n",
       "    </tr>\n",
       "    <tr>\n",
       "      <th>3</th>\n",
       "      <td>1</td>\n",
       "      <td>3</td>\n",
       "      <td>0</td>\n",
       "      <td>20</td>\n",
       "      <td>877468</td>\n",
       "      <td>1</td>\n",
       "      <td>773445</td>\n",
       "      <td>0</td>\n",
       "      <td>4</td>\n",
       "      <td>29454</td>\n",
       "      <td>106</td>\n",
       "    </tr>\n",
       "    <tr>\n",
       "      <th>5</th>\n",
       "      <td>1</td>\n",
       "      <td>3</td>\n",
       "      <td>0</td>\n",
       "      <td>39</td>\n",
       "      <td>1683713</td>\n",
       "      <td>1</td>\n",
       "      <td>1458878</td>\n",
       "      <td>0</td>\n",
       "      <td>4</td>\n",
       "      <td>14667</td>\n",
       "      <td>326</td>\n",
       "    </tr>\n",
       "    <tr>\n",
       "      <th>12</th>\n",
       "      <td>1</td>\n",
       "      <td>3</td>\n",
       "      <td>0</td>\n",
       "      <td>40</td>\n",
       "      <td>122032</td>\n",
       "      <td>1</td>\n",
       "      <td>109959</td>\n",
       "      <td>1334</td>\n",
       "      <td>1</td>\n",
       "      <td>11410</td>\n",
       "      <td>0</td>\n",
       "    </tr>\n",
       "  </tbody>\n",
       "</table>\n",
       "</div>"
      ],
      "text/plain": [
       "    user_id  age  gender  time  creative_id  click_times    ad_id  product_id  \\\n",
       "1         1    3       0    20       821396            1   724607           0   \n",
       "2         1    3       0    20       209778            1   188507         136   \n",
       "3         1    3       0    20       877468            1   773445           0   \n",
       "5         1    3       0    39      1683713            1  1458878           0   \n",
       "12        1    3       0    40       122032            1   109959        1334   \n",
       "\n",
       "    product_category  advertiser_id  industry  \n",
       "1                  4           7292       326  \n",
       "2                  1           9701         6  \n",
       "3                  4          29454       106  \n",
       "5                  4          14667       326  \n",
       "12                 1          11410         0  "
      ]
     },
     "execution_count": 76,
     "metadata": {},
     "output_type": "execute_result"
    }
   ],
   "source": [
    "df_val.head()"
   ]
  },
  {
   "cell_type": "code",
   "execution_count": 91,
   "metadata": {},
   "outputs": [],
   "source": [
    "df_train.reset_index(inplace=True)\n",
    "# df_val.reset_index(inplace=True)\n",
    "# df_test.reset_index(inplace=True)"
   ]
  },
  {
   "cell_type": "code",
   "execution_count": 93,
   "metadata": {},
   "outputs": [
    {
     "data": {
      "text/html": [
       "<div>\n",
       "<style scoped>\n",
       "    .dataframe tbody tr th:only-of-type {\n",
       "        vertical-align: middle;\n",
       "    }\n",
       "\n",
       "    .dataframe tbody tr th {\n",
       "        vertical-align: top;\n",
       "    }\n",
       "\n",
       "    .dataframe thead th {\n",
       "        text-align: right;\n",
       "    }\n",
       "</style>\n",
       "<table border=\"1\" class=\"dataframe\">\n",
       "  <thead>\n",
       "    <tr style=\"text-align: right;\">\n",
       "      <th></th>\n",
       "      <th>user_id</th>\n",
       "      <th>age</th>\n",
       "      <th>gender</th>\n",
       "      <th>time</th>\n",
       "      <th>creative_id</th>\n",
       "      <th>click_times</th>\n",
       "      <th>ad_id</th>\n",
       "      <th>product_id</th>\n",
       "      <th>product_category</th>\n",
       "      <th>advertiser_id</th>\n",
       "      <th>industry</th>\n",
       "    </tr>\n",
       "  </thead>\n",
       "  <tbody>\n",
       "    <tr>\n",
       "      <th>0</th>\n",
       "      <td>2</td>\n",
       "      <td>9</td>\n",
       "      <td>0</td>\n",
       "      <td>10</td>\n",
       "      <td>63441</td>\n",
       "      <td>1</td>\n",
       "      <td>58788</td>\n",
       "      <td>87</td>\n",
       "      <td>1</td>\n",
       "      <td>22884</td>\n",
       "      <td>318</td>\n",
       "    </tr>\n",
       "    <tr>\n",
       "      <th>1</th>\n",
       "      <td>2</td>\n",
       "      <td>9</td>\n",
       "      <td>0</td>\n",
       "      <td>11</td>\n",
       "      <td>155822</td>\n",
       "      <td>1</td>\n",
       "      <td>139702</td>\n",
       "      <td>80</td>\n",
       "      <td>1</td>\n",
       "      <td>10685</td>\n",
       "      <td>238</td>\n",
       "    </tr>\n",
       "    <tr>\n",
       "      <th>2</th>\n",
       "      <td>2</td>\n",
       "      <td>9</td>\n",
       "      <td>0</td>\n",
       "      <td>14</td>\n",
       "      <td>39714</td>\n",
       "      <td>1</td>\n",
       "      <td>38066</td>\n",
       "      <td>129</td>\n",
       "      <td>1</td>\n",
       "      <td>18561</td>\n",
       "      <td>6</td>\n",
       "    </tr>\n",
       "    <tr>\n",
       "      <th>3</th>\n",
       "      <td>2</td>\n",
       "      <td>9</td>\n",
       "      <td>0</td>\n",
       "      <td>17</td>\n",
       "      <td>609050</td>\n",
       "      <td>1</td>\n",
       "      <td>541125</td>\n",
       "      <td>129</td>\n",
       "      <td>1</td>\n",
       "      <td>25931</td>\n",
       "      <td>6</td>\n",
       "    </tr>\n",
       "    <tr>\n",
       "      <th>4</th>\n",
       "      <td>2</td>\n",
       "      <td>9</td>\n",
       "      <td>0</td>\n",
       "      <td>28</td>\n",
       "      <td>13069</td>\n",
       "      <td>1</td>\n",
       "      <td>14495</td>\n",
       "      <td>1400</td>\n",
       "      <td>1</td>\n",
       "      <td>767</td>\n",
       "      <td>317</td>\n",
       "    </tr>\n",
       "  </tbody>\n",
       "</table>\n",
       "</div>"
      ],
      "text/plain": [
       "   user_id  age  gender  time  creative_id  click_times   ad_id  product_id  \\\n",
       "0        2    9       0    10        63441            1   58788          87   \n",
       "1        2    9       0    11       155822            1  139702          80   \n",
       "2        2    9       0    14        39714            1   38066         129   \n",
       "3        2    9       0    17       609050            1  541125         129   \n",
       "4        2    9       0    28        13069            1   14495        1400   \n",
       "\n",
       "   product_category  advertiser_id  industry  \n",
       "0                 1          22884       318  \n",
       "1                 1          10685       238  \n",
       "2                 1          18561         6  \n",
       "3                 1          25931         6  \n",
       "4                 1            767       317  "
      ]
     },
     "execution_count": 93,
     "metadata": {},
     "output_type": "execute_result"
    }
   ],
   "source": [
    "df_train.drop(columns=['index'], inplace=True)\n",
    "df_train.head()"
   ]
  },
  {
   "cell_type": "code",
   "execution_count": null,
   "metadata": {},
   "outputs": [],
   "source": [
    "df_train.head()"
   ]
  },
  {
   "cell_type": "code",
   "execution_count": null,
   "metadata": {},
   "outputs": [],
   "source": []
  },
  {
   "cell_type": "code",
   "execution_count": 94,
   "metadata": {},
   "outputs": [],
   "source": [
    "import gensim"
   ]
  },
  {
   "cell_type": "code",
   "execution_count": 97,
   "metadata": {},
   "outputs": [],
   "source": [
    "# word2vec预训练\n",
    "def word2vec(columns, data_df):\n",
    "    sentences = []\n",
    "    single = []\n",
    "    uid = data_df.user_id[0]\n",
    "    for index, row in data_df.iterrows():\n",
    "        if row['user_id'] == uid:\n",
    "            single.append([row[col] for col in columns])\n",
    "        else:\n",
    "            sentences.append(single)\n",
    "            single = [[row[col] for col in columns]]\n",
    "            uid = row['user_id']\n",
    "    return sentences"
   ]
  },
  {
   "cell_type": "code",
   "execution_count": 98,
   "metadata": {},
   "outputs": [
    {
     "ename": "KeyboardInterrupt",
     "evalue": "",
     "output_type": "error",
     "traceback": [
      "\u001b[0;31m---------------------------------------------------------------------------\u001b[0m",
      "\u001b[0;31mKeyboardInterrupt\u001b[0m                         Traceback (most recent call last)",
      "\u001b[0;32m<ipython-input-98-c34748111bec>\u001b[0m in \u001b[0;36m<module>\u001b[0;34m()\u001b[0m\n\u001b[1;32m      1\u001b[0m \u001b[0mcolumns\u001b[0m \u001b[0;34m=\u001b[0m \u001b[0;34m[\u001b[0m\u001b[0;34m'product_id'\u001b[0m\u001b[0;34m,\u001b[0m \u001b[0;34m'product_category'\u001b[0m\u001b[0;34m,\u001b[0m \u001b[0;34m'advertiser_id'\u001b[0m\u001b[0;34m,\u001b[0m \u001b[0;34m'industry'\u001b[0m\u001b[0;34m]\u001b[0m\u001b[0;34m\u001b[0m\u001b[0m\n\u001b[0;32m----> 2\u001b[0;31m \u001b[0msentences\u001b[0m \u001b[0;34m=\u001b[0m \u001b[0mword2vec\u001b[0m\u001b[0;34m(\u001b[0m\u001b[0mcolumns\u001b[0m\u001b[0;34m,\u001b[0m \u001b[0mdf_train\u001b[0m\u001b[0;34m)\u001b[0m\u001b[0;34m\u001b[0m\u001b[0m\n\u001b[0m",
      "\u001b[0;32m<ipython-input-97-7371b4b259a1>\u001b[0m in \u001b[0;36mword2vec\u001b[0;34m(columns, data_df)\u001b[0m\n\u001b[1;32m      4\u001b[0m     \u001b[0msingle\u001b[0m \u001b[0;34m=\u001b[0m \u001b[0;34m[\u001b[0m\u001b[0;34m]\u001b[0m\u001b[0;34m\u001b[0m\u001b[0m\n\u001b[1;32m      5\u001b[0m     \u001b[0muid\u001b[0m \u001b[0;34m=\u001b[0m \u001b[0mdata_df\u001b[0m\u001b[0;34m.\u001b[0m\u001b[0muser_id\u001b[0m\u001b[0;34m[\u001b[0m\u001b[0;36m0\u001b[0m\u001b[0;34m]\u001b[0m\u001b[0;34m\u001b[0m\u001b[0m\n\u001b[0;32m----> 6\u001b[0;31m     \u001b[0;32mfor\u001b[0m \u001b[0mindex\u001b[0m\u001b[0;34m,\u001b[0m \u001b[0mrow\u001b[0m \u001b[0;32min\u001b[0m \u001b[0mdata_df\u001b[0m\u001b[0;34m.\u001b[0m\u001b[0miterrows\u001b[0m\u001b[0;34m(\u001b[0m\u001b[0;34m)\u001b[0m\u001b[0;34m:\u001b[0m\u001b[0;34m\u001b[0m\u001b[0m\n\u001b[0m\u001b[1;32m      7\u001b[0m         \u001b[0;32mif\u001b[0m \u001b[0mrow\u001b[0m\u001b[0;34m[\u001b[0m\u001b[0;34m'user_id'\u001b[0m\u001b[0;34m]\u001b[0m \u001b[0;34m==\u001b[0m \u001b[0muid\u001b[0m\u001b[0;34m:\u001b[0m\u001b[0;34m\u001b[0m\u001b[0m\n\u001b[1;32m      8\u001b[0m             \u001b[0msingle\u001b[0m\u001b[0;34m.\u001b[0m\u001b[0mappend\u001b[0m\u001b[0;34m(\u001b[0m\u001b[0;34m[\u001b[0m\u001b[0mrow\u001b[0m\u001b[0;34m[\u001b[0m\u001b[0mcol\u001b[0m\u001b[0;34m]\u001b[0m \u001b[0;32mfor\u001b[0m \u001b[0mcol\u001b[0m \u001b[0;32min\u001b[0m \u001b[0mcolumns\u001b[0m\u001b[0;34m]\u001b[0m\u001b[0;34m)\u001b[0m\u001b[0;34m\u001b[0m\u001b[0m\n",
      "\u001b[0;32m/home/ubuntu/workspaces/py3/lib/python3.6/site-packages/pandas/core/frame.py\u001b[0m in \u001b[0;36miterrows\u001b[0;34m(self)\u001b[0m\n\u001b[1;32m    772\u001b[0m         \u001b[0mcolumns\u001b[0m \u001b[0;34m=\u001b[0m \u001b[0mself\u001b[0m\u001b[0;34m.\u001b[0m\u001b[0mcolumns\u001b[0m\u001b[0;34m\u001b[0m\u001b[0m\n\u001b[1;32m    773\u001b[0m         \u001b[0mklass\u001b[0m \u001b[0;34m=\u001b[0m \u001b[0mself\u001b[0m\u001b[0;34m.\u001b[0m\u001b[0m_constructor_sliced\u001b[0m\u001b[0;34m\u001b[0m\u001b[0m\n\u001b[0;32m--> 774\u001b[0;31m         \u001b[0;32mfor\u001b[0m \u001b[0mk\u001b[0m\u001b[0;34m,\u001b[0m \u001b[0mv\u001b[0m \u001b[0;32min\u001b[0m \u001b[0mzip\u001b[0m\u001b[0;34m(\u001b[0m\u001b[0mself\u001b[0m\u001b[0;34m.\u001b[0m\u001b[0mindex\u001b[0m\u001b[0;34m,\u001b[0m \u001b[0mself\u001b[0m\u001b[0;34m.\u001b[0m\u001b[0mvalues\u001b[0m\u001b[0;34m)\u001b[0m\u001b[0;34m:\u001b[0m\u001b[0;34m\u001b[0m\u001b[0m\n\u001b[0m\u001b[1;32m    775\u001b[0m             \u001b[0ms\u001b[0m \u001b[0;34m=\u001b[0m \u001b[0mklass\u001b[0m\u001b[0;34m(\u001b[0m\u001b[0mv\u001b[0m\u001b[0;34m,\u001b[0m \u001b[0mindex\u001b[0m\u001b[0;34m=\u001b[0m\u001b[0mcolumns\u001b[0m\u001b[0;34m,\u001b[0m \u001b[0mname\u001b[0m\u001b[0;34m=\u001b[0m\u001b[0mk\u001b[0m\u001b[0;34m)\u001b[0m\u001b[0;34m\u001b[0m\u001b[0m\n\u001b[1;32m    776\u001b[0m             \u001b[0;32myield\u001b[0m \u001b[0mk\u001b[0m\u001b[0;34m,\u001b[0m \u001b[0ms\u001b[0m\u001b[0;34m\u001b[0m\u001b[0m\n",
      "\u001b[0;31mKeyboardInterrupt\u001b[0m: "
     ]
    }
   ],
   "source": [
    "columns = ['product_id', 'product_category', 'advertiser_id', 'industry']\n",
    "sentences = word2vec(columns, df_train)"
   ]
  },
  {
   "cell_type": "code",
   "execution_count": 117,
   "metadata": {},
   "outputs": [
    {
     "name": "stdout",
     "output_type": "stream",
     "text": [
      "[  87   80  129  129 1400]\n"
     ]
    }
   ],
   "source": [
    "for x in df_train.head().groupby('user_id'):\n",
    "    print(x[1]['product_id'].values)"
   ]
  },
  {
   "cell_type": "code",
   "execution_count": null,
   "metadata": {},
   "outputs": [],
   "source": [
    "df_train.head()"
   ]
  },
  {
   "cell_type": "code",
   "execution_count": 119,
   "metadata": {},
   "outputs": [
    {
     "name": "stderr",
     "output_type": "stream",
     "text": [
      "100%|██████████| 630000/630000 [04:55<00:00, 2132.55it/s] \n"
     ]
    }
   ],
   "source": [
    "from tqdm import tqdm\n",
    "sentences_pid, sentence_aid = [], []\n",
    "for uid, df_user in tqdm(df_train.groupby('user_id')):\n",
    "    sentences_pid.append(df_user['product_id'].values)\n",
    "    sentence_aid.append(df_user['advertiser_id'].values)"
   ]
  },
  {
   "cell_type": "code",
   "execution_count": 157,
   "metadata": {},
   "outputs": [],
   "source": [
    "train_group = df_train.groupby('user_id')"
   ]
  },
  {
   "cell_type": "code",
   "execution_count": null,
   "metadata": {},
   "outputs": [],
   "source": [
    "sentences_pid"
   ]
  },
  {
   "cell_type": "code",
   "execution_count": 165,
   "metadata": {},
   "outputs": [
    {
     "name": "stderr",
     "output_type": "stream",
     "text": [
      "100%|██████████| 1/1 [00:00<00:00, 357.57it/s]"
     ]
    },
    {
     "name": "stdout",
     "output_type": "stream",
     "text": [
      "2\t9_0_10_63441_1_58788_87_1_22884_318\t9_0_11_155822_1_139702_80_1_10685_238\t9_0_14_39714_1_38066_129_1_18561_6\t9_0_17_609050_1_541125_129_1_25931_6\t9_0_28_13069_1_14495_1400_1_767_317\n",
      "\n"
     ]
    },
    {
     "name": "stderr",
     "output_type": "stream",
     "text": [
      "\n"
     ]
    }
   ],
   "source": [
    "for uid, df_user in tqdm(df_train.head().groupby('user_id')):\n",
    "    values = df_user.values\n",
    "    age, gender = values[0, 0], values[0, 1]\n",
    "    seq_len = df_user.shape[0]\n",
    "    click_nums = \n",
    "    line = str(uid) + '\\t' + '\\t'.join(['_'.join(map(str, line[1:])) for line in values]) + '\\n'\n",
    "    print(line)"
   ]
  },
  {
   "cell_type": "code",
   "execution_count": 166,
   "metadata": {},
   "outputs": [],
   "source": [
    "def save_group(group, path):\n",
    "    with open(path, 'w') as f:\n",
    "        for uid, df_user in tqdm(group):\n",
    "            values = df_user.values\n",
    "            line = str(uid) + '\\t' + '\\t'.join(['_'.join(map(str, line[1:])) for line in values]) + '\\n'\n",
    "            f.write(line)"
   ]
  },
  {
   "cell_type": "code",
   "execution_count": 167,
   "metadata": {},
   "outputs": [],
   "source": [
    "train_group = df_train.groupby('user_id')\n",
    "val_group = df_val.groupby('user_id')\n",
    "test_group = df_test.groupby('user_id')"
   ]
  },
  {
   "cell_type": "code",
   "execution_count": 168,
   "metadata": {},
   "outputs": [
    {
     "name": "stderr",
     "output_type": "stream",
     "text": [
      "100%|██████████| 630000/630000 [10:40<00:00, 983.13it/s] \n",
      "100%|██████████| 135000/135000 [02:33<00:00, 878.50it/s] \n",
      "100%|██████████| 134999/134999 [02:11<00:00, 1023.22it/s]\n"
     ]
    }
   ],
   "source": [
    "save_group(train_group, 'train_group.csv')\n",
    "save_group(val_group, 'val_group.csv')\n",
    "save_group(test_group, 'test_group.csv')"
   ]
  },
  {
   "cell_type": "code",
   "execution_count": null,
   "metadata": {},
   "outputs": [],
   "source": [
    "def save_group_new(group, path):\n",
    "    with open(path, 'w') as f:\n",
    "        for uid, df_user in tqdm(group):\n",
    "            values = df_user.values\n",
    "            line = str(uid) + '\\t' + '\\t'.join(['_'.join(map(str, line[1:])) for line in values]) + '\\n'\n",
    "            f.write(line)"
   ]
  },
  {
   "cell_type": "code",
   "execution_count": null,
   "metadata": {},
   "outputs": [],
   "source": []
  },
  {
   "cell_type": "code",
   "execution_count": 132,
   "metadata": {},
   "outputs": [],
   "source": [
    "x = [[str(y) for y in x] for x in sentences_pid[:10]]"
   ]
  },
  {
   "cell_type": "code",
   "execution_count": 135,
   "metadata": {},
   "outputs": [],
   "source": [
    "sentences_pid_str = [[str(y) for y in x] for x in sentences_pid]\n",
    "sentence_aid_str = [[str(y) for y in x] for x in sentence_aid]"
   ]
  },
  {
   "cell_type": "code",
   "execution_count": 152,
   "metadata": {},
   "outputs": [],
   "source": [
    "model_1 = gensim.models.Word2Vec(sentences_pid_str, min_count=1, size=128, workers=-1, iter=50)"
   ]
  },
  {
   "cell_type": "code",
   "execution_count": 174,
   "metadata": {},
   "outputs": [],
   "source": [
    "length = np.array([len(x) for x in sentences_pid])"
   ]
  },
  {
   "cell_type": "code",
   "execution_count": 177,
   "metadata": {},
   "outputs": [
    {
     "data": {
      "text/plain": [
       "array([ 46.,  66.,  89., 125., 291., 541.])"
      ]
     },
     "execution_count": 177,
     "metadata": {},
     "output_type": "execute_result"
    }
   ],
   "source": [
    "np.quantile(length, [0.8, 0.9, 0.95, 0.98, 0.999, 0.9999])"
   ]
  },
  {
   "cell_type": "code",
   "execution_count": 48,
   "metadata": {},
   "outputs": [
    {
     "data": {
      "text/plain": [
       "<matplotlib.axes._subplots.AxesSubplot at 0x7fb756599358>"
      ]
     },
     "execution_count": 48,
     "metadata": {},
     "output_type": "execute_result"
    },
    {
     "data": {
      "image/png": "[encoded data removed]",
      "text/plain": [
       "<Figure size 432x288 with 1 Axes>"
      ]
     },
     "metadata": {},
     "output_type": "display_data"
    }
   ],
   "source": [
    "sns.set()\n",
    "sns.countplot(x='click_times', hue='gender', data=df[df.click_times < 10])"
   ]
  },
  {
   "cell_type": "markdown",
   "metadata": {},
   "source": [
    "## 测试数据信息"
   ]
  },
  {
   "cell_type": "code",
   "execution_count": 3,
   "metadata": {},
   "outputs": [],
   "source": [
    "test_log = pd.read_csv('test/click_log.csv')\n",
    "test_ad = pd.read_csv('test/ad.csv')"
   ]
  },
  {
   "cell_type": "code",
   "execution_count": 4,
   "metadata": {},
   "outputs": [
    {
     "data": {
      "text/html": [
       "<div>\n",
       "<style scoped>\n",
       "    .dataframe tbody tr th:only-of-type {\n",
       "        vertical-align: middle;\n",
       "    }\n",
       "\n",
       "    .dataframe tbody tr th {\n",
       "        vertical-align: top;\n",
       "    }\n",
       "\n",
       "    .dataframe thead th {\n",
       "        text-align: right;\n",
       "    }\n",
       "</style>\n",
       "<table border=\"1\" class=\"dataframe\">\n",
       "  <thead>\n",
       "    <tr style=\"text-align: right;\">\n",
       "      <th></th>\n",
       "      <th>time</th>\n",
       "      <th>user_id</th>\n",
       "      <th>creative_id</th>\n",
       "      <th>click_times</th>\n",
       "      <th>ad_id</th>\n",
       "      <th>product_id</th>\n",
       "      <th>product_category</th>\n",
       "      <th>advertiser_id</th>\n",
       "      <th>industry</th>\n",
       "    </tr>\n",
       "  </thead>\n",
       "  <tbody>\n",
       "    <tr>\n",
       "      <th>0</th>\n",
       "      <td>20</td>\n",
       "      <td>3131989</td>\n",
       "      <td>645764</td>\n",
       "      <td>1</td>\n",
       "      <td>573314</td>\n",
       "      <td>58</td>\n",
       "      <td>2</td>\n",
       "      <td>14689</td>\n",
       "      <td>6</td>\n",
       "    </tr>\n",
       "    <tr>\n",
       "      <th>1</th>\n",
       "      <td>20</td>\n",
       "      <td>3131989</td>\n",
       "      <td>1027422</td>\n",
       "      <td>1</td>\n",
       "      <td>902764</td>\n",
       "      <td>129</td>\n",
       "      <td>2</td>\n",
       "      <td>42272</td>\n",
       "      <td>6</td>\n",
       "    </tr>\n",
       "    <tr>\n",
       "      <th>2</th>\n",
       "      <td>20</td>\n",
       "      <td>3131989</td>\n",
       "      <td>1106443</td>\n",
       "      <td>1</td>\n",
       "      <td>970829</td>\n",
       "      <td>2171</td>\n",
       "      <td>2</td>\n",
       "      <td>37513</td>\n",
       "      <td>322</td>\n",
       "    </tr>\n",
       "    <tr>\n",
       "      <th>3</th>\n",
       "      <td>20</td>\n",
       "      <td>3131989</td>\n",
       "      <td>629802</td>\n",
       "      <td>1</td>\n",
       "      <td>559183</td>\n",
       "      <td>\\N</td>\n",
       "      <td>18</td>\n",
       "      <td>14678</td>\n",
       "      <td>26</td>\n",
       "    </tr>\n",
       "    <tr>\n",
       "      <th>4</th>\n",
       "      <td>59</td>\n",
       "      <td>3131989</td>\n",
       "      <td>2839769</td>\n",
       "      <td>1</td>\n",
       "      <td>2441288</td>\n",
       "      <td>129</td>\n",
       "      <td>2</td>\n",
       "      <td>35328</td>\n",
       "      <td>6</td>\n",
       "    </tr>\n",
       "  </tbody>\n",
       "</table>\n",
       "</div>"
      ],
      "text/plain": [
       "   time  user_id  creative_id  click_times    ad_id product_id  \\\n",
       "0    20  3131989       645764            1   573314         58   \n",
       "1    20  3131989      1027422            1   902764        129   \n",
       "2    20  3131989      1106443            1   970829       2171   \n",
       "3    20  3131989       629802            1   559183         \\N   \n",
       "4    59  3131989      2839769            1  2441288        129   \n",
       "\n",
       "   product_category  advertiser_id industry  \n",
       "0                 2          14689        6  \n",
       "1                 2          42272        6  \n",
       "2                 2          37513      322  \n",
       "3                18          14678       26  \n",
       "4                 2          35328        6  "
      ]
     },
     "execution_count": 4,
     "metadata": {},
     "output_type": "execute_result"
    }
   ],
   "source": [
    "test_df = pd.merge(test_log, test_ad, how='left', on='creative_id')\n",
    "test_df.head()"
   ]
  },
  {
   "cell_type": "code",
   "execution_count": 40,
   "metadata": {},
   "outputs": [
    {
     "data": {
      "text/plain": [
       "0"
      ]
     },
     "execution_count": 40,
     "metadata": {},
     "output_type": "execute_result"
    }
   ],
   "source": [
    "test_df.product_id.isnull().sum()"
   ]
  },
  {
   "cell_type": "code",
   "execution_count": 6,
   "metadata": {},
   "outputs": [],
   "source": [
    "test_df.product_id = test_df.product_id.apply(process_nan)\n",
    "test_df.industry = test_df.industry.apply(process_nan)"
   ]
  },
  {
   "cell_type": "code",
   "execution_count": 7,
   "metadata": {},
   "outputs": [
    {
     "data": {
      "text/html": [
       "<div>\n",
       "<style scoped>\n",
       "    .dataframe tbody tr th:only-of-type {\n",
       "        vertical-align: middle;\n",
       "    }\n",
       "\n",
       "    .dataframe tbody tr th {\n",
       "        vertical-align: top;\n",
       "    }\n",
       "\n",
       "    .dataframe thead th {\n",
       "        text-align: right;\n",
       "    }\n",
       "</style>\n",
       "<table border=\"1\" class=\"dataframe\">\n",
       "  <thead>\n",
       "    <tr style=\"text-align: right;\">\n",
       "      <th></th>\n",
       "      <th>time</th>\n",
       "      <th>user_id</th>\n",
       "      <th>creative_id</th>\n",
       "      <th>click_times</th>\n",
       "      <th>ad_id</th>\n",
       "      <th>product_id</th>\n",
       "      <th>product_category</th>\n",
       "      <th>advertiser_id</th>\n",
       "      <th>industry</th>\n",
       "    </tr>\n",
       "  </thead>\n",
       "  <tbody>\n",
       "    <tr>\n",
       "      <th>0</th>\n",
       "      <td>20</td>\n",
       "      <td>3131989</td>\n",
       "      <td>645764</td>\n",
       "      <td>1</td>\n",
       "      <td>573314</td>\n",
       "      <td>58</td>\n",
       "      <td>1</td>\n",
       "      <td>14688</td>\n",
       "      <td>6</td>\n",
       "    </tr>\n",
       "    <tr>\n",
       "      <th>1</th>\n",
       "      <td>20</td>\n",
       "      <td>3131989</td>\n",
       "      <td>1027422</td>\n",
       "      <td>1</td>\n",
       "      <td>902764</td>\n",
       "      <td>129</td>\n",
       "      <td>1</td>\n",
       "      <td>42271</td>\n",
       "      <td>6</td>\n",
       "    </tr>\n",
       "    <tr>\n",
       "      <th>2</th>\n",
       "      <td>20</td>\n",
       "      <td>3131989</td>\n",
       "      <td>1106443</td>\n",
       "      <td>1</td>\n",
       "      <td>970829</td>\n",
       "      <td>2171</td>\n",
       "      <td>1</td>\n",
       "      <td>37512</td>\n",
       "      <td>322</td>\n",
       "    </tr>\n",
       "    <tr>\n",
       "      <th>3</th>\n",
       "      <td>20</td>\n",
       "      <td>3131989</td>\n",
       "      <td>629802</td>\n",
       "      <td>1</td>\n",
       "      <td>559183</td>\n",
       "      <td>0</td>\n",
       "      <td>17</td>\n",
       "      <td>14677</td>\n",
       "      <td>26</td>\n",
       "    </tr>\n",
       "    <tr>\n",
       "      <th>4</th>\n",
       "      <td>59</td>\n",
       "      <td>3131989</td>\n",
       "      <td>2839769</td>\n",
       "      <td>1</td>\n",
       "      <td>2441288</td>\n",
       "      <td>129</td>\n",
       "      <td>1</td>\n",
       "      <td>35327</td>\n",
       "      <td>6</td>\n",
       "    </tr>\n",
       "  </tbody>\n",
       "</table>\n",
       "</div>"
      ],
      "text/plain": [
       "   time  user_id  creative_id  click_times    ad_id  product_id  \\\n",
       "0    20  3131989       645764            1   573314          58   \n",
       "1    20  3131989      1027422            1   902764         129   \n",
       "2    20  3131989      1106443            1   970829        2171   \n",
       "3    20  3131989       629802            1   559183           0   \n",
       "4    59  3131989      2839769            1  2441288         129   \n",
       "\n",
       "   product_category  advertiser_id  industry  \n",
       "0                 1          14688         6  \n",
       "1                 1          42271         6  \n",
       "2                 1          37512       322  \n",
       "3                17          14677        26  \n",
       "4                 1          35327         6  "
      ]
     },
     "execution_count": 7,
     "metadata": {},
     "output_type": "execute_result"
    }
   ],
   "source": [
    "columns = ['product_category', 'advertiser_id']\n",
    "for col in columns:\n",
    "    test_df[col] = test_df[col].apply(lambda x: x-1)\n",
    "test_df.head()"
   ]
  },
  {
   "cell_type": "code",
   "execution_count": 8,
   "metadata": {},
   "outputs": [
    {
     "data": {
      "text/plain": [
       "(33585512, 9)"
      ]
     },
     "execution_count": 8,
     "metadata": {},
     "output_type": "execute_result"
    }
   ],
   "source": [
    "test_df.shape"
   ]
  },
  {
   "cell_type": "code",
   "execution_count": 9,
   "metadata": {},
   "outputs": [
    {
     "data": {
      "text/html": [
       "<div>\n",
       "<style scoped>\n",
       "    .dataframe tbody tr th:only-of-type {\n",
       "        vertical-align: middle;\n",
       "    }\n",
       "\n",
       "    .dataframe tbody tr th {\n",
       "        vertical-align: top;\n",
       "    }\n",
       "\n",
       "    .dataframe thead th {\n",
       "        text-align: right;\n",
       "    }\n",
       "</style>\n",
       "<table border=\"1\" class=\"dataframe\">\n",
       "  <thead>\n",
       "    <tr style=\"text-align: right;\">\n",
       "      <th></th>\n",
       "      <th>time</th>\n",
       "      <th>user_id</th>\n",
       "      <th>creative_id</th>\n",
       "      <th>click_times</th>\n",
       "      <th>ad_id</th>\n",
       "      <th>product_id</th>\n",
       "      <th>product_category</th>\n",
       "      <th>advertiser_id</th>\n",
       "      <th>industry</th>\n",
       "    </tr>\n",
       "  </thead>\n",
       "  <tbody>\n",
       "    <tr>\n",
       "      <th>31372842</th>\n",
       "      <td>3</td>\n",
       "      <td>3000001</td>\n",
       "      <td>351878</td>\n",
       "      <td>1</td>\n",
       "      <td>315858</td>\n",
       "      <td>0</td>\n",
       "      <td>17</td>\n",
       "      <td>7578</td>\n",
       "      <td>322</td>\n",
       "    </tr>\n",
       "    <tr>\n",
       "      <th>31372849</th>\n",
       "      <td>11</td>\n",
       "      <td>3000001</td>\n",
       "      <td>103064</td>\n",
       "      <td>1</td>\n",
       "      <td>93662</td>\n",
       "      <td>1794</td>\n",
       "      <td>1</td>\n",
       "      <td>13083</td>\n",
       "      <td>248</td>\n",
       "    </tr>\n",
       "    <tr>\n",
       "      <th>31372850</th>\n",
       "      <td>11</td>\n",
       "      <td>3000001</td>\n",
       "      <td>665090</td>\n",
       "      <td>1</td>\n",
       "      <td>589862</td>\n",
       "      <td>1701</td>\n",
       "      <td>1</td>\n",
       "      <td>6999</td>\n",
       "      <td>247</td>\n",
       "    </tr>\n",
       "    <tr>\n",
       "      <th>31372847</th>\n",
       "      <td>23</td>\n",
       "      <td>3000001</td>\n",
       "      <td>593698</td>\n",
       "      <td>1</td>\n",
       "      <td>527764</td>\n",
       "      <td>8938</td>\n",
       "      <td>2</td>\n",
       "      <td>9949</td>\n",
       "      <td>247</td>\n",
       "    </tr>\n",
       "    <tr>\n",
       "      <th>31372843</th>\n",
       "      <td>29</td>\n",
       "      <td>3000001</td>\n",
       "      <td>1508864</td>\n",
       "      <td>1</td>\n",
       "      <td>1312021</td>\n",
       "      <td>0</td>\n",
       "      <td>17</td>\n",
       "      <td>39178</td>\n",
       "      <td>322</td>\n",
       "    </tr>\n",
       "  </tbody>\n",
       "</table>\n",
       "</div>"
      ],
      "text/plain": [
       "          time  user_id  creative_id  click_times    ad_id  product_id  \\\n",
       "31372842     3  3000001       351878            1   315858           0   \n",
       "31372849    11  3000001       103064            1    93662        1794   \n",
       "31372850    11  3000001       665090            1   589862        1701   \n",
       "31372847    23  3000001       593698            1   527764        8938   \n",
       "31372843    29  3000001      1508864            1  1312021           0   \n",
       "\n",
       "          product_category  advertiser_id  industry  \n",
       "31372842                17           7578       322  \n",
       "31372849                 1          13083       248  \n",
       "31372850                 1           6999       247  \n",
       "31372847                 2           9949       247  \n",
       "31372843                17          39178       322  "
      ]
     },
     "execution_count": 9,
     "metadata": {},
     "output_type": "execute_result"
    }
   ],
   "source": [
    "test_df.sort_values(by=['user_id', 'time'], inplace=True)\n",
    "test_df.head()"
   ]
  },
  {
   "cell_type": "code",
   "execution_count": 13,
   "metadata": {},
   "outputs": [],
   "source": [
    "from tqdm import tqdm"
   ]
  },
  {
   "cell_type": "code",
   "execution_count": 10,
   "metadata": {},
   "outputs": [],
   "source": [
    "test_group = test_df.groupby('user_id')"
   ]
  },
  {
   "cell_type": "code",
   "execution_count": 15,
   "metadata": {},
   "outputs": [
    {
     "name": "stderr",
     "output_type": "stream",
     "text": [
      "100%|██████████| 1/1 [00:00<00:00, 259.56it/s]"
     ]
    },
    {
     "name": "stdout",
     "output_type": "stream",
     "text": [
      "3000001\t351878_1_315858_0_17_7578_322\t103064_1_93662_1794_1_13083_248\t665090_1_589862_1701_1_6999_247\t593698_1_527764_8938_2_9949_247\t1508864_1_1312021_0_17_39178_322\n",
      "\n"
     ]
    },
    {
     "name": "stderr",
     "output_type": "stream",
     "text": [
      "\n"
     ]
    }
   ],
   "source": [
    "for uid, df_user in tqdm(test_df.head().groupby('user_id')):\n",
    "    values = df_user.values\n",
    "    line = str(uid) + '\\t' + '\\t'.join(['_'.join(map(str, line[2:])) for line in values]) + '\\n'\n",
    "    print(line)"
   ]
  },
  {
   "cell_type": "code",
   "execution_count": 16,
   "metadata": {},
   "outputs": [],
   "source": [
    "def save_group_new(group, path):\n",
    "    with open(path, 'w') as f:\n",
    "        for uid, df_user in tqdm(group):\n",
    "            values = df_user.values\n",
    "            line = str(uid) + '\\t' + '\\t'.join(['_'.join(map(str, line[2:])) for line in values]) + '\\n'\n",
    "            f.write(line)"
   ]
  },
  {
   "cell_type": "code",
   "execution_count": 17,
   "metadata": {},
   "outputs": [
    {
     "name": "stderr",
     "output_type": "stream",
     "text": [
      "100%|██████████| 1000000/1000000 [09:00<00:00, 1849.52it/s]\n"
     ]
    }
   ],
   "source": [
    "save_group_new(test_group, 'online_group.csv')"
   ]
  },
  {
   "cell_type": "markdown",
   "metadata": {},
   "source": [
    "### 训练集和测试集uid有无交叉"
   ]
  },
  {
   "cell_type": "code",
   "execution_count": 43,
   "metadata": {},
   "outputs": [
    {
     "data": {
      "text/plain": [
       "set()"
      ]
     },
     "execution_count": 43,
     "metadata": {},
     "output_type": "execute_result"
    }
   ],
   "source": [
    "set(df.user_id) & set(test_df.user_id)"
   ]
  },
  {
   "cell_type": "code",
   "execution_count": 78,
   "metadata": {},
   "outputs": [],
   "source": [
    "import torch\n",
    "import torch.nn as nn"
   ]
  },
  {
   "cell_type": "code",
   "execution_count": 108,
   "metadata": {},
   "outputs": [
    {
     "data": {
      "text/plain": [
       "Embedding(10, 20)"
      ]
     },
     "execution_count": 108,
     "metadata": {},
     "output_type": "execute_result"
    }
   ],
   "source": [
    "embed = nn.Embedding(10, 20)\n",
    "embed"
   ]
  },
  {
   "cell_type": "code",
   "execution_count": 114,
   "metadata": {},
   "outputs": [
    {
     "data": {
      "text/plain": [
       "torch.Size([1, 2, 20])"
      ]
     },
     "execution_count": 114,
     "metadata": {},
     "output_type": "execute_result"
    }
   ],
   "source": [
    "embed(torch.LongTensor([[1, 2]])).shape"
   ]
  },
  {
   "cell_type": "code",
   "execution_count": 190,
   "metadata": {},
   "outputs": [],
   "source": [
    "x = torch.arange(24).view(2,3,4)"
   ]
  },
  {
   "cell_type": "code",
   "execution_count": 191,
   "metadata": {},
   "outputs": [
    {
     "data": {
      "text/plain": [
       "tensor([[[  0.,   1.,   2.,   3.],\n",
       "         [  4.,   5.,   6.,   7.],\n",
       "         [  8.,   9.,  10.,  11.]],\n",
       "\n",
       "        [[ 12.,  13.,  14.,  15.],\n",
       "         [ 16.,  17.,  18.,  19.],\n",
       "         [ 20.,  21.,  22.,  23.]]])"
      ]
     },
     "execution_count": 191,
     "metadata": {},
     "output_type": "execute_result"
    }
   ],
   "source": [
    "x"
   ]
  },
  {
   "cell_type": "code",
   "execution_count": 192,
   "metadata": {},
   "outputs": [
    {
     "data": {
      "text/plain": [
       "tensor([[ 1,  0,  0],\n",
       "        [ 1,  1,  0]])"
      ]
     },
     "execution_count": 192,
     "metadata": {},
     "output_type": "execute_result"
    }
   ],
   "source": [
    "mask = torch.LongTensor([[1,0,0],[1,1,0]])\n",
    "mask"
   ]
  },
  {
   "cell_type": "code",
   "execution_count": 195,
   "metadata": {},
   "outputs": [
    {
     "data": {
      "text/plain": [
       "tensor([[ 1,  0,  0],\n",
       "        [ 1,  1,  0],\n",
       "        [ 1,  0,  0],\n",
       "        [ 1,  1,  0]])"
      ]
     },
     "execution_count": 195,
     "metadata": {},
     "output_type": "execute_result"
    }
   ],
   "source": [
    "mask.repeat(2, 1)"
   ]
  },
  {
   "cell_type": "code",
   "execution_count": null,
   "metadata": {},
   "outputs": [],
   "source": [
    "x = np.array([1,2])\n",
    "y = np.array([3, 4])\n",
    "z = np.array([x, y])\n",
    "z"
   ]
  },
  {
   "cell_type": "code",
   "execution_count": null,
   "metadata": {},
   "outputs": [],
   "source": []
  },
  {
   "cell_type": "code",
   "execution_count": 196,
   "metadata": {},
   "outputs": [],
   "source": [
    "import torch.nn.functional as F"
   ]
  },
  {
   "cell_type": "code",
   "execution_count": 201,
   "metadata": {},
   "outputs": [
    {
     "data": {
      "text/plain": [
       "tensor([[[ 1,  1,  1],\n",
       "         [ 0,  0,  0],\n",
       "         [ 0,  0,  0]],\n",
       "\n",
       "        [[ 1,  1,  1],\n",
       "         [ 1,  1,  1],\n",
       "         [ 0,  0,  0]]])"
      ]
     },
     "execution_count": 201,
     "metadata": {},
     "output_type": "execute_result"
    }
   ],
   "source": [
    "mask_data = mask.unsqueeze(2).repeat(1,1,3)\n",
    "mask_data"
   ]
  },
  {
   "cell_type": "code",
   "execution_count": 205,
   "metadata": {},
   "outputs": [
    {
     "data": {
      "text/plain": [
       "tensor([[ 1.,  0.,  0.],\n",
       "        [ 1.,  1.,  0.]])"
      ]
     },
     "execution_count": 205,
     "metadata": {},
     "output_type": "execute_result"
    }
   ],
   "source": [
    "F.avg_pool1d(mask_data.float(), mask_data.size(2)).squeeze(2)"
   ]
  },
  {
   "cell_type": "code",
   "execution_count": 208,
   "metadata": {},
   "outputs": [
    {
     "data": {
      "text/plain": [
       "tensor([[ 0.3333,  0.3333,  0.3333],\n",
       "        [ 0.6667,  0.6667,  0.6667]])"
      ]
     },
     "execution_count": 208,
     "metadata": {},
     "output_type": "execute_result"
    }
   ],
   "source": [
    "torch.mean(mask_data.float(), dim=1)"
   ]
  },
  {
   "cell_type": "code",
   "execution_count": 210,
   "metadata": {},
   "outputs": [
    {
     "data": {
      "text/plain": [
       "tensor([[[ 1.,  1.,  1.],\n",
       "         [ 0.,  0.,  0.],\n",
       "         [ 0.,  0.,  0.]],\n",
       "\n",
       "        [[ 1.,  1.,  1.],\n",
       "         [ 1.,  1.,  1.],\n",
       "         [ 0.,  0.,  0.]]])"
      ]
     },
     "execution_count": 210,
     "metadata": {},
     "output_type": "execute_result"
    }
   ],
   "source": [
    "mask_data.float() * mask_data.float()"
   ]
  },
  {
   "cell_type": "code",
   "execution_count": 187,
   "metadata": {},
   "outputs": [],
   "source": [
    "x = [(1,'x'), (2,3), (4, 5), 88, 0]\n",
    "random.shuffle(x)"
   ]
  },
  {
   "cell_type": "code",
   "execution_count": null,
   "metadata": {},
   "outputs": [],
   "source": [
    "\n",
    "for i in range(100000, 110000):\n",
    "    flag = False\n",
    "    for j in range(2, int(np.sqrt(i))):\n",
    "        if i % j == 0:\n",
    "            flag = True\n",
    "            break\n",
    "    if flag:\n",
    "        continue\n",
    "    else:\n",
    "        print(i)\n",
    "        break"
   ]
  },
  {
   "cell_type": "code",
   "execution_count": 1,
   "metadata": {},
   "outputs": [],
   "source": [
    "import numpy as np"
   ]
  },
  {
   "cell_type": "code",
   "execution_count": 2,
   "metadata": {},
   "outputs": [
    {
     "data": {
      "text/plain": [
       "array([ 2.55104349e-04,  8.62713636e-04, -1.02400917e-03,  1.14183722e-03,\n",
       "       -2.93012188e-04, -6.65766825e-04,  7.34859049e-04, -7.91976293e-04,\n",
       "       -7.37824227e-04, -2.25120565e-03,  1.93411040e-05, -1.23790679e-04,\n",
       "       -3.48241368e-04,  1.22992425e-03, -1.60531691e-03, -4.47390227e-04,\n",
       "        3.51668766e-04, -2.54016005e-04, -1.00929167e-03, -5.49969218e-04,\n",
       "       -2.31294541e-05,  8.51985334e-04, -6.56967717e-04,  4.21017592e-04,\n",
       "        1.35282306e-03,  1.25477179e-03, -3.90788800e-04, -5.63277352e-04,\n",
       "        1.00683157e-03,  5.39388252e-04,  1.54469766e-03,  4.27861724e-04,\n",
       "        2.64560818e-05,  6.61540293e-04,  2.85765664e-04,  1.44410382e-03,\n",
       "       -5.22959954e-04, -1.29198185e-03, -1.16414513e-03, -2.01319327e-05,\n",
       "       -5.85113996e-04, -1.43785185e-03,  4.10487285e-04,  2.76961118e-04,\n",
       "        2.01996924e-03, -6.07636756e-05, -2.32101804e-04,  1.45356770e-03,\n",
       "       -1.22859357e-04,  8.78970427e-04, -3.06122502e-03, -9.41195302e-04,\n",
       "        2.83336623e-04, -5.56488568e-04, -1.77015599e-03, -1.03916217e-03,\n",
       "       -2.07748910e-04, -9.48066938e-04, -9.91795515e-04,  1.27152583e-03,\n",
       "       -5.40513360e-05,  4.92601213e-04,  6.18789718e-04,  8.49344862e-04,\n",
       "       -2.05595578e-03, -1.52532240e-03,  4.83271385e-04, -4.92973461e-04,\n",
       "        4.14297535e-04, -2.45494832e-04,  1.27755856e-03, -8.18873832e-04,\n",
       "       -1.21444092e-03, -2.53664377e-04,  1.54091513e-03, -1.58556697e-03,\n",
       "       -1.10723129e-04,  1.28259254e-03, -4.44543466e-04, -1.49014951e-03,\n",
       "       -6.26890455e-04, -1.65520041e-04,  9.86928271e-04,  1.37791544e-03,\n",
       "        2.60439511e-04,  7.50038485e-04, -6.08800305e-04,  5.43451177e-04,\n",
       "        1.21210901e-03, -1.20947960e-03, -2.58356556e-03, -2.83818595e-04,\n",
       "       -7.21145402e-04, -5.03005269e-04,  9.80184313e-04,  3.48154447e-04,\n",
       "       -2.86287507e-04,  4.17709238e-04, -5.84037534e-04, -1.15119329e-03,\n",
       "       -1.19325641e-03,  1.19472861e-03,  1.14164979e-03, -1.01540745e-06,\n",
       "       -2.34481333e-03,  6.15756536e-04,  1.32233733e-03, -8.35394944e-04,\n",
       "        4.46449601e-04, -1.78289735e-03, -3.28338305e-04, -7.43100818e-04,\n",
       "       -2.26026767e-03,  4.96848116e-04, -1.85040504e-04, -3.98823865e-05,\n",
       "       -7.65584071e-04,  1.66543822e-03, -1.77795715e-04, -3.17494242e-04,\n",
       "       -1.66539772e-04,  1.45226396e-03,  1.09686612e-03,  3.87923450e-04,\n",
       "       -3.36027844e-04,  1.46696816e-03, -5.25985759e-05,  5.10448320e-04,\n",
       "       -1.14374187e-03, -1.39758333e-03, -7.63817909e-04,  6.59520049e-04,\n",
       "       -7.98280822e-04,  8.21069039e-05, -1.54208965e-04, -6.41891203e-04,\n",
       "        6.80825924e-04, -1.31275736e-03,  4.14734619e-04,  2.07874803e-04,\n",
       "       -1.03435570e-03, -8.49555828e-04,  2.95448703e-03, -7.58739040e-04,\n",
       "       -6.60273485e-04, -4.49017929e-04,  3.22016982e-05, -1.46930675e-03,\n",
       "       -1.82917791e-03,  1.29715848e-04,  2.09803173e-03, -4.38249516e-04,\n",
       "       -3.01644751e-04,  8.86038844e-04,  4.03083585e-04,  5.32469839e-04,\n",
       "       -9.47166018e-05, -1.71876339e-03,  9.14364563e-04, -1.83475132e-04,\n",
       "        6.73000498e-04,  2.18088232e-03, -2.50718018e-05, -2.60207421e-05,\n",
       "       -5.18010585e-04,  8.84136063e-04, -1.26599651e-04, -1.08581068e-03,\n",
       "        1.47685292e-03, -7.46862892e-04, -1.51446544e-03, -1.51862070e-04,\n",
       "        1.09451472e-03,  6.11656917e-04,  6.20396019e-04,  1.56269554e-03,\n",
       "       -4.25206445e-04, -1.68117557e-04, -1.64459337e-04,  2.69550469e-04,\n",
       "        6.31119568e-04, -1.31595620e-03,  2.98077129e-03,  1.07283521e-04,\n",
       "        8.91848276e-05, -1.07986396e-03, -1.06162452e-03,  3.08217299e-04,\n",
       "       -1.55446751e-03,  1.37357493e-03,  8.98069239e-04, -3.81486402e-04,\n",
       "       -1.22060270e-03,  1.36710733e-04, -1.21102634e-03,  5.01625278e-04,\n",
       "       -9.17474902e-05, -7.53323203e-04, -8.41138478e-04,  1.33319949e-03,\n",
       "        1.14926497e-03,  6.10779804e-04,  9.24856557e-04,  1.16802790e-03,\n",
       "        6.05887370e-04,  4.39502853e-04,  1.44734855e-04,  1.00008635e-03,\n",
       "       -8.43172765e-04,  6.93958799e-05,  6.51859846e-04, -3.76752042e-05,\n",
       "        1.55892553e-04, -5.14406238e-04,  4.68328456e-04,  7.47028873e-04,\n",
       "       -2.15975831e-03,  1.09660082e-03,  1.57539514e-03, -2.39054631e-03,\n",
       "       -7.43802767e-04, -8.77119987e-04, -4.54353343e-04,  2.41369854e-04,\n",
       "        6.02605512e-04,  1.43950541e-03,  1.40500027e-04,  9.83579825e-04,\n",
       "       -1.29614252e-03, -2.47336738e-04,  7.41624711e-04,  4.03081877e-04,\n",
       "        7.53176471e-04,  1.69144120e-03,  4.16412042e-04,  3.10474439e-04,\n",
       "       -5.62528231e-04,  4.12936513e-04,  3.37997681e-04,  1.03392791e-03,\n",
       "       -9.36067024e-04, -6.14473795e-04,  1.41994066e-03, -4.63702707e-04,\n",
       "       -1.20119098e-03,  8.74449753e-04, -7.16339070e-04, -1.21765029e-03,\n",
       "       -2.43996456e-04, -7.54313901e-04,  1.72536568e-04,  9.11865759e-04,\n",
       "       -7.06139725e-05, -1.86043333e-03, -1.63173119e-03, -9.22830742e-04])"
      ]
     },
     "execution_count": 2,
     "metadata": {},
     "output_type": "execute_result"
    }
   ],
   "source": [
    "np.random.normal(loc=0.0, scale=1e-3, size=256)"
   ]
  },
  {
   "cell_type": "code",
   "execution_count": null,
   "metadata": {},
   "outputs": [],
   "source": []
  }
 ],
 "metadata": {
  "kernelspec": {
   "display_name": "Python 3",
   "language": "python",
   "name": "python3"
  },
  "language_info": {
   "codemirror_mode": {
    "name": "ipython",
    "version": 3
   },
   "file_extension": ".py",
   "mimetype": "text/x-python",
   "name": "python",
   "nbconvert_exporter": "python",
   "pygments_lexer": "ipython3",
   "version": "3.6.5"
  }
 },
 "nbformat": 4,
 "nbformat_minor": 2
}
