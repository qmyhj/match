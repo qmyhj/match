{
 "cells": [
  {
   "cell_type": "code",
   "execution_count": 2,
   "metadata": {},
   "outputs": [],
   "source": [
    "import numpy as np\n",
    "import pandas as pd\n",
    "import matplotlib.pyplot as plt\n",
    "import seaborn as sns\n",
    "%matplotlib inline\n",
    "import warnings\n",
    "warnings.filterwarnings(\"ignore\")\n",
    "import gensim\n",
    "from tqdm import tqdm\n",
    "from collections import Counter"
   ]
  },
  {
   "cell_type": "code",
   "execution_count": 2,
   "metadata": {},
   "outputs": [
    {
     "data": {
      "text/html": [
       "<div>\n",
       "<style scoped>\n",
       "    .dataframe tbody tr th:only-of-type {\n",
       "        vertical-align: middle;\n",
       "    }\n",
       "\n",
       "    .dataframe tbody tr th {\n",
       "        vertical-align: top;\n",
       "    }\n",
       "\n",
       "    .dataframe thead th {\n",
       "        text-align: right;\n",
       "    }\n",
       "</style>\n",
       "<table border=\"1\" class=\"dataframe\">\n",
       "  <thead>\n",
       "    <tr style=\"text-align: right;\">\n",
       "      <th></th>\n",
       "      <th>user_id</th>\n",
       "      <th>age</th>\n",
       "      <th>gender</th>\n",
       "      <th>time</th>\n",
       "      <th>creative_id</th>\n",
       "      <th>click_times</th>\n",
       "      <th>ad_id</th>\n",
       "      <th>product_id</th>\n",
       "      <th>product_category</th>\n",
       "      <th>advertiser_id</th>\n",
       "      <th>industry</th>\n",
       "    </tr>\n",
       "  </thead>\n",
       "  <tbody>\n",
       "    <tr>\n",
       "      <th>0</th>\n",
       "      <td>1</td>\n",
       "      <td>3</td>\n",
       "      <td>0</td>\n",
       "      <td>43</td>\n",
       "      <td>71691</td>\n",
       "      <td>1</td>\n",
       "      <td>66210</td>\n",
       "      <td>\\N</td>\n",
       "      <td>18</td>\n",
       "      <td>14681</td>\n",
       "      <td>326</td>\n",
       "    </tr>\n",
       "    <tr>\n",
       "      <th>1</th>\n",
       "      <td>1</td>\n",
       "      <td>3</td>\n",
       "      <td>0</td>\n",
       "      <td>20</td>\n",
       "      <td>821396</td>\n",
       "      <td>1</td>\n",
       "      <td>724607</td>\n",
       "      <td>\\N</td>\n",
       "      <td>5</td>\n",
       "      <td>7293</td>\n",
       "      <td>326</td>\n",
       "    </tr>\n",
       "    <tr>\n",
       "      <th>2</th>\n",
       "      <td>1</td>\n",
       "      <td>3</td>\n",
       "      <td>0</td>\n",
       "      <td>20</td>\n",
       "      <td>209778</td>\n",
       "      <td>1</td>\n",
       "      <td>188507</td>\n",
       "      <td>136</td>\n",
       "      <td>2</td>\n",
       "      <td>9702</td>\n",
       "      <td>6</td>\n",
       "    </tr>\n",
       "    <tr>\n",
       "      <th>3</th>\n",
       "      <td>1</td>\n",
       "      <td>3</td>\n",
       "      <td>0</td>\n",
       "      <td>20</td>\n",
       "      <td>877468</td>\n",
       "      <td>1</td>\n",
       "      <td>773445</td>\n",
       "      <td>\\N</td>\n",
       "      <td>5</td>\n",
       "      <td>29455</td>\n",
       "      <td>106</td>\n",
       "    </tr>\n",
       "    <tr>\n",
       "      <th>4</th>\n",
       "      <td>1</td>\n",
       "      <td>3</td>\n",
       "      <td>0</td>\n",
       "      <td>64</td>\n",
       "      <td>3068256</td>\n",
       "      <td>1</td>\n",
       "      <td>2638858</td>\n",
       "      <td>1454</td>\n",
       "      <td>2</td>\n",
       "      <td>23575</td>\n",
       "      <td>238</td>\n",
       "    </tr>\n",
       "  </tbody>\n",
       "</table>\n",
       "</div>"
      ],
      "text/plain": [
       "   user_id  age  gender  time  creative_id  click_times    ad_id product_id  \\\n",
       "0        1    3       0    43        71691            1    66210         \\N   \n",
       "1        1    3       0    20       821396            1   724607         \\N   \n",
       "2        1    3       0    20       209778            1   188507        136   \n",
       "3        1    3       0    20       877468            1   773445         \\N   \n",
       "4        1    3       0    64      3068256            1  2638858       1454   \n",
       "\n",
       "   product_category  advertiser_id industry  \n",
       "0                18          14681      326  \n",
       "1                 5           7293      326  \n",
       "2                 2           9702        6  \n",
       "3                 5          29455      106  \n",
       "4                 2          23575      238  "
      ]
     },
     "execution_count": 2,
     "metadata": {},
     "output_type": "execute_result"
    }
   ],
   "source": [
    "# 训练数据merge\n",
    "df_log = pd.read_csv('train_preliminary/click_log.csv')\n",
    "# 去除异常数据\n",
    "df_log = df_log[df_log.click_times < 10]\n",
    "df_user = pd.read_csv('train_preliminary/user.csv')\n",
    "# label 从 0 开始\n",
    "df_user['age'] = df_user['age'].apply(lambda x: x-1)\n",
    "df_user['gender'] = df_user['gender'].apply(lambda x: x-1)\n",
    "df_train = pd.merge(df_user, df_log, on='user_id')\n",
    "df_ad = pd.read_csv('train_preliminary/ad.csv')\n",
    "df_train = pd.merge(df_train, df_ad, how='left', on='creative_id')\n",
    "df_train.head()"
   ]
  },
  {
   "cell_type": "code",
   "execution_count": 34,
   "metadata": {
    "scrolled": true
   },
   "outputs": [
    {
     "data": {
      "text/html": [
       "<div>\n",
       "<style scoped>\n",
       "    .dataframe tbody tr th:only-of-type {\n",
       "        vertical-align: middle;\n",
       "    }\n",
       "\n",
       "    .dataframe tbody tr th {\n",
       "        vertical-align: top;\n",
       "    }\n",
       "\n",
       "    .dataframe thead th {\n",
       "        text-align: right;\n",
       "    }\n",
       "</style>\n",
       "<table border=\"1\" class=\"dataframe\">\n",
       "  <thead>\n",
       "    <tr style=\"text-align: right;\">\n",
       "      <th></th>\n",
       "      <th>user_id</th>\n",
       "      <th>age</th>\n",
       "      <th>gender</th>\n",
       "      <th>time</th>\n",
       "      <th>creative_id</th>\n",
       "      <th>click_times</th>\n",
       "      <th>ad_id</th>\n",
       "      <th>product_id</th>\n",
       "      <th>product_category</th>\n",
       "      <th>advertiser_id</th>\n",
       "      <th>industry</th>\n",
       "    </tr>\n",
       "  </thead>\n",
       "  <tbody>\n",
       "    <tr>\n",
       "      <th>12</th>\n",
       "      <td>1</td>\n",
       "      <td>3</td>\n",
       "      <td>0</td>\n",
       "      <td>40</td>\n",
       "      <td>122032</td>\n",
       "      <td>1</td>\n",
       "      <td>109959</td>\n",
       "      <td>1334</td>\n",
       "      <td>2</td>\n",
       "      <td>11411</td>\n",
       "      <td>\\N</td>\n",
       "    </tr>\n",
       "    <tr>\n",
       "      <th>62</th>\n",
       "      <td>3</td>\n",
       "      <td>6</td>\n",
       "      <td>1</td>\n",
       "      <td>14</td>\n",
       "      <td>825434</td>\n",
       "      <td>1</td>\n",
       "      <td>728308</td>\n",
       "      <td>35985</td>\n",
       "      <td>17</td>\n",
       "      <td>14186</td>\n",
       "      <td>\\N</td>\n",
       "    </tr>\n",
       "    <tr>\n",
       "      <th>64</th>\n",
       "      <td>3</td>\n",
       "      <td>6</td>\n",
       "      <td>1</td>\n",
       "      <td>86</td>\n",
       "      <td>2032927</td>\n",
       "      <td>1</td>\n",
       "      <td>1757244</td>\n",
       "      <td>38250</td>\n",
       "      <td>17</td>\n",
       "      <td>15120</td>\n",
       "      <td>\\N</td>\n",
       "    </tr>\n",
       "    <tr>\n",
       "      <th>66</th>\n",
       "      <td>3</td>\n",
       "      <td>6</td>\n",
       "      <td>1</td>\n",
       "      <td>86</td>\n",
       "      <td>3581615</td>\n",
       "      <td>1</td>\n",
       "      <td>3083678</td>\n",
       "      <td>37243</td>\n",
       "      <td>17</td>\n",
       "      <td>17151</td>\n",
       "      <td>\\N</td>\n",
       "    </tr>\n",
       "    <tr>\n",
       "      <th>73</th>\n",
       "      <td>3</td>\n",
       "      <td>6</td>\n",
       "      <td>1</td>\n",
       "      <td>51</td>\n",
       "      <td>2081930</td>\n",
       "      <td>1</td>\n",
       "      <td>1798799</td>\n",
       "      <td>\\N</td>\n",
       "      <td>8</td>\n",
       "      <td>15351</td>\n",
       "      <td>\\N</td>\n",
       "    </tr>\n",
       "  </tbody>\n",
       "</table>\n",
       "</div>"
      ],
      "text/plain": [
       "    user_id  age  gender  time  creative_id  click_times    ad_id product_id  \\\n",
       "12        1    3       0    40       122032            1   109959       1334   \n",
       "62        3    6       1    14       825434            1   728308      35985   \n",
       "64        3    6       1    86      2032927            1  1757244      38250   \n",
       "66        3    6       1    86      3581615            1  3083678      37243   \n",
       "73        3    6       1    51      2081930            1  1798799         \\N   \n",
       "\n",
       "    product_category  advertiser_id industry  \n",
       "12                 2          11411       \\N  \n",
       "62                17          14186       \\N  \n",
       "64                17          15120       \\N  \n",
       "66                17          17151       \\N  \n",
       "73                 8          15351       \\N  "
      ]
     },
     "execution_count": 34,
     "metadata": {},
     "output_type": "execute_result"
    }
   ],
   "source": [
    "df_train[df_train.industry == r'\\N'].head()"
   ]
  },
  {
   "cell_type": "code",
   "execution_count": 43,
   "metadata": {},
   "outputs": [
    {
     "data": {
      "text/html": [
       "<div>\n",
       "<style scoped>\n",
       "    .dataframe tbody tr th:only-of-type {\n",
       "        vertical-align: middle;\n",
       "    }\n",
       "\n",
       "    .dataframe tbody tr th {\n",
       "        vertical-align: top;\n",
       "    }\n",
       "\n",
       "    .dataframe thead th {\n",
       "        text-align: right;\n",
       "    }\n",
       "</style>\n",
       "<table border=\"1\" class=\"dataframe\">\n",
       "  <thead>\n",
       "    <tr style=\"text-align: right;\">\n",
       "      <th></th>\n",
       "      <th>user_id</th>\n",
       "      <th>age</th>\n",
       "      <th>gender</th>\n",
       "      <th>time</th>\n",
       "      <th>creative_id</th>\n",
       "      <th>click_times</th>\n",
       "      <th>ad_id</th>\n",
       "      <th>product_id</th>\n",
       "      <th>product_category</th>\n",
       "      <th>advertiser_id</th>\n",
       "      <th>industry</th>\n",
       "    </tr>\n",
       "  </thead>\n",
       "  <tbody>\n",
       "    <tr>\n",
       "      <th>12</th>\n",
       "      <td>1</td>\n",
       "      <td>3</td>\n",
       "      <td>0</td>\n",
       "      <td>40</td>\n",
       "      <td>122032</td>\n",
       "      <td>1</td>\n",
       "      <td>109959</td>\n",
       "      <td>1334</td>\n",
       "      <td>2</td>\n",
       "      <td>11411</td>\n",
       "      <td>\\N</td>\n",
       "    </tr>\n",
       "    <tr>\n",
       "      <th>103</th>\n",
       "      <td>4</td>\n",
       "      <td>4</td>\n",
       "      <td>0</td>\n",
       "      <td>64</td>\n",
       "      <td>2928770</td>\n",
       "      <td>1</td>\n",
       "      <td>2517968</td>\n",
       "      <td>1334</td>\n",
       "      <td>2</td>\n",
       "      <td>29402</td>\n",
       "      <td>317</td>\n",
       "    </tr>\n",
       "    <tr>\n",
       "      <th>480</th>\n",
       "      <td>18</td>\n",
       "      <td>1</td>\n",
       "      <td>1</td>\n",
       "      <td>8</td>\n",
       "      <td>66299</td>\n",
       "      <td>1</td>\n",
       "      <td>61333</td>\n",
       "      <td>1334</td>\n",
       "      <td>2</td>\n",
       "      <td>15494</td>\n",
       "      <td>317</td>\n",
       "    </tr>\n",
       "    <tr>\n",
       "      <th>488</th>\n",
       "      <td>18</td>\n",
       "      <td>1</td>\n",
       "      <td>1</td>\n",
       "      <td>4</td>\n",
       "      <td>179839</td>\n",
       "      <td>1</td>\n",
       "      <td>161310</td>\n",
       "      <td>1334</td>\n",
       "      <td>2</td>\n",
       "      <td>15494</td>\n",
       "      <td>317</td>\n",
       "    </tr>\n",
       "    <tr>\n",
       "      <th>510</th>\n",
       "      <td>19</td>\n",
       "      <td>2</td>\n",
       "      <td>0</td>\n",
       "      <td>28</td>\n",
       "      <td>1439738</td>\n",
       "      <td>1</td>\n",
       "      <td>1255065</td>\n",
       "      <td>1334</td>\n",
       "      <td>2</td>\n",
       "      <td>21786</td>\n",
       "      <td>317</td>\n",
       "    </tr>\n",
       "  </tbody>\n",
       "</table>\n",
       "</div>"
      ],
      "text/plain": [
       "     user_id  age  gender  time  creative_id  click_times    ad_id product_id  \\\n",
       "12         1    3       0    40       122032            1   109959       1334   \n",
       "103        4    4       0    64      2928770            1  2517968       1334   \n",
       "480       18    1       1     8        66299            1    61333       1334   \n",
       "488       18    1       1     4       179839            1   161310       1334   \n",
       "510       19    2       0    28      1439738            1  1255065       1334   \n",
       "\n",
       "     product_category  advertiser_id industry  \n",
       "12                  2          11411       \\N  \n",
       "103                 2          29402      317  \n",
       "480                 2          15494      317  \n",
       "488                 2          15494      317  \n",
       "510                 2          21786      317  "
      ]
     },
     "execution_count": 43,
     "metadata": {},
     "output_type": "execute_result"
    }
   ],
   "source": [
    "df_train[df_train.product_id == '1334'].head()"
   ]
  },
  {
   "cell_type": "code",
   "execution_count": 49,
   "metadata": {},
   "outputs": [],
   "source": [
    "# product_id使用industry插补\n",
    "def get_imputation_dict(col, df, target_col):\n",
    "    ret = {}\n",
    "    group = df.groupby(col)\n",
    "    for k, df_v in tqdm(group):\n",
    "        ret[k] = df_v[target_col].value_counts().index[0]\n",
    "    return ret"
   ]
  },
  {
   "cell_type": "code",
   "execution_count": 50,
   "metadata": {},
   "outputs": [
    {
     "name": "stderr",
     "output_type": "stream",
     "text": [
      "100%|██████████| 245/245 [00:10<00:00, 22.97it/s]\n"
     ]
    }
   ],
   "source": [
    "df_imputation = df_train[df_train.product_id != r'\\N']\n",
    "d1 = get_imputation_dict('industry', df_imputation, 'product_id')"
   ]
  },
  {
   "cell_type": "code",
   "execution_count": 57,
   "metadata": {},
   "outputs": [
    {
     "data": {
      "text/html": [
       "<div>\n",
       "<style scoped>\n",
       "    .dataframe tbody tr th:only-of-type {\n",
       "        vertical-align: middle;\n",
       "    }\n",
       "\n",
       "    .dataframe tbody tr th {\n",
       "        vertical-align: top;\n",
       "    }\n",
       "\n",
       "    .dataframe thead th {\n",
       "        text-align: right;\n",
       "    }\n",
       "</style>\n",
       "<table border=\"1\" class=\"dataframe\">\n",
       "  <thead>\n",
       "    <tr style=\"text-align: right;\">\n",
       "      <th></th>\n",
       "      <th>user_id</th>\n",
       "      <th>age</th>\n",
       "      <th>gender</th>\n",
       "      <th>time</th>\n",
       "      <th>creative_id</th>\n",
       "      <th>click_times</th>\n",
       "      <th>ad_id</th>\n",
       "      <th>product_id</th>\n",
       "      <th>product_category</th>\n",
       "      <th>advertiser_id</th>\n",
       "      <th>industry</th>\n",
       "    </tr>\n",
       "  </thead>\n",
       "  <tbody>\n",
       "    <tr>\n",
       "      <th>7</th>\n",
       "      <td>1</td>\n",
       "      <td>3</td>\n",
       "      <td>0</td>\n",
       "      <td>60</td>\n",
       "      <td>2087846</td>\n",
       "      <td>1</td>\n",
       "      <td>1803758</td>\n",
       "      <td>\\N</td>\n",
       "      <td>18</td>\n",
       "      <td>44865</td>\n",
       "      <td>64</td>\n",
       "    </tr>\n",
       "    <tr>\n",
       "      <th>771</th>\n",
       "      <td>30</td>\n",
       "      <td>3</td>\n",
       "      <td>0</td>\n",
       "      <td>52</td>\n",
       "      <td>1986854</td>\n",
       "      <td>1</td>\n",
       "      <td>1718744</td>\n",
       "      <td>\\N</td>\n",
       "      <td>18</td>\n",
       "      <td>44865</td>\n",
       "      <td>64</td>\n",
       "    </tr>\n",
       "    <tr>\n",
       "      <th>10149</th>\n",
       "      <td>307</td>\n",
       "      <td>3</td>\n",
       "      <td>1</td>\n",
       "      <td>57</td>\n",
       "      <td>2087846</td>\n",
       "      <td>1</td>\n",
       "      <td>1803758</td>\n",
       "      <td>\\N</td>\n",
       "      <td>18</td>\n",
       "      <td>44865</td>\n",
       "      <td>64</td>\n",
       "    </tr>\n",
       "    <tr>\n",
       "      <th>16917</th>\n",
       "      <td>516</td>\n",
       "      <td>4</td>\n",
       "      <td>0</td>\n",
       "      <td>51</td>\n",
       "      <td>1987013</td>\n",
       "      <td>1</td>\n",
       "      <td>1718869</td>\n",
       "      <td>\\N</td>\n",
       "      <td>18</td>\n",
       "      <td>44865</td>\n",
       "      <td>64</td>\n",
       "    </tr>\n",
       "    <tr>\n",
       "      <th>30470</th>\n",
       "      <td>923</td>\n",
       "      <td>3</td>\n",
       "      <td>1</td>\n",
       "      <td>78</td>\n",
       "      <td>2460241</td>\n",
       "      <td>1</td>\n",
       "      <td>2119525</td>\n",
       "      <td>\\N</td>\n",
       "      <td>18</td>\n",
       "      <td>44953</td>\n",
       "      <td>64</td>\n",
       "    </tr>\n",
       "  </tbody>\n",
       "</table>\n",
       "</div>"
      ],
      "text/plain": [
       "       user_id  age  gender  time  creative_id  click_times    ad_id  \\\n",
       "7            1    3       0    60      2087846            1  1803758   \n",
       "771         30    3       0    52      1986854            1  1718744   \n",
       "10149      307    3       1    57      2087846            1  1803758   \n",
       "16917      516    4       0    51      1987013            1  1718869   \n",
       "30470      923    3       1    78      2460241            1  2119525   \n",
       "\n",
       "      product_id  product_category  advertiser_id industry  \n",
       "7             \\N                18          44865       64  \n",
       "771           \\N                18          44865       64  \n",
       "10149         \\N                18          44865       64  \n",
       "16917         \\N                18          44865       64  \n",
       "30470         \\N                18          44953       64  "
      ]
     },
     "execution_count": 57,
     "metadata": {},
     "output_type": "execute_result"
    }
   ],
   "source": [
    "df_train[df_train.industry == '64'].head()"
   ]
  },
  {
   "cell_type": "code",
   "execution_count": 52,
   "metadata": {},
   "outputs": [
    {
     "name": "stderr",
     "output_type": "stream",
     "text": [
      "100%|██████████| 15/15 [00:13<00:00,  1.14it/s]\n"
     ]
    }
   ],
   "source": [
    "df_imputation = df_train[df_train.industry != r'\\N']\n",
    "d2 = get_imputation_dict('product_category', df_imputation, 'industry')"
   ]
  },
  {
   "cell_type": "code",
   "execution_count": 67,
   "metadata": {},
   "outputs": [],
   "source": [
    "df_train['product_id'] = df_train.apply(lambda x: d1.get(x.industry, 0) if x.product_id == r'\\N' else x.product_id, axis=1)\n",
    "df_train['industry'] = df_train.apply(lambda x: d2.get(x.product_category, 0) if x.industry == r'\\N' else x.industry, axis=1)\n"
   ]
  },
  {
   "cell_type": "code",
   "execution_count": 68,
   "metadata": {},
   "outputs": [
    {
     "data": {
      "text/html": [
       "<div>\n",
       "<style scoped>\n",
       "    .dataframe tbody tr th:only-of-type {\n",
       "        vertical-align: middle;\n",
       "    }\n",
       "\n",
       "    .dataframe tbody tr th {\n",
       "        vertical-align: top;\n",
       "    }\n",
       "\n",
       "    .dataframe thead th {\n",
       "        text-align: right;\n",
       "    }\n",
       "</style>\n",
       "<table border=\"1\" class=\"dataframe\">\n",
       "  <thead>\n",
       "    <tr style=\"text-align: right;\">\n",
       "      <th></th>\n",
       "      <th>user_id</th>\n",
       "      <th>age</th>\n",
       "      <th>gender</th>\n",
       "      <th>time</th>\n",
       "      <th>creative_id</th>\n",
       "      <th>click_times</th>\n",
       "      <th>ad_id</th>\n",
       "      <th>product_id</th>\n",
       "      <th>product_category</th>\n",
       "      <th>advertiser_id</th>\n",
       "      <th>industry</th>\n",
       "    </tr>\n",
       "  </thead>\n",
       "  <tbody>\n",
       "    <tr>\n",
       "      <th>12</th>\n",
       "      <td>1</td>\n",
       "      <td>3</td>\n",
       "      <td>0</td>\n",
       "      <td>40</td>\n",
       "      <td>122032</td>\n",
       "      <td>1</td>\n",
       "      <td>109959</td>\n",
       "      <td>1334</td>\n",
       "      <td>2</td>\n",
       "      <td>11411</td>\n",
       "      <td>6</td>\n",
       "    </tr>\n",
       "    <tr>\n",
       "      <th>103</th>\n",
       "      <td>4</td>\n",
       "      <td>4</td>\n",
       "      <td>0</td>\n",
       "      <td>64</td>\n",
       "      <td>2928770</td>\n",
       "      <td>1</td>\n",
       "      <td>2517968</td>\n",
       "      <td>1334</td>\n",
       "      <td>2</td>\n",
       "      <td>29402</td>\n",
       "      <td>317</td>\n",
       "    </tr>\n",
       "    <tr>\n",
       "      <th>480</th>\n",
       "      <td>18</td>\n",
       "      <td>1</td>\n",
       "      <td>1</td>\n",
       "      <td>8</td>\n",
       "      <td>66299</td>\n",
       "      <td>1</td>\n",
       "      <td>61333</td>\n",
       "      <td>1334</td>\n",
       "      <td>2</td>\n",
       "      <td>15494</td>\n",
       "      <td>317</td>\n",
       "    </tr>\n",
       "    <tr>\n",
       "      <th>488</th>\n",
       "      <td>18</td>\n",
       "      <td>1</td>\n",
       "      <td>1</td>\n",
       "      <td>4</td>\n",
       "      <td>179839</td>\n",
       "      <td>1</td>\n",
       "      <td>161310</td>\n",
       "      <td>1334</td>\n",
       "      <td>2</td>\n",
       "      <td>15494</td>\n",
       "      <td>317</td>\n",
       "    </tr>\n",
       "    <tr>\n",
       "      <th>510</th>\n",
       "      <td>19</td>\n",
       "      <td>2</td>\n",
       "      <td>0</td>\n",
       "      <td>28</td>\n",
       "      <td>1439738</td>\n",
       "      <td>1</td>\n",
       "      <td>1255065</td>\n",
       "      <td>1334</td>\n",
       "      <td>2</td>\n",
       "      <td>21786</td>\n",
       "      <td>317</td>\n",
       "    </tr>\n",
       "  </tbody>\n",
       "</table>\n",
       "</div>"
      ],
      "text/plain": [
       "     user_id  age  gender  time  creative_id  click_times    ad_id product_id  \\\n",
       "12         1    3       0    40       122032            1   109959       1334   \n",
       "103        4    4       0    64      2928770            1  2517968       1334   \n",
       "480       18    1       1     8        66299            1    61333       1334   \n",
       "488       18    1       1     4       179839            1   161310       1334   \n",
       "510       19    2       0    28      1439738            1  1255065       1334   \n",
       "\n",
       "     product_category  advertiser_id industry  \n",
       "12                  2          11411        6  \n",
       "103                 2          29402      317  \n",
       "480                 2          15494      317  \n",
       "488                 2          15494      317  \n",
       "510                 2          21786      317  "
      ]
     },
     "execution_count": 68,
     "metadata": {},
     "output_type": "execute_result"
    }
   ],
   "source": [
    "df_train[df_train.product_id == '1334'].head()"
   ]
  },
  {
   "cell_type": "code",
   "execution_count": 69,
   "metadata": {},
   "outputs": [
    {
     "data": {
      "text/html": [
       "<div>\n",
       "<style scoped>\n",
       "    .dataframe tbody tr th:only-of-type {\n",
       "        vertical-align: middle;\n",
       "    }\n",
       "\n",
       "    .dataframe tbody tr th {\n",
       "        vertical-align: top;\n",
       "    }\n",
       "\n",
       "    .dataframe thead th {\n",
       "        text-align: right;\n",
       "    }\n",
       "</style>\n",
       "<table border=\"1\" class=\"dataframe\">\n",
       "  <thead>\n",
       "    <tr style=\"text-align: right;\">\n",
       "      <th></th>\n",
       "      <th>user_id</th>\n",
       "      <th>age</th>\n",
       "      <th>gender</th>\n",
       "      <th>time</th>\n",
       "      <th>creative_id</th>\n",
       "      <th>click_times</th>\n",
       "      <th>ad_id</th>\n",
       "      <th>product_id</th>\n",
       "      <th>product_category</th>\n",
       "      <th>advertiser_id</th>\n",
       "      <th>industry</th>\n",
       "    </tr>\n",
       "  </thead>\n",
       "  <tbody>\n",
       "    <tr>\n",
       "      <th>0</th>\n",
       "      <td>1</td>\n",
       "      <td>3</td>\n",
       "      <td>0</td>\n",
       "      <td>43</td>\n",
       "      <td>71691</td>\n",
       "      <td>1</td>\n",
       "      <td>66210</td>\n",
       "      <td>12829</td>\n",
       "      <td>18</td>\n",
       "      <td>14681</td>\n",
       "      <td>326</td>\n",
       "    </tr>\n",
       "    <tr>\n",
       "      <th>1</th>\n",
       "      <td>1</td>\n",
       "      <td>3</td>\n",
       "      <td>0</td>\n",
       "      <td>20</td>\n",
       "      <td>821396</td>\n",
       "      <td>1</td>\n",
       "      <td>724607</td>\n",
       "      <td>12829</td>\n",
       "      <td>5</td>\n",
       "      <td>7293</td>\n",
       "      <td>326</td>\n",
       "    </tr>\n",
       "    <tr>\n",
       "      <th>2</th>\n",
       "      <td>1</td>\n",
       "      <td>3</td>\n",
       "      <td>0</td>\n",
       "      <td>20</td>\n",
       "      <td>209778</td>\n",
       "      <td>1</td>\n",
       "      <td>188507</td>\n",
       "      <td>136</td>\n",
       "      <td>2</td>\n",
       "      <td>9702</td>\n",
       "      <td>6</td>\n",
       "    </tr>\n",
       "    <tr>\n",
       "      <th>3</th>\n",
       "      <td>1</td>\n",
       "      <td>3</td>\n",
       "      <td>0</td>\n",
       "      <td>20</td>\n",
       "      <td>877468</td>\n",
       "      <td>1</td>\n",
       "      <td>773445</td>\n",
       "      <td>31589</td>\n",
       "      <td>5</td>\n",
       "      <td>29455</td>\n",
       "      <td>106</td>\n",
       "    </tr>\n",
       "    <tr>\n",
       "      <th>4</th>\n",
       "      <td>1</td>\n",
       "      <td>3</td>\n",
       "      <td>0</td>\n",
       "      <td>64</td>\n",
       "      <td>3068256</td>\n",
       "      <td>1</td>\n",
       "      <td>2638858</td>\n",
       "      <td>1454</td>\n",
       "      <td>2</td>\n",
       "      <td>23575</td>\n",
       "      <td>238</td>\n",
       "    </tr>\n",
       "  </tbody>\n",
       "</table>\n",
       "</div>"
      ],
      "text/plain": [
       "   user_id  age  gender  time  creative_id  click_times    ad_id product_id  \\\n",
       "0        1    3       0    43        71691            1    66210      12829   \n",
       "1        1    3       0    20       821396            1   724607      12829   \n",
       "2        1    3       0    20       209778            1   188507        136   \n",
       "3        1    3       0    20       877468            1   773445      31589   \n",
       "4        1    3       0    64      3068256            1  2638858       1454   \n",
       "\n",
       "   product_category  advertiser_id industry  \n",
       "0                18          14681      326  \n",
       "1                 5           7293      326  \n",
       "2                 2           9702        6  \n",
       "3                 5          29455      106  \n",
       "4                 2          23575      238  "
      ]
     },
     "execution_count": 69,
     "metadata": {},
     "output_type": "execute_result"
    }
   ],
   "source": [
    "df_train.head()"
   ]
  },
  {
   "cell_type": "code",
   "execution_count": 72,
   "metadata": {},
   "outputs": [],
   "source": [
    "df_train = df_train.astype(int)"
   ]
  },
  {
   "cell_type": "code",
   "execution_count": 73,
   "metadata": {},
   "outputs": [
    {
     "data": {
      "text/html": [
       "<div>\n",
       "<style scoped>\n",
       "    .dataframe tbody tr th:only-of-type {\n",
       "        vertical-align: middle;\n",
       "    }\n",
       "\n",
       "    .dataframe tbody tr th {\n",
       "        vertical-align: top;\n",
       "    }\n",
       "\n",
       "    .dataframe thead th {\n",
       "        text-align: right;\n",
       "    }\n",
       "</style>\n",
       "<table border=\"1\" class=\"dataframe\">\n",
       "  <thead>\n",
       "    <tr style=\"text-align: right;\">\n",
       "      <th></th>\n",
       "      <th>time</th>\n",
       "      <th>user_id</th>\n",
       "      <th>creative_id</th>\n",
       "      <th>click_times</th>\n",
       "      <th>ad_id</th>\n",
       "      <th>product_id</th>\n",
       "      <th>product_category</th>\n",
       "      <th>advertiser_id</th>\n",
       "      <th>industry</th>\n",
       "    </tr>\n",
       "  </thead>\n",
       "  <tbody>\n",
       "    <tr>\n",
       "      <th>0</th>\n",
       "      <td>20</td>\n",
       "      <td>3131989</td>\n",
       "      <td>645764</td>\n",
       "      <td>1</td>\n",
       "      <td>573314</td>\n",
       "      <td>58</td>\n",
       "      <td>2</td>\n",
       "      <td>14689</td>\n",
       "      <td>6</td>\n",
       "    </tr>\n",
       "    <tr>\n",
       "      <th>1</th>\n",
       "      <td>20</td>\n",
       "      <td>3131989</td>\n",
       "      <td>1027422</td>\n",
       "      <td>1</td>\n",
       "      <td>902764</td>\n",
       "      <td>129</td>\n",
       "      <td>2</td>\n",
       "      <td>42272</td>\n",
       "      <td>6</td>\n",
       "    </tr>\n",
       "    <tr>\n",
       "      <th>2</th>\n",
       "      <td>20</td>\n",
       "      <td>3131989</td>\n",
       "      <td>1106443</td>\n",
       "      <td>1</td>\n",
       "      <td>970829</td>\n",
       "      <td>2171</td>\n",
       "      <td>2</td>\n",
       "      <td>37513</td>\n",
       "      <td>322</td>\n",
       "    </tr>\n",
       "    <tr>\n",
       "      <th>3</th>\n",
       "      <td>20</td>\n",
       "      <td>3131989</td>\n",
       "      <td>629802</td>\n",
       "      <td>1</td>\n",
       "      <td>559183</td>\n",
       "      <td>\\N</td>\n",
       "      <td>18</td>\n",
       "      <td>14678</td>\n",
       "      <td>26</td>\n",
       "    </tr>\n",
       "    <tr>\n",
       "      <th>4</th>\n",
       "      <td>59</td>\n",
       "      <td>3131989</td>\n",
       "      <td>2839769</td>\n",
       "      <td>1</td>\n",
       "      <td>2441288</td>\n",
       "      <td>129</td>\n",
       "      <td>2</td>\n",
       "      <td>35328</td>\n",
       "      <td>6</td>\n",
       "    </tr>\n",
       "  </tbody>\n",
       "</table>\n",
       "</div>"
      ],
      "text/plain": [
       "   time  user_id  creative_id  click_times    ad_id product_id  \\\n",
       "0    20  3131989       645764            1   573314         58   \n",
       "1    20  3131989      1027422            1   902764        129   \n",
       "2    20  3131989      1106443            1   970829       2171   \n",
       "3    20  3131989       629802            1   559183         \\N   \n",
       "4    59  3131989      2839769            1  2441288        129   \n",
       "\n",
       "   product_category  advertiser_id industry  \n",
       "0                 2          14689        6  \n",
       "1                 2          42272        6  \n",
       "2                 2          37513      322  \n",
       "3                18          14678       26  \n",
       "4                 2          35328        6  "
      ]
     },
     "execution_count": 73,
     "metadata": {},
     "output_type": "execute_result"
    }
   ],
   "source": [
    "# 测试数据\n",
    "test_log = pd.read_csv('test/click_log.csv')\n",
    "test_ad = pd.read_csv('test/ad.csv')\n",
    "test_log = test_log[test_log.click_times < 10]\n",
    "df_test = pd.merge(test_log, test_ad, how='left', on='creative_id')\n",
    "df_test.head()"
   ]
  },
  {
   "cell_type": "code",
   "execution_count": 75,
   "metadata": {},
   "outputs": [],
   "source": [
    "df_test['product_id'] = df_test.apply(lambda x: d1.get(x.industry, 0) if x.product_id == r'\\N' else x.product_id, axis=1)\n",
    "df_test['industry'] = df_test.apply(lambda x: d2.get(x.product_category, 0) if x.industry == r'\\N' else x.industry, axis=1)\n",
    "df_test = df_test.astype(int)"
   ]
  },
  {
   "cell_type": "code",
   "execution_count": 76,
   "metadata": {},
   "outputs": [],
   "source": [
    "# 去低频词\n",
    "counter = Counter()\n",
    "counter.update(df_train.ad_id.values)\n",
    "counter.update(df_test.ad_id.values)"
   ]
  },
  {
   "cell_type": "code",
   "execution_count": 77,
   "metadata": {},
   "outputs": [
    {
     "data": {
      "text/plain": [
       "array([ 1.,  1.,  1.,  1.,  2.,  3.,  5.,  9., 21.])"
      ]
     },
     "execution_count": 77,
     "metadata": {},
     "output_type": "execute_result"
    }
   ],
   "source": [
    "# 构建词表 去除低频词\n",
    "ad_id_count = np.array([v for k, v in counter.items()])\n",
    "np.quantile(ad_id_count, [0.01, 0.1, 0.2, 0.3, 0.5, 0.6, 0.7, 0.8, 0.9])"
   ]
  },
  {
   "cell_type": "code",
   "execution_count": 83,
   "metadata": {},
   "outputs": [
    {
     "data": {
      "text/plain": [
       "579845"
      ]
     },
     "execution_count": 83,
     "metadata": {},
     "output_type": "execute_result"
    }
   ],
   "source": [
    "# 阈值10的creative_id数\n",
    "(ad_id_count >= 10).sum()"
   ]
  },
  {
   "cell_type": "code",
   "execution_count": 86,
   "metadata": {},
   "outputs": [
    {
     "data": {
      "text/plain": [
       "579845"
      ]
     },
     "execution_count": 86,
     "metadata": {},
     "output_type": "execute_result"
    }
   ],
   "source": [
    "# 构建vocab  0 for pad, 1 for unk\n",
    "words = [k for k, v in counter.items() if v >= 10]\n",
    "vocab_ad = dict(zip(words, range(2, len(words) + 2)))\n",
    "len(vocab_ad)"
   ]
  },
  {
   "cell_type": "code",
   "execution_count": 85,
   "metadata": {},
   "outputs": [
    {
     "name": "stdout",
     "output_type": "stream",
     "text": [
      "(30081881, 11) (33582799, 9)\n",
      "(27041830, 11) (30165743, 9)\n"
     ]
    }
   ],
   "source": [
    "# 过滤低频词\n",
    "print(df_train.shape, df_test.shape)\n",
    "df_train = df_train[df_train.ad_id.isin(vocab)]\n",
    "df_test = df_test[df_test.ad_id.isin(vocab)]\n",
    "print(df_train.shape, df_test.shape)"
   ]
  },
  {
   "cell_type": "code",
   "execution_count": 88,
   "metadata": {},
   "outputs": [],
   "source": [
    "vocab = {}\n",
    "for col in ['creative_id', 'product_id', 'product_category', 'advertiser_id', 'industry']:\n",
    "    words = set(set(df_train[col].values) | set(df_test[col].values))\n",
    "    vocab[col] = dict(zip(words, range(2, len(words) + 2)))"
   ]
  },
  {
   "cell_type": "code",
   "execution_count": 89,
   "metadata": {},
   "outputs": [],
   "source": [
    "vocab['ad_id'] = vocab_ad"
   ]
  },
  {
   "cell_type": "code",
   "execution_count": 90,
   "metadata": {},
   "outputs": [],
   "source": [
    "# 排序\n",
    "df_train.sort_values(by=['user_id', 'time'], inplace=True)\n",
    "df_test.sort_values(by=['user_id', 'time'], inplace=True)"
   ]
  },
  {
   "cell_type": "code",
   "execution_count": 91,
   "metadata": {},
   "outputs": [
    {
     "data": {
      "text/html": [
       "<div>\n",
       "<style scoped>\n",
       "    .dataframe tbody tr th:only-of-type {\n",
       "        vertical-align: middle;\n",
       "    }\n",
       "\n",
       "    .dataframe tbody tr th {\n",
       "        vertical-align: top;\n",
       "    }\n",
       "\n",
       "    .dataframe thead th {\n",
       "        text-align: right;\n",
       "    }\n",
       "</style>\n",
       "<table border=\"1\" class=\"dataframe\">\n",
       "  <thead>\n",
       "    <tr style=\"text-align: right;\">\n",
       "      <th></th>\n",
       "      <th>user_id</th>\n",
       "      <th>age</th>\n",
       "      <th>gender</th>\n",
       "      <th>time</th>\n",
       "      <th>creative_id</th>\n",
       "      <th>click_times</th>\n",
       "      <th>ad_id</th>\n",
       "      <th>product_id</th>\n",
       "      <th>product_category</th>\n",
       "      <th>advertiser_id</th>\n",
       "      <th>industry</th>\n",
       "    </tr>\n",
       "  </thead>\n",
       "  <tbody>\n",
       "    <tr>\n",
       "      <th>1</th>\n",
       "      <td>1</td>\n",
       "      <td>3</td>\n",
       "      <td>0</td>\n",
       "      <td>20</td>\n",
       "      <td>821396</td>\n",
       "      <td>1</td>\n",
       "      <td>724607</td>\n",
       "      <td>12829</td>\n",
       "      <td>5</td>\n",
       "      <td>7293</td>\n",
       "      <td>326</td>\n",
       "    </tr>\n",
       "    <tr>\n",
       "      <th>2</th>\n",
       "      <td>1</td>\n",
       "      <td>3</td>\n",
       "      <td>0</td>\n",
       "      <td>20</td>\n",
       "      <td>209778</td>\n",
       "      <td>1</td>\n",
       "      <td>188507</td>\n",
       "      <td>136</td>\n",
       "      <td>2</td>\n",
       "      <td>9702</td>\n",
       "      <td>6</td>\n",
       "    </tr>\n",
       "    <tr>\n",
       "      <th>3</th>\n",
       "      <td>1</td>\n",
       "      <td>3</td>\n",
       "      <td>0</td>\n",
       "      <td>20</td>\n",
       "      <td>877468</td>\n",
       "      <td>1</td>\n",
       "      <td>773445</td>\n",
       "      <td>31589</td>\n",
       "      <td>5</td>\n",
       "      <td>29455</td>\n",
       "      <td>106</td>\n",
       "    </tr>\n",
       "    <tr>\n",
       "      <th>5</th>\n",
       "      <td>1</td>\n",
       "      <td>3</td>\n",
       "      <td>0</td>\n",
       "      <td>39</td>\n",
       "      <td>1683713</td>\n",
       "      <td>1</td>\n",
       "      <td>1458878</td>\n",
       "      <td>12829</td>\n",
       "      <td>5</td>\n",
       "      <td>14668</td>\n",
       "      <td>326</td>\n",
       "    </tr>\n",
       "    <tr>\n",
       "      <th>12</th>\n",
       "      <td>1</td>\n",
       "      <td>3</td>\n",
       "      <td>0</td>\n",
       "      <td>40</td>\n",
       "      <td>122032</td>\n",
       "      <td>1</td>\n",
       "      <td>109959</td>\n",
       "      <td>1334</td>\n",
       "      <td>2</td>\n",
       "      <td>11411</td>\n",
       "      <td>6</td>\n",
       "    </tr>\n",
       "  </tbody>\n",
       "</table>\n",
       "</div>"
      ],
      "text/plain": [
       "    user_id  age  gender  time  creative_id  click_times    ad_id  product_id  \\\n",
       "1         1    3       0    20       821396            1   724607       12829   \n",
       "2         1    3       0    20       209778            1   188507         136   \n",
       "3         1    3       0    20       877468            1   773445       31589   \n",
       "5         1    3       0    39      1683713            1  1458878       12829   \n",
       "12        1    3       0    40       122032            1   109959        1334   \n",
       "\n",
       "    product_category  advertiser_id  industry  \n",
       "1                  5           7293       326  \n",
       "2                  2           9702         6  \n",
       "3                  5          29455       106  \n",
       "5                  5          14668       326  \n",
       "12                 2          11411         6  "
      ]
     },
     "execution_count": 91,
     "metadata": {},
     "output_type": "execute_result"
    }
   ],
   "source": [
    "df_train.head()"
   ]
  },
  {
   "cell_type": "code",
   "execution_count": 92,
   "metadata": {},
   "outputs": [
    {
     "data": {
      "text/html": [
       "<div>\n",
       "<style scoped>\n",
       "    .dataframe tbody tr th:only-of-type {\n",
       "        vertical-align: middle;\n",
       "    }\n",
       "\n",
       "    .dataframe tbody tr th {\n",
       "        vertical-align: top;\n",
       "    }\n",
       "\n",
       "    .dataframe thead th {\n",
       "        text-align: right;\n",
       "    }\n",
       "</style>\n",
       "<table border=\"1\" class=\"dataframe\">\n",
       "  <thead>\n",
       "    <tr style=\"text-align: right;\">\n",
       "      <th></th>\n",
       "      <th>user_id</th>\n",
       "      <th>age</th>\n",
       "      <th>gender</th>\n",
       "      <th>time</th>\n",
       "      <th>creative_id</th>\n",
       "      <th>click_times</th>\n",
       "      <th>ad_id</th>\n",
       "      <th>product_id</th>\n",
       "      <th>product_category</th>\n",
       "      <th>advertiser_id</th>\n",
       "      <th>industry</th>\n",
       "    </tr>\n",
       "  </thead>\n",
       "  <tbody>\n",
       "    <tr>\n",
       "      <th>7688</th>\n",
       "      <td>233</td>\n",
       "      <td>1</td>\n",
       "      <td>0</td>\n",
       "      <td>72</td>\n",
       "      <td>3375481</td>\n",
       "      <td>9</td>\n",
       "      <td>2904869</td>\n",
       "      <td>1261</td>\n",
       "      <td>18</td>\n",
       "      <td>18227</td>\n",
       "      <td>6</td>\n",
       "    </tr>\n",
       "    <tr>\n",
       "      <th>197527</th>\n",
       "      <td>5868</td>\n",
       "      <td>2</td>\n",
       "      <td>0</td>\n",
       "      <td>68</td>\n",
       "      <td>2464419</td>\n",
       "      <td>9</td>\n",
       "      <td>2123143</td>\n",
       "      <td>32234</td>\n",
       "      <td>18</td>\n",
       "      <td>14681</td>\n",
       "      <td>295</td>\n",
       "    </tr>\n",
       "    <tr>\n",
       "      <th>269755</th>\n",
       "      <td>8028</td>\n",
       "      <td>3</td>\n",
       "      <td>1</td>\n",
       "      <td>44</td>\n",
       "      <td>550614</td>\n",
       "      <td>9</td>\n",
       "      <td>489804</td>\n",
       "      <td>161</td>\n",
       "      <td>2</td>\n",
       "      <td>16582</td>\n",
       "      <td>231</td>\n",
       "    </tr>\n",
       "    <tr>\n",
       "      <th>291087</th>\n",
       "      <td>8634</td>\n",
       "      <td>6</td>\n",
       "      <td>0</td>\n",
       "      <td>19</td>\n",
       "      <td>11050</td>\n",
       "      <td>9</td>\n",
       "      <td>12486</td>\n",
       "      <td>1261</td>\n",
       "      <td>18</td>\n",
       "      <td>8385</td>\n",
       "      <td>6</td>\n",
       "    </tr>\n",
       "    <tr>\n",
       "      <th>405878</th>\n",
       "      <td>12083</td>\n",
       "      <td>7</td>\n",
       "      <td>0</td>\n",
       "      <td>19</td>\n",
       "      <td>168293</td>\n",
       "      <td>9</td>\n",
       "      <td>150849</td>\n",
       "      <td>145</td>\n",
       "      <td>2</td>\n",
       "      <td>37857</td>\n",
       "      <td>60</td>\n",
       "    </tr>\n",
       "  </tbody>\n",
       "</table>\n",
       "</div>"
      ],
      "text/plain": [
       "        user_id  age  gender  time  creative_id  click_times    ad_id  \\\n",
       "7688        233    1       0    72      3375481            9  2904869   \n",
       "197527     5868    2       0    68      2464419            9  2123143   \n",
       "269755     8028    3       1    44       550614            9   489804   \n",
       "291087     8634    6       0    19        11050            9    12486   \n",
       "405878    12083    7       0    19       168293            9   150849   \n",
       "\n",
       "        product_id  product_category  advertiser_id  industry  \n",
       "7688          1261                18          18227         6  \n",
       "197527       32234                18          14681       295  \n",
       "269755         161                 2          16582       231  \n",
       "291087        1261                18           8385         6  \n",
       "405878         145                 2          37857        60  "
      ]
     },
     "execution_count": 92,
     "metadata": {},
     "output_type": "execute_result"
    }
   ],
   "source": [
    "df_train[df_train.click_times > 8].head()"
   ]
  },
  {
   "cell_type": "code",
   "execution_count": 97,
   "metadata": {},
   "outputs": [
    {
     "name": "stderr",
     "output_type": "stream",
     "text": [
      "100%|██████████| 899999/899999 [09:16<00:00, 1616.29it/s]\n"
     ]
    }
   ],
   "source": [
    "# 保存 \n",
    "train_group = df_train.groupby('user_id')\n",
    "with open('./datas/train.csv', 'w') as f:\n",
    "    for uid, df_user in tqdm(train_group):\n",
    "        values = df_user.values\n",
    "        user = '_'.join([str(uid), str(values[0, 1]), str(values[0, 2])])\n",
    "        creative_id = '_'.join([str(vocab['creative_id'][x]) for x in values[:, 4]])\n",
    "        ad_id = '_'.join([str(vocab['ad_id'][x]) for x in values[:, 6]])\n",
    "        product_id = '_'.join([str(vocab['product_id'][x]) for x in values[:, 7]])\n",
    "        product_category = '_'.join([str(vocab['product_category'][x]) for x in values[:, 8]])\n",
    "        advertiser_id = '_'.join([str(vocab['advertiser_id'][x]) for x in values[:, 9]])\n",
    "        industry = '_'.join([str(vocab['industry'][x]) for x in values[:, 10]])\n",
    "        line = ' '.join([user, creative_id, ad_id, product_id, product_category, advertiser_id, industry]) + '\\n'\n",
    "        f.write(line)"
   ]
  },
  {
   "cell_type": "code",
   "execution_count": null,
   "metadata": {},
   "outputs": [],
   "source": [
    "df_test.head()"
   ]
  },
  {
   "cell_type": "code",
   "execution_count": 98,
   "metadata": {},
   "outputs": [
    {
     "name": "stderr",
     "output_type": "stream",
     "text": [
      "100%|██████████| 999999/999999 [10:31<00:00, 1584.48it/s] \n"
     ]
    }
   ],
   "source": [
    "test_group = df_test.groupby('user_id')\n",
    "with open('./datas/test.csv', 'w') as f:\n",
    "    for uid, df_user in tqdm(test_group):\n",
    "        values = df_user.values\n",
    "        user = str(uid)\n",
    "        creative_id = '_'.join([str(vocab['creative_id'][x]) for x in values[:, 2]])\n",
    "        ad_id = '_'.join([str(vocab['ad_id'][x]) for x in values[:, 4]])\n",
    "        product_id = '_'.join([str(vocab['product_id'][x]) for x in values[:, 5]])\n",
    "        product_category = '_'.join([str(vocab['product_category'][x]) for x in values[:, 6]])\n",
    "        advertiser_id = '_'.join([str(vocab['advertiser_id'][x]) for x in values[:, 7]])\n",
    "        industry = '_'.join([str(vocab['industry'][x]) for x in values[:, 8]])\n",
    "        line = ' '.join([user, creative_id, ad_id, product_id, product_category, advertiser_id, industry]) + '\\n'\n",
    "        f.write(line)"
   ]
  },
  {
   "cell_type": "code",
   "execution_count": 100,
   "metadata": {},
   "outputs": [
    {
     "data": {
      "text/plain": [
       "{3086425}"
      ]
     },
     "execution_count": 100,
     "metadata": {},
     "output_type": "execute_result"
    }
   ],
   "source": [
    "# gender 1 , age 3\n",
    "set(test_log.user_id.unique()) - set(df_test.user_id.unique())"
   ]
  },
  {
   "cell_type": "code",
   "execution_count": null,
   "metadata": {},
   "outputs": [],
   "source": []
  },
  {
   "cell_type": "code",
   "execution_count": 101,
   "metadata": {},
   "outputs": [
    {
     "name": "stdout",
     "output_type": "stream",
     "text": [
      "757880\n",
      "579847\n",
      "11108\n",
      "20\n",
      "24366\n",
      "302\n"
     ]
    }
   ],
   "source": [
    "for col in ['creative_id', 'ad_id', 'product_id', 'product_category', 'advertiser_id', 'industry']:\n",
    "    print(len(vocab[col]) + 2)"
   ]
  },
  {
   "cell_type": "code",
   "execution_count": 3,
   "metadata": {},
   "outputs": [
    {
     "name": "stderr",
     "output_type": "stream",
     "text": [
      "899999it [00:13, 66480.98it/s]\n"
     ]
    }
   ],
   "source": [
    "train_datas = []\n",
    "with open('./datas/train.csv', 'r') as f:\n",
    "    train_datas = [line.strip().split()[1:] for line in tqdm(f)]"
   ]
  },
  {
   "cell_type": "code",
   "execution_count": 4,
   "metadata": {},
   "outputs": [
    {
     "name": "stderr",
     "output_type": "stream",
     "text": [
      "999999it [00:17, 58636.41it/s]\n"
     ]
    }
   ],
   "source": [
    "with open('./datas/test.csv', 'r') as f:\n",
    "    test_datas = [line.strip().split()[1:] for line in tqdm(f)]"
   ]
  },
  {
   "cell_type": "code",
   "execution_count": 4,
   "metadata": {},
   "outputs": [
    {
     "name": "stderr",
     "output_type": "stream",
     "text": [
      "100%|██████████| 1899998/1899998 [02:50<00:00, 11148.24it/s]\n"
     ]
    }
   ],
   "source": [
    "creative_id, ad_id, product_id, product_category, advertiser_id, industry = [], [], [], [], [], []\n",
    "for line in tqdm(train_datas + test_datas):\n",
    "    creative_id.append(line[0].split('_'))\n",
    "    ad_id.append(line[1].split('_'))\n",
    "    product_id.append(line[2].split('_'))\n",
    "    product_category.append(line[3].split('_'))\n",
    "    advertiser_id.append(line[4].split('_'))\n",
    "    industry.append(line[5].split('_'))"
   ]
  },
  {
   "cell_type": "code",
   "execution_count": 6,
   "metadata": {},
   "outputs": [],
   "source": [
    "model_1 = gensim.models.Word2Vec(creative_id, min_count=1, size=256, workers=-1, iter=100)\n",
    "model_2 = gensim.models.Word2Vec(ad_id, min_count=1, size=256, workers=-1, iter=100)\n",
    "model_3 = gensim.models.Word2Vec(product_id, min_count=1, size=256, workers=-1, iter=100)\n",
    "model_4 = gensim.models.Word2Vec(advertiser_id, min_count=1, size=256, workers=-1, iter=100)"
   ]
  },
  {
   "cell_type": "code",
   "execution_count": 7,
   "metadata": {},
   "outputs": [],
   "source": [
    "model_1.save('./word2vec/c_id.model')\n",
    "model_2.save('./word2vec/ad_id.model')\n",
    "model_3.save('./word2vec/p_id.model')\n",
    "model_4.save('./word2vec/a_id.model')"
   ]
  },
  {
   "cell_type": "code",
   "execution_count": 8,
   "metadata": {},
   "outputs": [],
   "source": [
    "length = np.array([len(x) for x in creative_id])"
   ]
  },
  {
   "cell_type": "code",
   "execution_count": 9,
   "metadata": {},
   "outputs": [
    {
     "data": {
      "text/plain": [
       "array([ 41.,  59.,  79., 110., 137.])"
      ]
     },
     "execution_count": 9,
     "metadata": {},
     "output_type": "execute_result"
    }
   ],
   "source": [
    "np.quantile(length, [0.8, 0.9, 0.95, 0.98, 0.99])"
   ]
  },
  {
   "cell_type": "code",
   "execution_count": 10,
   "metadata": {},
   "outputs": [
    {
     "data": {
      "text/plain": [
       "array([0., 0., 0., 0., 0., 0., 0., 0., 0., 0.])"
      ]
     },
     "execution_count": 10,
     "metadata": {},
     "output_type": "execute_result"
    }
   ],
   "source": [
    "np.zeros(10)"
   ]
  },
  {
   "cell_type": "code",
   "execution_count": 5,
   "metadata": {},
   "outputs": [
    {
     "name": "stderr",
     "output_type": "stream",
     "text": [
      "100%|██████████| 1899998/1899998 [00:35<00:00, 53820.56it/s] \n"
     ]
    }
   ],
   "source": [
    "creative_id, ad_id, product_id, product_category, advertiser_id, industry = [], [], [], [], [], []\n",
    "for line in tqdm(train_datas + test_datas):\n",
    "    ad_id.append(line[1].split('_'))"
   ]
  },
  {
   "cell_type": "code",
   "execution_count": 6,
   "metadata": {},
   "outputs": [],
   "source": [
    "model = gensim.models.Word2Vec(ad_id, min_count=1, size=512, workers=-1, iter=100)"
   ]
  },
  {
   "cell_type": "code",
   "execution_count": 7,
   "metadata": {},
   "outputs": [],
   "source": [
    "model.save('./word2vec/ad_id_512.model')"
   ]
  },
  {
   "cell_type": "code",
   "execution_count": null,
   "metadata": {},
   "outputs": [],
   "source": []
  }
 ],
 "metadata": {
  "kernelspec": {
   "display_name": "Python 3",
   "language": "python",
   "name": "python3"
  },
  "language_info": {
   "codemirror_mode": {
    "name": "ipython",
    "version": 3
   },
   "file_extension": ".py",
   "mimetype": "text/x-python",
   "name": "python",
   "nbconvert_exporter": "python",
   "pygments_lexer": "ipython3",
   "version": "3.6.5"
  }
 },
 "nbformat": 4,
 "nbformat_minor": 2
}
