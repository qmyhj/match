{
 "cells": [
  {
   "cell_type": "code",
   "execution_count": 22,
   "metadata": {},
   "outputs": [],
   "source": [
    "import networkx as nx\n",
    "from tqdm import tqdm\n",
    "from ge.models import deepwalk, line, node2vec\n",
    "import numpy as np"
   ]
  },
  {
   "cell_type": "code",
   "execution_count": 14,
   "metadata": {},
   "outputs": [
    {
     "name": "stderr",
     "output_type": "stream",
     "text": [
      "899999it [00:32, 27982.39it/s]\n"
     ]
    }
   ],
   "source": [
    "path = './datas/train.csv'\n",
    "ad_id, product_id, advertiser_id = [], [], []\n",
    "with open(path, 'r') as f:\n",
    "    for line in tqdm(f):\n",
    "        line = line.strip()\n",
    "        if not line:\n",
    "            continue\n",
    "        seqences = line.split()\n",
    "        ad_id.append(seqences[2].split('_'))\n",
    "        product_id.append(seqences[3].split('_'))\n",
    "        advertiser_id.append(seqences[5].split('_'))"
   ]
  },
  {
   "cell_type": "code",
   "execution_count": 15,
   "metadata": {},
   "outputs": [
    {
     "data": {
      "text/plain": [
       "['3', '4', '5', '7', '13', '2', '8', '10', '9', '6', '11', '11', '12']"
      ]
     },
     "execution_count": 15,
     "metadata": {},
     "output_type": "execute_result"
    }
   ],
   "source": [
    "ad_id[0]"
   ]
  },
  {
   "cell_type": "code",
   "execution_count": 16,
   "metadata": {},
   "outputs": [],
   "source": [
    "def save_edges(datas, path):\n",
    "    with open(path, 'w') as f:\n",
    "        for data in datas:\n",
    "            if len(data) < 2:\n",
    "                continue\n",
    "            for i in range(len(data)-1):\n",
    "                line = data[i] + ' ' + data[i+1] + '\\n'\n",
    "                f.write(line)"
   ]
  },
  {
   "cell_type": "code",
   "execution_count": 17,
   "metadata": {},
   "outputs": [],
   "source": [
    "save_edges(ad_id, './datas/ad_id_edge_list.txt')\n",
    "save_edges(product_id, './datas/product_id_edge_list.txt')\n",
    "save_edges(advertiser_id, './datas/advertiser_id_edge_list.txt')"
   ]
  },
  {
   "cell_type": "code",
   "execution_count": 19,
   "metadata": {},
   "outputs": [],
   "source": [
    "G = nx.read_edgelist('./datas/ad_id_edge_list.txt',\n",
    "                     create_using=nx.DiGraph(), nodetype=None, data=[('weight', int)])"
   ]
  },
  {
   "cell_type": "code",
   "execution_count": 20,
   "metadata": {},
   "outputs": [
    {
     "name": "stderr",
     "output_type": "stream",
     "text": [
      "[Parallel(n_jobs=1)]: Using backend SequentialBackend with 1 concurrent workers.\n",
      "[Parallel(n_jobs=1)]: Done   1 out of   1 | elapsed: 31.0min finished\n"
     ]
    }
   ],
   "source": [
    "model = DeepWalk(G, walk_length=20, num_walks=1, workers=1)"
   ]
  },
  {
   "cell_type": "code",
   "execution_count": 21,
   "metadata": {},
   "outputs": [
    {
     "name": "stdout",
     "output_type": "stream",
     "text": [
      "Learning embedding vectors...\n",
      "Learning embedding vectors done!\n"
     ]
    },
    {
     "data": {
      "text/plain": [
       "<gensim.models.word2vec.Word2Vec at 0x7f51c56e2550>"
      ]
     },
     "execution_count": 21,
     "metadata": {},
     "output_type": "execute_result"
    }
   ],
   "source": [
    "model.train(embed_size=256, window_size=5, iter=3, workers=-1)"
   ]
  },
  {
   "cell_type": "code",
   "execution_count": 23,
   "metadata": {},
   "outputs": [],
   "source": [
    "def save_embeddings(embeddings, num_embeddings, embedding_dim, path):\n",
    "    # 0 for pad, 1 for unk\n",
    "    data = np.random.normal(loc=0.0, scale=1e-3, size=(num_embeddings, embedding_dim))\n",
    "    data[0] = np.zeros(embedding_dim)\n",
    "    for k, v in embeddings.items():\n",
    "        data[int(k)] = v\n",
    "    np.save(path, data)"
   ]
  },
  {
   "cell_type": "code",
   "execution_count": 24,
   "metadata": {},
   "outputs": [],
   "source": [
    "save_embeddings(model.get_embeddings(), 579847, 256, './graph_embedding/ad_id_deepwalk')"
   ]
  },
  {
   "cell_type": "code",
   "execution_count": null,
   "metadata": {},
   "outputs": [],
   "source": []
  }
 ],
 "metadata": {
  "kernelspec": {
   "display_name": "Python 3",
   "language": "python",
   "name": "python3"
  },
  "language_info": {
   "codemirror_mode": {
    "name": "ipython",
    "version": 3
   },
   "file_extension": ".py",
   "mimetype": "text/x-python",
   "name": "python",
   "nbconvert_exporter": "python",
   "pygments_lexer": "ipython3",
   "version": "3.6.5"
  }
 },
 "nbformat": 4,
 "nbformat_minor": 2
}
