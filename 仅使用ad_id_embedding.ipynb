{
 "cells": [
  {
   "cell_type": "code",
   "execution_count": 3,
   "metadata": {},
   "outputs": [],
   "source": [
    "import numpy as np\n",
    "import pandas as pd\n",
    "import matplotlib.pyplot as plt\n",
    "import seaborn as sns\n",
    "%matplotlib inline\n",
    "import warnings\n",
    "warnings.filterwarnings(\"ignore\")\n",
    "import gensim\n",
    "from tqdm import tqdm\n",
    "from collections import Counter"
   ]
  },
  {
   "cell_type": "code",
   "execution_count": 4,
   "metadata": {},
   "outputs": [
    {
     "data": {
      "text/html": [
       "<div>\n",
       "<style scoped>\n",
       "    .dataframe tbody tr th:only-of-type {\n",
       "        vertical-align: middle;\n",
       "    }\n",
       "\n",
       "    .dataframe tbody tr th {\n",
       "        vertical-align: top;\n",
       "    }\n",
       "\n",
       "    .dataframe thead th {\n",
       "        text-align: right;\n",
       "    }\n",
       "</style>\n",
       "<table border=\"1\" class=\"dataframe\">\n",
       "  <thead>\n",
       "    <tr style=\"text-align: right;\">\n",
       "      <th></th>\n",
       "      <th>user_id</th>\n",
       "      <th>age</th>\n",
       "      <th>gender</th>\n",
       "      <th>time</th>\n",
       "      <th>creative_id</th>\n",
       "      <th>click_times</th>\n",
       "    </tr>\n",
       "  </thead>\n",
       "  <tbody>\n",
       "    <tr>\n",
       "      <th>0</th>\n",
       "      <td>1</td>\n",
       "      <td>3</td>\n",
       "      <td>0</td>\n",
       "      <td>43</td>\n",
       "      <td>71691</td>\n",
       "      <td>1</td>\n",
       "    </tr>\n",
       "    <tr>\n",
       "      <th>1</th>\n",
       "      <td>1</td>\n",
       "      <td>3</td>\n",
       "      <td>0</td>\n",
       "      <td>20</td>\n",
       "      <td>821396</td>\n",
       "      <td>1</td>\n",
       "    </tr>\n",
       "    <tr>\n",
       "      <th>2</th>\n",
       "      <td>1</td>\n",
       "      <td>3</td>\n",
       "      <td>0</td>\n",
       "      <td>20</td>\n",
       "      <td>209778</td>\n",
       "      <td>1</td>\n",
       "    </tr>\n",
       "    <tr>\n",
       "      <th>3</th>\n",
       "      <td>1</td>\n",
       "      <td>3</td>\n",
       "      <td>0</td>\n",
       "      <td>20</td>\n",
       "      <td>877468</td>\n",
       "      <td>1</td>\n",
       "    </tr>\n",
       "    <tr>\n",
       "      <th>4</th>\n",
       "      <td>1</td>\n",
       "      <td>3</td>\n",
       "      <td>0</td>\n",
       "      <td>64</td>\n",
       "      <td>3068256</td>\n",
       "      <td>1</td>\n",
       "    </tr>\n",
       "  </tbody>\n",
       "</table>\n",
       "</div>"
      ],
      "text/plain": [
       "   user_id  age  gender  time  creative_id  click_times\n",
       "0        1    3       0    43        71691            1\n",
       "1        1    3       0    20       821396            1\n",
       "2        1    3       0    20       209778            1\n",
       "3        1    3       0    20       877468            1\n",
       "4        1    3       0    64      3068256            1"
      ]
     },
     "execution_count": 4,
     "metadata": {},
     "output_type": "execute_result"
    }
   ],
   "source": [
    "# 训练数据merge\n",
    "df_log = pd.read_csv('train_preliminary/click_log.csv')\n",
    "# 去除异常数据\n",
    "df_log = df_log[df_log.click_times < 10]\n",
    "df_user = pd.read_csv('train_preliminary/user.csv')\n",
    "# label 从 0 开始\n",
    "df_user['age'] = df_user['age'].apply(lambda x: x-1)\n",
    "df_user['gender'] = df_user['gender'].apply(lambda x: x-1)\n",
    "df_train = pd.merge(df_user, df_log, on='user_id')\n",
    "df_train.head()"
   ]
  },
  {
   "cell_type": "code",
   "execution_count": 5,
   "metadata": {},
   "outputs": [
    {
     "data": {
      "text/html": [
       "<div>\n",
       "<style scoped>\n",
       "    .dataframe tbody tr th:only-of-type {\n",
       "        vertical-align: middle;\n",
       "    }\n",
       "\n",
       "    .dataframe tbody tr th {\n",
       "        vertical-align: top;\n",
       "    }\n",
       "\n",
       "    .dataframe thead th {\n",
       "        text-align: right;\n",
       "    }\n",
       "</style>\n",
       "<table border=\"1\" class=\"dataframe\">\n",
       "  <thead>\n",
       "    <tr style=\"text-align: right;\">\n",
       "      <th></th>\n",
       "      <th>user_id</th>\n",
       "      <th>age</th>\n",
       "      <th>gender</th>\n",
       "      <th>time</th>\n",
       "      <th>creative_id</th>\n",
       "      <th>click_times</th>\n",
       "      <th>ad_id</th>\n",
       "      <th>product_id</th>\n",
       "      <th>product_category</th>\n",
       "      <th>advertiser_id</th>\n",
       "      <th>industry</th>\n",
       "    </tr>\n",
       "  </thead>\n",
       "  <tbody>\n",
       "    <tr>\n",
       "      <th>0</th>\n",
       "      <td>1</td>\n",
       "      <td>3</td>\n",
       "      <td>0</td>\n",
       "      <td>43</td>\n",
       "      <td>71691</td>\n",
       "      <td>1</td>\n",
       "      <td>66210</td>\n",
       "      <td>\\N</td>\n",
       "      <td>18</td>\n",
       "      <td>14681</td>\n",
       "      <td>326</td>\n",
       "    </tr>\n",
       "    <tr>\n",
       "      <th>1</th>\n",
       "      <td>1</td>\n",
       "      <td>3</td>\n",
       "      <td>0</td>\n",
       "      <td>20</td>\n",
       "      <td>821396</td>\n",
       "      <td>1</td>\n",
       "      <td>724607</td>\n",
       "      <td>\\N</td>\n",
       "      <td>5</td>\n",
       "      <td>7293</td>\n",
       "      <td>326</td>\n",
       "    </tr>\n",
       "    <tr>\n",
       "      <th>2</th>\n",
       "      <td>1</td>\n",
       "      <td>3</td>\n",
       "      <td>0</td>\n",
       "      <td>20</td>\n",
       "      <td>209778</td>\n",
       "      <td>1</td>\n",
       "      <td>188507</td>\n",
       "      <td>136</td>\n",
       "      <td>2</td>\n",
       "      <td>9702</td>\n",
       "      <td>6</td>\n",
       "    </tr>\n",
       "    <tr>\n",
       "      <th>3</th>\n",
       "      <td>1</td>\n",
       "      <td>3</td>\n",
       "      <td>0</td>\n",
       "      <td>20</td>\n",
       "      <td>877468</td>\n",
       "      <td>1</td>\n",
       "      <td>773445</td>\n",
       "      <td>\\N</td>\n",
       "      <td>5</td>\n",
       "      <td>29455</td>\n",
       "      <td>106</td>\n",
       "    </tr>\n",
       "    <tr>\n",
       "      <th>4</th>\n",
       "      <td>1</td>\n",
       "      <td>3</td>\n",
       "      <td>0</td>\n",
       "      <td>64</td>\n",
       "      <td>3068256</td>\n",
       "      <td>1</td>\n",
       "      <td>2638858</td>\n",
       "      <td>1454</td>\n",
       "      <td>2</td>\n",
       "      <td>23575</td>\n",
       "      <td>238</td>\n",
       "    </tr>\n",
       "  </tbody>\n",
       "</table>\n",
       "</div>"
      ],
      "text/plain": [
       "   user_id  age  gender  time  creative_id  click_times    ad_id product_id  \\\n",
       "0        1    3       0    43        71691            1    66210         \\N   \n",
       "1        1    3       0    20       821396            1   724607         \\N   \n",
       "2        1    3       0    20       209778            1   188507        136   \n",
       "3        1    3       0    20       877468            1   773445         \\N   \n",
       "4        1    3       0    64      3068256            1  2638858       1454   \n",
       "\n",
       "   product_category  advertiser_id industry  \n",
       "0                18          14681      326  \n",
       "1                 5           7293      326  \n",
       "2                 2           9702        6  \n",
       "3                 5          29455      106  \n",
       "4                 2          23575      238  "
      ]
     },
     "execution_count": 5,
     "metadata": {},
     "output_type": "execute_result"
    }
   ],
   "source": [
    "df_ad = pd.read_csv('train_preliminary/ad.csv')\n",
    "df_train = pd.merge(df_train, df_ad, how='left', on='creative_id')\n",
    "df_train.head()"
   ]
  },
  {
   "cell_type": "code",
   "execution_count": 6,
   "metadata": {},
   "outputs": [
    {
     "data": {
      "text/html": [
       "<div>\n",
       "<style scoped>\n",
       "    .dataframe tbody tr th:only-of-type {\n",
       "        vertical-align: middle;\n",
       "    }\n",
       "\n",
       "    .dataframe tbody tr th {\n",
       "        vertical-align: top;\n",
       "    }\n",
       "\n",
       "    .dataframe thead th {\n",
       "        text-align: right;\n",
       "    }\n",
       "</style>\n",
       "<table border=\"1\" class=\"dataframe\">\n",
       "  <thead>\n",
       "    <tr style=\"text-align: right;\">\n",
       "      <th></th>\n",
       "      <th>time</th>\n",
       "      <th>user_id</th>\n",
       "      <th>creative_id</th>\n",
       "      <th>click_times</th>\n",
       "      <th>ad_id</th>\n",
       "      <th>product_id</th>\n",
       "      <th>product_category</th>\n",
       "      <th>advertiser_id</th>\n",
       "      <th>industry</th>\n",
       "    </tr>\n",
       "  </thead>\n",
       "  <tbody>\n",
       "    <tr>\n",
       "      <th>0</th>\n",
       "      <td>20</td>\n",
       "      <td>3131989</td>\n",
       "      <td>645764</td>\n",
       "      <td>1</td>\n",
       "      <td>573314</td>\n",
       "      <td>58</td>\n",
       "      <td>2</td>\n",
       "      <td>14689</td>\n",
       "      <td>6</td>\n",
       "    </tr>\n",
       "    <tr>\n",
       "      <th>1</th>\n",
       "      <td>20</td>\n",
       "      <td>3131989</td>\n",
       "      <td>1027422</td>\n",
       "      <td>1</td>\n",
       "      <td>902764</td>\n",
       "      <td>129</td>\n",
       "      <td>2</td>\n",
       "      <td>42272</td>\n",
       "      <td>6</td>\n",
       "    </tr>\n",
       "    <tr>\n",
       "      <th>2</th>\n",
       "      <td>20</td>\n",
       "      <td>3131989</td>\n",
       "      <td>1106443</td>\n",
       "      <td>1</td>\n",
       "      <td>970829</td>\n",
       "      <td>2171</td>\n",
       "      <td>2</td>\n",
       "      <td>37513</td>\n",
       "      <td>322</td>\n",
       "    </tr>\n",
       "    <tr>\n",
       "      <th>3</th>\n",
       "      <td>20</td>\n",
       "      <td>3131989</td>\n",
       "      <td>629802</td>\n",
       "      <td>1</td>\n",
       "      <td>559183</td>\n",
       "      <td>\\N</td>\n",
       "      <td>18</td>\n",
       "      <td>14678</td>\n",
       "      <td>26</td>\n",
       "    </tr>\n",
       "    <tr>\n",
       "      <th>4</th>\n",
       "      <td>59</td>\n",
       "      <td>3131989</td>\n",
       "      <td>2839769</td>\n",
       "      <td>1</td>\n",
       "      <td>2441288</td>\n",
       "      <td>129</td>\n",
       "      <td>2</td>\n",
       "      <td>35328</td>\n",
       "      <td>6</td>\n",
       "    </tr>\n",
       "  </tbody>\n",
       "</table>\n",
       "</div>"
      ],
      "text/plain": [
       "   time  user_id  creative_id  click_times    ad_id product_id  \\\n",
       "0    20  3131989       645764            1   573314         58   \n",
       "1    20  3131989      1027422            1   902764        129   \n",
       "2    20  3131989      1106443            1   970829       2171   \n",
       "3    20  3131989       629802            1   559183         \\N   \n",
       "4    59  3131989      2839769            1  2441288        129   \n",
       "\n",
       "   product_category  advertiser_id industry  \n",
       "0                 2          14689        6  \n",
       "1                 2          42272        6  \n",
       "2                 2          37513      322  \n",
       "3                18          14678       26  \n",
       "4                 2          35328        6  "
      ]
     },
     "execution_count": 6,
     "metadata": {},
     "output_type": "execute_result"
    }
   ],
   "source": [
    "# 测试数据\n",
    "test_log = pd.read_csv('test/click_log.csv')\n",
    "test_ad = pd.read_csv('test/ad.csv')\n",
    "test_log = test_log[test_log.click_times < 10]\n",
    "df_test = pd.merge(test_log, test_ad, how='left', on='creative_id')\n",
    "df_test.head()"
   ]
  },
  {
   "cell_type": "code",
   "execution_count": 7,
   "metadata": {},
   "outputs": [],
   "source": [
    "counter = Counter()\n",
    "counter.update(df_train.ad_id.values)\n",
    "counter.update(df_test.ad_id.values)"
   ]
  },
  {
   "cell_type": "code",
   "execution_count": 8,
   "metadata": {},
   "outputs": [
    {
     "data": {
      "text/plain": [
       "array([ 1.,  1.,  1.,  1.,  2.,  3.,  5.,  9., 21.])"
      ]
     },
     "execution_count": 8,
     "metadata": {},
     "output_type": "execute_result"
    }
   ],
   "source": [
    "# 构建词表 去除低频词\n",
    "ad_id_count = np.array([v for k, v in counter.items()])\n",
    "np.quantile(ad_id_count, [0.01, 0.1, 0.2, 0.3, 0.5, 0.6, 0.7, 0.8, 0.9])"
   ]
  },
  {
   "cell_type": "code",
   "execution_count": 9,
   "metadata": {},
   "outputs": [
    {
     "data": {
      "text/plain": [
       "322514"
      ]
     },
     "execution_count": 9,
     "metadata": {},
     "output_type": "execute_result"
    }
   ],
   "source": [
    "# 阈值20的creative_id数\n",
    "(ad_id_count >= 20).sum()"
   ]
  },
  {
   "cell_type": "code",
   "execution_count": 10,
   "metadata": {},
   "outputs": [
    {
     "data": {
      "text/plain": [
       "322514"
      ]
     },
     "execution_count": 10,
     "metadata": {},
     "output_type": "execute_result"
    }
   ],
   "source": [
    "# 构建vocab  0 for pad, 1 for unk\n",
    "words = [k for k, v in counter.items() if v >= 20]\n",
    "vocab = dict(zip(words, range(2, len(words) + 2)))\n",
    "len(vocab)"
   ]
  },
  {
   "cell_type": "code",
   "execution_count": 11,
   "metadata": {},
   "outputs": [
    {
     "name": "stdout",
     "output_type": "stream",
     "text": [
      "(30081881, 11) (33582799, 9)\n",
      "(25402681, 11) (28331365, 9)\n"
     ]
    }
   ],
   "source": [
    "# 过滤低频词\n",
    "print(df_train.shape, df_test.shape)\n",
    "df_train = df_train[df_train.ad_id.isin(vocab)]\n",
    "df_test = df_test[df_test.ad_id.isin(vocab)]\n",
    "print(df_train.shape, df_test.shape)"
   ]
  },
  {
   "cell_type": "code",
   "execution_count": 12,
   "metadata": {},
   "outputs": [
    {
     "data": {
      "text/html": [
       "<div>\n",
       "<style scoped>\n",
       "    .dataframe tbody tr th:only-of-type {\n",
       "        vertical-align: middle;\n",
       "    }\n",
       "\n",
       "    .dataframe tbody tr th {\n",
       "        vertical-align: top;\n",
       "    }\n",
       "\n",
       "    .dataframe thead th {\n",
       "        text-align: right;\n",
       "    }\n",
       "</style>\n",
       "<table border=\"1\" class=\"dataframe\">\n",
       "  <thead>\n",
       "    <tr style=\"text-align: right;\">\n",
       "      <th></th>\n",
       "      <th>user_id</th>\n",
       "      <th>age</th>\n",
       "      <th>gender</th>\n",
       "      <th>time</th>\n",
       "      <th>creative_id</th>\n",
       "      <th>click_times</th>\n",
       "      <th>ad_id</th>\n",
       "      <th>product_id</th>\n",
       "      <th>product_category</th>\n",
       "      <th>advertiser_id</th>\n",
       "      <th>industry</th>\n",
       "    </tr>\n",
       "  </thead>\n",
       "  <tbody>\n",
       "    <tr>\n",
       "      <th>0</th>\n",
       "      <td>1</td>\n",
       "      <td>3</td>\n",
       "      <td>0</td>\n",
       "      <td>43</td>\n",
       "      <td>71691</td>\n",
       "      <td>1</td>\n",
       "      <td>66210</td>\n",
       "      <td>\\N</td>\n",
       "      <td>18</td>\n",
       "      <td>14681</td>\n",
       "      <td>326</td>\n",
       "    </tr>\n",
       "    <tr>\n",
       "      <th>2</th>\n",
       "      <td>1</td>\n",
       "      <td>3</td>\n",
       "      <td>0</td>\n",
       "      <td>20</td>\n",
       "      <td>209778</td>\n",
       "      <td>1</td>\n",
       "      <td>188507</td>\n",
       "      <td>136</td>\n",
       "      <td>2</td>\n",
       "      <td>9702</td>\n",
       "      <td>6</td>\n",
       "    </tr>\n",
       "    <tr>\n",
       "      <th>3</th>\n",
       "      <td>1</td>\n",
       "      <td>3</td>\n",
       "      <td>0</td>\n",
       "      <td>20</td>\n",
       "      <td>877468</td>\n",
       "      <td>1</td>\n",
       "      <td>773445</td>\n",
       "      <td>\\N</td>\n",
       "      <td>5</td>\n",
       "      <td>29455</td>\n",
       "      <td>106</td>\n",
       "    </tr>\n",
       "    <tr>\n",
       "      <th>4</th>\n",
       "      <td>1</td>\n",
       "      <td>3</td>\n",
       "      <td>0</td>\n",
       "      <td>64</td>\n",
       "      <td>3068256</td>\n",
       "      <td>1</td>\n",
       "      <td>2638858</td>\n",
       "      <td>1454</td>\n",
       "      <td>2</td>\n",
       "      <td>23575</td>\n",
       "      <td>238</td>\n",
       "    </tr>\n",
       "    <tr>\n",
       "      <th>5</th>\n",
       "      <td>1</td>\n",
       "      <td>3</td>\n",
       "      <td>0</td>\n",
       "      <td>39</td>\n",
       "      <td>1683713</td>\n",
       "      <td>1</td>\n",
       "      <td>1458878</td>\n",
       "      <td>\\N</td>\n",
       "      <td>5</td>\n",
       "      <td>14668</td>\n",
       "      <td>326</td>\n",
       "    </tr>\n",
       "  </tbody>\n",
       "</table>\n",
       "</div>"
      ],
      "text/plain": [
       "   user_id  age  gender  time  creative_id  click_times    ad_id product_id  \\\n",
       "0        1    3       0    43        71691            1    66210         \\N   \n",
       "2        1    3       0    20       209778            1   188507        136   \n",
       "3        1    3       0    20       877468            1   773445         \\N   \n",
       "4        1    3       0    64      3068256            1  2638858       1454   \n",
       "5        1    3       0    39      1683713            1  1458878         \\N   \n",
       "\n",
       "   product_category  advertiser_id industry  \n",
       "0                18          14681      326  \n",
       "2                 2           9702        6  \n",
       "3                 5          29455      106  \n",
       "4                 2          23575      238  \n",
       "5                 5          14668      326  "
      ]
     },
     "execution_count": 12,
     "metadata": {},
     "output_type": "execute_result"
    }
   ],
   "source": [
    "df_train.head()"
   ]
  },
  {
   "cell_type": "code",
   "execution_count": 33,
   "metadata": {},
   "outputs": [],
   "source": [
    "# # 排序\n",
    "# df_train.sort_values(by=['user_id', 'time'], inplace=True)\n",
    "# df_test.sort_values(by=['user_id', 'time'], inplace=True)"
   ]
  },
  {
   "cell_type": "code",
   "execution_count": 38,
   "metadata": {},
   "outputs": [
    {
     "name": "stderr",
     "output_type": "stream",
     "text": [
      "100%|██████████| 899996/899996 [07:47<00:00, 1924.47it/s]\n"
     ]
    }
   ],
   "source": [
    "# 保存 \n",
    "# train_group = df_train.groupby('user_id')\n",
    "# train_datas = []\n",
    "# for uid, df_user in tqdm(train_group):\n",
    "#     age = df_user.age.values[0]\n",
    "#     gender = df_user.gender.values[0]\n",
    "#     ads = [vocab[k] for k in df_user.ad_id.values]\n",
    "#     line = ' '.join(map(str, [uid, age, gender] + ads))\n",
    "#     train_datas.append(line)"
   ]
  },
  {
   "cell_type": "code",
   "execution_count": 39,
   "metadata": {},
   "outputs": [
    {
     "name": "stderr",
     "output_type": "stream",
     "text": [
      "100%|██████████| 999996/999996 [06:48<00:00, 2448.08it/s]\n"
     ]
    }
   ],
   "source": [
    "# test_datas\n",
    "# test_group = df_test.groupby('user_id')\n",
    "# test_datas = []\n",
    "# for uid, df_user in tqdm(test_group):\n",
    "#     ads = [vocab[k] for k in df_user.ad_id.values]\n",
    "#     line = str(uid) + ' ' + ' '.join(map(str, ads))\n",
    "#     test_datas.append(line)"
   ]
  },
  {
   "cell_type": "code",
   "execution_count": 40,
   "metadata": {},
   "outputs": [],
   "source": [
    "# def save(path, datas):\n",
    "#     with open(path, 'w') as f:\n",
    "#         for line in tqdm(datas):\n",
    "#             f.write(line + '\\n')"
   ]
  },
  {
   "cell_type": "code",
   "execution_count": 41,
   "metadata": {},
   "outputs": [
    {
     "name": "stderr",
     "output_type": "stream",
     "text": [
      "100%|██████████| 719996/719996 [00:01<00:00, 487774.88it/s]\n",
      "100%|██████████| 180000/180000 [00:00<00:00, 501635.00it/s]\n"
     ]
    }
   ],
   "source": [
    "# 训练集测试集划分\n",
    "# import random\n",
    "# random.seed(1)\n",
    "# random.shuffle(train_datas)\n",
    "# all_users = len(train_datas)\n",
    "# train_size = int(all_users * 0.8)\n",
    "# save('./datas/ad_train.csv', train_datas[:train_size])\n",
    "# save('./datas/ad_val.csv', train_datas[train_size: ])"
   ]
  },
  {
   "cell_type": "code",
   "execution_count": 44,
   "metadata": {},
   "outputs": [
    {
     "data": {
      "text/plain": [
       "['293519 5 1 104566 7261 220169 71919 57331 308980 3040 40666 40666 25469 56907 4484 4705 1493 26421 94125 12883 1718 7738 105429 6681 36208 1160 21027 268944 125601 101723 2841 31687 111487 43311 2827 100821',\n",
       " '826739 2 1 142039 209971 154246 29933 125512 9122 36668 72190 145309',\n",
       " '546131 1 1 10625 309863 128790 227920 17828 7202 1894 82111 187108 24808 56208 2078 484 1400 7346 159667 59915 188091 130333 27314 31206 86693 172197 26786 35983 34441']"
      ]
     },
     "execution_count": 44,
     "metadata": {},
     "output_type": "execute_result"
    }
   ],
   "source": [
    "# train_datas[:3]"
   ]
  },
  {
   "cell_type": "code",
   "execution_count": 45,
   "metadata": {},
   "outputs": [],
   "source": [
    "# 训练数据和测试数据联合word2vec\n",
    "# sentences = [line.split(' ')[3:] for line in train_datas] + [line.split(' ')[1:] for line in test_datas]\n",
    "# random.shuffle(sentences)"
   ]
  },
  {
   "cell_type": "code",
   "execution_count": 46,
   "metadata": {},
   "outputs": [],
   "source": [
    "# model = gensim.models.Word2Vec(sentences, min_count=1, size=256, workers=-1, iter=100)"
   ]
  },
  {
   "cell_type": "code",
   "execution_count": 47,
   "metadata": {},
   "outputs": [],
   "source": [
    "# model.save('./word2vec/ad.model')"
   ]
  },
  {
   "cell_type": "code",
   "execution_count": 49,
   "metadata": {},
   "outputs": [
    {
     "data": {
      "text/plain": [
       "999996"
      ]
     },
     "execution_count": 49,
     "metadata": {},
     "output_type": "execute_result"
    }
   ],
   "source": [
    "len(test_datas)"
   ]
  },
  {
   "cell_type": "code",
   "execution_count": 50,
   "metadata": {},
   "outputs": [
    {
     "name": "stderr",
     "output_type": "stream",
     "text": [
      "100%|██████████| 999996/999996 [00:01<00:00, 574238.79it/s]\n"
     ]
    }
   ],
   "source": [
    "# save('./datas/ad_test.csv', test_datas)"
   ]
  },
  {
   "cell_type": "code",
   "execution_count": 13,
   "metadata": {},
   "outputs": [
    {
     "data": {
      "text/plain": [
       "{3054437, 3086425, 3191252, 3845254}"
      ]
     },
     "execution_count": 13,
     "metadata": {},
     "output_type": "execute_result"
    }
   ],
   "source": [
    "# gender 1 , age 3\n",
    "set(test_log.user_id.unique()) - set(df_test.user_id.unique())"
   ]
  },
  {
   "cell_type": "code",
   "execution_count": null,
   "metadata": {},
   "outputs": [],
   "source": [
    "# length = np.array([len(x) for x in ])"
   ]
  }
 ],
 "metadata": {
  "kernelspec": {
   "display_name": "Python 3",
   "language": "python",
   "name": "python3"
  },
  "language_info": {
   "codemirror_mode": {
    "name": "ipython",
    "version": 3
   },
   "file_extension": ".py",
   "mimetype": "text/x-python",
   "name": "python",
   "nbconvert_exporter": "python",
   "pygments_lexer": "ipython3",
   "version": "3.6.5"
  }
 },
 "nbformat": 4,
 "nbformat_minor": 2
}
