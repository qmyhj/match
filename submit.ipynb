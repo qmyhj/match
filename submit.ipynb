{
 "cells": [
  {
   "cell_type": "code",
   "execution_count": 1,
   "metadata": {},
   "outputs": [],
   "source": [
    "from models import gru_att_age_v2 as age_model,  gru_att_gender_v2 as gender_model\n",
    "import torch\n",
    "from tqdm import tqdm\n",
    "import time\n",
    "from datetime import timedelta\n",
    "import random\n",
    "import numpy as np\n",
    "%load_ext autoreload\n",
    "%autoreload 2"
   ]
  },
  {
   "cell_type": "code",
   "execution_count": 2,
   "metadata": {},
   "outputs": [],
   "source": [
    "def load_dataset(path, pad_size):\n",
    "    datas = []\n",
    "    uids = []\n",
    "    with open(path, 'r') as f:\n",
    "        for line in tqdm(f):\n",
    "            line = line.strip()\n",
    "            if not line:\n",
    "                continue\n",
    "            seqences = line.split()\n",
    "            uid = int(seqences[0].split('_')[0])\n",
    "            uids.append(uid)\n",
    "            arr = np.array([list(map(int, x.split('_'))) for x in seqences[1:]], dtype=int)\n",
    "            if  arr.shape[1] < pad_size:\n",
    "                height, width = arr.shape[0], (pad_size - arr.shape[1])\n",
    "                arr = np.concatenate([arr, np.zeros((height, width), dtype=int)], axis=1)\n",
    "            else:\n",
    "                arr = arr[:, :pad_size]\n",
    "            datas.append((\n",
    "                arr[0], arr[1], arr[2], arr[3], arr[4], arr[5]\n",
    "                ))\n",
    "    return np.array(uids, dtype=int), datas"
   ]
  },
  {
   "cell_type": "code",
   "execution_count": 4,
   "metadata": {},
   "outputs": [],
   "source": [
    "class DatasetIterater(object):\n",
    "\n",
    "    def __init__(self, dataset, config):\n",
    "        self.dataset = dataset\n",
    "        self.batch_size = config.batch_size\n",
    "        self.index = 0\n",
    "        self.dataset_len = len(dataset)\n",
    "        self.device = config.device\n",
    "        self.pad_size = config.pad_size\n",
    "        self.config = config\n",
    "\n",
    "    def _to_tensor(self, batch_data):\n",
    "        \n",
    "        # embedding 特征\n",
    "        # creative_id = torch.LongTensor([x[0] for x in batch_data]).to(self.device)\n",
    "        ad_id = torch.LongTensor([x[1] for x in batch_data]).to(self.device)\n",
    "        product_id = torch.LongTensor([x[2] for x in batch_data]).to(self.device)\n",
    "        product_category = torch.LongTensor([x[3] for x in batch_data]).to(self.device)\n",
    "        advertiser_id = torch.LongTensor([x[4] for x in batch_data]).to(self.device)\n",
    "        industry = torch.LongTensor([x[5] for x in batch_data]).to(self.device)\n",
    "        \n",
    "        return ad_id, product_id, product_category, advertiser_id, industry\n",
    "\n",
    "    def __next__(self):\n",
    "        if self.index < self.dataset_len:\n",
    "            batch_data = self.dataset[self.index: self.index + self.batch_size]\n",
    "            self.index += self.batch_size\n",
    "            return self._to_tensor(batch_data)\n",
    "        else:\n",
    "            self.index = 0\n",
    "            # 每个epoch随机shuffle数据集\n",
    "            raise StopIteration\n",
    "\n",
    "    def __iter__(self):\n",
    "        return self\n",
    "\n",
    "    def __len__(self):\n",
    "        n_batches = len(self.dataset) // self.batch_size\n",
    "        if len(self.dataset) % self.batch_size == 0:\n",
    "            return n_batches\n",
    "        else:\n",
    "            return n_batches + 1"
   ]
  },
  {
   "cell_type": "code",
   "execution_count": 5,
   "metadata": {},
   "outputs": [
    {
     "name": "stderr",
     "output_type": "stream",
     "text": [
      "100%|██████████| 579845/579845 [00:01<00:00, 323684.89it/s]\n",
      "100%|██████████| 11106/11106 [00:00<00:00, 311287.13it/s]\n",
      "100%|██████████| 24364/24364 [00:00<00:00, 286545.95it/s]\n"
     ]
    },
    {
     "data": {
      "text/plain": [
       "Model(\n",
       "  (ad_id_embedding): Embedding(579847, 256, padding_idx=0)\n",
       "  (product_id_embedding): Embedding(11108, 256, padding_idx=0)\n",
       "  (product_category_embedding): Embedding(20, 8, padding_idx=0)\n",
       "  (advertiser_id_embedding): Embedding(24366, 256, padding_idx=0)\n",
       "  (industry_embedding): Embedding(302, 32, padding_idx=0)\n",
       "  (gru): GRU(808, 128, batch_first=True, bidirectional=True)\n",
       "  (fc): Sequential(\n",
       "    (0): Linear(in_features=256, out_features=128, bias=True)\n",
       "    (1): BatchNorm1d(128, eps=1e-05, momentum=0.1, affine=True, track_running_stats=True)\n",
       "    (2): LeakyReLU(negative_slope=0.01, inplace)\n",
       "    (3): Linear(in_features=128, out_features=10, bias=True)\n",
       "  )\n",
       ")"
      ]
     },
     "execution_count": 5,
     "metadata": {},
     "output_type": "execute_result"
    }
   ],
   "source": [
    "config = age_model.Config()\n",
    "model = age_model.Model(config)\n",
    "model.load_state_dict(torch.load(config.save_path))\n",
    "model.to(config.device)"
   ]
  },
  {
   "cell_type": "code",
   "execution_count": 6,
   "metadata": {},
   "outputs": [],
   "source": [
    "def predict(model, test_iter):\n",
    "    model.eval()\n",
    "    predict_all = np.array([], dtype=int)\n",
    "    with torch.no_grad():\n",
    "        for x in tqdm(test_iter):\n",
    "            out = model(x)\n",
    "            predict = torch.max(out.data, 1)[1].cpu().numpy()\n",
    "            predict_all = np.append(predict_all, predict)\n",
    "    return predict_all + 1"
   ]
  },
  {
   "cell_type": "code",
   "execution_count": 7,
   "metadata": {},
   "outputs": [
    {
     "name": "stderr",
     "output_type": "stream",
     "text": [
      "999999it [01:50, 9048.54it/s] \n"
     ]
    }
   ],
   "source": [
    "uids, dataset = load_dataset('./datas/test.csv', config.pad_size)"
   ]
  },
  {
   "cell_type": "code",
   "execution_count": 8,
   "metadata": {},
   "outputs": [
    {
     "name": "stderr",
     "output_type": "stream",
     "text": [
      "100%|██████████| 7813/7813 [01:56<00:00, 67.33it/s]\n"
     ]
    }
   ],
   "source": [
    "test_iter = DatasetIterater(dataset, config)\n",
    "age_predict = predict(model, test_iter)"
   ]
  },
  {
   "cell_type": "code",
   "execution_count": 9,
   "metadata": {},
   "outputs": [
    {
     "data": {
      "text/plain": [
       "array([ 3,  7,  3,  3,  4,  4, 10,  3,  2, 10])"
      ]
     },
     "execution_count": 9,
     "metadata": {},
     "output_type": "execute_result"
    }
   ],
   "source": [
    "age_predict[:10]"
   ]
  },
  {
   "cell_type": "code",
   "execution_count": 8,
   "metadata": {},
   "outputs": [
    {
     "data": {
      "text/plain": [
       "array([ 3,  7,  4,  3,  4,  3, 10,  3,  2, 10])"
      ]
     },
     "execution_count": 8,
     "metadata": {},
     "output_type": "execute_result"
    }
   ],
   "source": [
    "age_predict[:10]"
   ]
  },
  {
   "cell_type": "code",
   "execution_count": 42,
   "metadata": {},
   "outputs": [
    {
     "data": {
      "text/plain": [
       "array([ 3,  7,  2,  3,  4,  4,  9,  3,  2, 10])"
      ]
     },
     "execution_count": 42,
     "metadata": {},
     "output_type": "execute_result"
    }
   ],
   "source": [
    "age_predict[:10]"
   ]
  },
  {
   "cell_type": "code",
   "execution_count": 10,
   "metadata": {},
   "outputs": [
    {
     "name": "stderr",
     "output_type": "stream",
     "text": [
      "100%|██████████| 579845/579845 [00:01<00:00, 331424.44it/s]\n",
      "100%|██████████| 11106/11106 [00:00<00:00, 321858.52it/s]\n",
      "100%|██████████| 24364/24364 [00:00<00:00, 317532.89it/s]\n",
      "100%|██████████| 7813/7813 [01:52<00:00, 69.27it/s]\n"
     ]
    }
   ],
   "source": [
    "config = gender_model.Config()\n",
    "model = gender_model.Model(config)\n",
    "model.load_state_dict(torch.load(config.save_path))\n",
    "model.to(config.device)\n",
    "test_iter = DatasetIterater(dataset, config)\n",
    "gender_predict = predict(model, test_iter)"
   ]
  },
  {
   "cell_type": "code",
   "execution_count": 11,
   "metadata": {},
   "outputs": [
    {
     "data": {
      "text/plain": [
       "(999999, 999999, 999999)"
      ]
     },
     "execution_count": 11,
     "metadata": {},
     "output_type": "execute_result"
    }
   ],
   "source": [
    "len(uids), len(age_predict), len(gender_predict)    "
   ]
  },
  {
   "cell_type": "code",
   "execution_count": 12,
   "metadata": {},
   "outputs": [
    {
     "data": {
      "text/plain": [
       "(array([ 3,  7,  3,  3,  4,  4, 10,  3,  2, 10]),\n",
       " array([1, 2, 2, 1, 1, 1, 1, 1, 1, 2]))"
      ]
     },
     "execution_count": 12,
     "metadata": {},
     "output_type": "execute_result"
    }
   ],
   "source": [
    "age_predict[:10], gender_predict[:10]"
   ]
  },
  {
   "cell_type": "code",
   "execution_count": 13,
   "metadata": {},
   "outputs": [],
   "source": [
    "# uids = np.array(uids)\n",
    "result = np.concatenate([uids[:, None], age_predict[:,None], gender_predict[:,None]], axis=1)"
   ]
  },
  {
   "cell_type": "code",
   "execution_count": 14,
   "metadata": {},
   "outputs": [],
   "source": [
    "import pandas as pd"
   ]
  },
  {
   "cell_type": "code",
   "execution_count": 15,
   "metadata": {},
   "outputs": [
    {
     "data": {
      "text/html": [
       "<div>\n",
       "<style scoped>\n",
       "    .dataframe tbody tr th:only-of-type {\n",
       "        vertical-align: middle;\n",
       "    }\n",
       "\n",
       "    .dataframe tbody tr th {\n",
       "        vertical-align: top;\n",
       "    }\n",
       "\n",
       "    .dataframe thead th {\n",
       "        text-align: right;\n",
       "    }\n",
       "</style>\n",
       "<table border=\"1\" class=\"dataframe\">\n",
       "  <thead>\n",
       "    <tr style=\"text-align: right;\">\n",
       "      <th></th>\n",
       "      <th>user_id</th>\n",
       "      <th>predicted_age</th>\n",
       "      <th>predicted_gender</th>\n",
       "    </tr>\n",
       "  </thead>\n",
       "  <tbody>\n",
       "    <tr>\n",
       "      <th>0</th>\n",
       "      <td>3000001</td>\n",
       "      <td>3</td>\n",
       "      <td>1</td>\n",
       "    </tr>\n",
       "    <tr>\n",
       "      <th>1</th>\n",
       "      <td>3000002</td>\n",
       "      <td>7</td>\n",
       "      <td>2</td>\n",
       "    </tr>\n",
       "    <tr>\n",
       "      <th>2</th>\n",
       "      <td>3000003</td>\n",
       "      <td>3</td>\n",
       "      <td>2</td>\n",
       "    </tr>\n",
       "    <tr>\n",
       "      <th>3</th>\n",
       "      <td>3000004</td>\n",
       "      <td>3</td>\n",
       "      <td>1</td>\n",
       "    </tr>\n",
       "    <tr>\n",
       "      <th>4</th>\n",
       "      <td>3000005</td>\n",
       "      <td>4</td>\n",
       "      <td>1</td>\n",
       "    </tr>\n",
       "  </tbody>\n",
       "</table>\n",
       "</div>"
      ],
      "text/plain": [
       "   user_id  predicted_age  predicted_gender\n",
       "0  3000001              3                 1\n",
       "1  3000002              7                 2\n",
       "2  3000003              3                 2\n",
       "3  3000004              3                 1\n",
       "4  3000005              4                 1"
      ]
     },
     "execution_count": 15,
     "metadata": {},
     "output_type": "execute_result"
    }
   ],
   "source": [
    "columns = ['user_id', 'predicted_age', 'predicted_gender']\n",
    "result_df = pd.DataFrame(result, columns=columns)\n",
    "result_df.head()"
   ]
  },
  {
   "cell_type": "code",
   "execution_count": 16,
   "metadata": {},
   "outputs": [
    {
     "data": {
      "text/html": [
       "<div>\n",
       "<style scoped>\n",
       "    .dataframe tbody tr th:only-of-type {\n",
       "        vertical-align: middle;\n",
       "    }\n",
       "\n",
       "    .dataframe tbody tr th {\n",
       "        vertical-align: top;\n",
       "    }\n",
       "\n",
       "    .dataframe thead th {\n",
       "        text-align: right;\n",
       "    }\n",
       "</style>\n",
       "<table border=\"1\" class=\"dataframe\">\n",
       "  <thead>\n",
       "    <tr style=\"text-align: right;\">\n",
       "      <th></th>\n",
       "      <th>user_id</th>\n",
       "      <th>predicted_age</th>\n",
       "      <th>predicted_gender</th>\n",
       "    </tr>\n",
       "  </thead>\n",
       "  <tbody>\n",
       "    <tr>\n",
       "      <th>0</th>\n",
       "      <td>3086425</td>\n",
       "      <td>3</td>\n",
       "      <td>1</td>\n",
       "    </tr>\n",
       "  </tbody>\n",
       "</table>\n",
       "</div>"
      ],
      "text/plain": [
       "   user_id  predicted_age  predicted_gender\n",
       "0  3086425              3                 1"
      ]
     },
     "execution_count": 16,
     "metadata": {},
     "output_type": "execute_result"
    }
   ],
   "source": [
    "rule_uids = {3086425}\n",
    "tmp = []\n",
    "for uid in rule_uids:\n",
    "    tmp.append([uid, 3, 1])\n",
    "rule_df = pd.DataFrame(tmp, columns=columns)\n",
    "rule_df.head()"
   ]
  },
  {
   "cell_type": "code",
   "execution_count": 17,
   "metadata": {},
   "outputs": [
    {
     "data": {
      "text/plain": [
       "(1000000, 3)"
      ]
     },
     "execution_count": 17,
     "metadata": {},
     "output_type": "execute_result"
    }
   ],
   "source": [
    "result_df = pd.concat([result_df, rule_df], axis=0)\n",
    "result_df.shape"
   ]
  },
  {
   "cell_type": "code",
   "execution_count": 20,
   "metadata": {},
   "outputs": [
    {
     "data": {
      "text/html": [
       "<div>\n",
       "<style scoped>\n",
       "    .dataframe tbody tr th:only-of-type {\n",
       "        vertical-align: middle;\n",
       "    }\n",
       "\n",
       "    .dataframe tbody tr th {\n",
       "        vertical-align: top;\n",
       "    }\n",
       "\n",
       "    .dataframe thead th {\n",
       "        text-align: right;\n",
       "    }\n",
       "</style>\n",
       "<table border=\"1\" class=\"dataframe\">\n",
       "  <thead>\n",
       "    <tr style=\"text-align: right;\">\n",
       "      <th></th>\n",
       "      <th>user_id</th>\n",
       "      <th>predicted_age</th>\n",
       "      <th>predicted_gender</th>\n",
       "    </tr>\n",
       "  </thead>\n",
       "  <tbody>\n",
       "    <tr>\n",
       "      <th>0</th>\n",
       "      <td>3000001</td>\n",
       "      <td>3</td>\n",
       "      <td>1</td>\n",
       "    </tr>\n",
       "    <tr>\n",
       "      <th>1</th>\n",
       "      <td>3000002</td>\n",
       "      <td>7</td>\n",
       "      <td>2</td>\n",
       "    </tr>\n",
       "    <tr>\n",
       "      <th>2</th>\n",
       "      <td>3000003</td>\n",
       "      <td>3</td>\n",
       "      <td>2</td>\n",
       "    </tr>\n",
       "    <tr>\n",
       "      <th>3</th>\n",
       "      <td>3000004</td>\n",
       "      <td>3</td>\n",
       "      <td>1</td>\n",
       "    </tr>\n",
       "    <tr>\n",
       "      <th>4</th>\n",
       "      <td>3000005</td>\n",
       "      <td>4</td>\n",
       "      <td>1</td>\n",
       "    </tr>\n",
       "  </tbody>\n",
       "</table>\n",
       "</div>"
      ],
      "text/plain": [
       "   user_id  predicted_age  predicted_gender\n",
       "0  3000001              3                 1\n",
       "1  3000002              7                 2\n",
       "2  3000003              3                 2\n",
       "3  3000004              3                 1\n",
       "4  3000005              4                 1"
      ]
     },
     "execution_count": 20,
     "metadata": {},
     "output_type": "execute_result"
    }
   ],
   "source": [
    "result_df.head()"
   ]
  },
  {
   "cell_type": "code",
   "execution_count": 19,
   "metadata": {},
   "outputs": [],
   "source": [
    "result_df = result_df.astype(int)"
   ]
  },
  {
   "cell_type": "code",
   "execution_count": 21,
   "metadata": {},
   "outputs": [],
   "source": [
    "result_df.to_csv('./submission/submission_gru_0525.csv', index=False)"
   ]
  },
  {
   "cell_type": "code",
   "execution_count": null,
   "metadata": {},
   "outputs": [],
   "source": []
  }
 ],
 "metadata": {
  "kernelspec": {
   "display_name": "Python 3",
   "language": "python",
   "name": "python3"
  },
  "language_info": {
   "codemirror_mode": {
    "name": "ipython",
    "version": 3
   },
   "file_extension": ".py",
   "mimetype": "text/x-python",
   "name": "python",
   "nbconvert_exporter": "python",
   "pygments_lexer": "ipython3",
   "version": "3.6.5"
  }
 },
 "nbformat": 4,
 "nbformat_minor": 2
}
